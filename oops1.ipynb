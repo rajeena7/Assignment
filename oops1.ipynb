{
 "cells": [
  {
   "cell_type": "code",
   "execution_count": 3,
   "id": "b16be0bc-f6f8-4fcf-a922-a178ccc8bd7b",
   "metadata": {},
   "outputs": [],
   "source": [
    "oops_Assignment1"
   ]
  },
  {
   "cell_type": "code",
   "execution_count": null,
   "id": "ae23ca89-789f-4029-824c-badbaa477a2b",
   "metadata": {},
   "outputs": [],
   "source": [
    "#Problem 1: Bank Account Create a class representing a bank account with attributes like account number, account holder name, and balance. \n",
    "#Implement methods to deposit and withdraw money from the account."
   ]
  },
  {
   "cell_type": "code",
   "execution_count": 4,
   "id": "715b4419-c3cc-4d7d-9cbc-adcb5e658cc0",
   "metadata": {},
   "outputs": [],
   "source": [
    "class BankAccount:\n",
    "    \n",
    "    def __init__(self,account_num,account_holder,account_name,balance=0.0):\n",
    "        self.account_number=account_num\n",
    "        self.account_holder=account_holder\n",
    "        self.account_name=account_name\n",
    "        self.balance=balance\n",
    "        \n",
    "        \n",
    "    def deposit(self,amount):\n",
    "        if amount > 0:\n",
    "            self.balance +=amount\n",
    "            print(f\"Deposited Amount:{amount} , New balance :{self.balance}\")\n",
    "        else:\n",
    "            print(\"Invalid deposited amount\")\n",
    "            \n",
    "            \n",
    "    def withdraw(self,amount):\n",
    "        if 0 <amount<=self.balance:\n",
    "            self.balance-=amount\n",
    "            print(f\"Withdrew {amount}. New balance: {self.balance}\")\n",
    "        else:\n",
    "            print(\"Insufficient Balance\")\n",
    "            \n",
    "    def get_balance(self):\n",
    "        return self.balance\n",
    " \n",
    "            \n",
    "            "
   ]
  },
  {
   "cell_type": "code",
   "execution_count": 6,
   "id": "7090eb27-c5f3-4488-8fe4-188867659c19",
   "metadata": {},
   "outputs": [],
   "source": [
    "account1=BankAccount(1234567,\"raju\",\"sbi\",1500)"
   ]
  },
  {
   "cell_type": "code",
   "execution_count": 9,
   "id": "d5a80467-4f7a-4aa1-a754-9f4f48ec8eb2",
   "metadata": {},
   "outputs": [
    {
     "name": "stdout",
     "output_type": "stream",
     "text": [
      "Deposited Amount:1000 , New balance :2500\n"
     ]
    }
   ],
   "source": [
    "account1.deposit(1000)"
   ]
  },
  {
   "cell_type": "code",
   "execution_count": 11,
   "id": "beedb53c-6edd-4ead-a7f2-588cc3f36f7d",
   "metadata": {},
   "outputs": [
    {
     "name": "stdout",
     "output_type": "stream",
     "text": [
      "Withdrew 500. New balance: 2000\n"
     ]
    }
   ],
   "source": [
    "account1.withdraw(500)"
   ]
  },
  {
   "cell_type": "code",
   "execution_count": 12,
   "id": "daddc13e-405f-428f-9a3c-f683bfeb78ea",
   "metadata": {},
   "outputs": [
    {
     "data": {
      "text/plain": [
       "2000"
      ]
     },
     "execution_count": 12,
     "metadata": {},
     "output_type": "execute_result"
    }
   ],
   "source": [
    "account1.get_balance()"
   ]
  },
  {
   "cell_type": "code",
   "execution_count": null,
   "id": "e1254a0a-df46-445a-a20e-36e7b6161186",
   "metadata": {},
   "outputs": [],
   "source": [
    "#Problem 2: Employee Management Create a class representing an employee with attributes like employee ID, name, and salary. \n",
    "#Implement methods to calculate the yearly bonus and display employee details."
   ]
  },
  {
   "cell_type": "code",
   "execution_count": 27,
   "id": "bda49b43-a222-4ff8-93ff-8479672211f0",
   "metadata": {},
   "outputs": [],
   "source": [
    "class Employee():\n",
    "    \n",
    "    def __init__(self,employee_id,employee_name,salary):\n",
    "        self.id=employee_id\n",
    "        self.name=employee_name\n",
    "        self.salary=salary\n",
    "        \n",
    "        \n",
    "    def cal_yearly_bonus(self,bonus_percentage):\n",
    "        if 0 <=bonus_percentage <=100:\n",
    "            bonus_amount=(bonus_percentage/100)*self.salary\n",
    "            return bonus_amount\n",
    "        else:\n",
    "            print(\"Invalid bonus percentage. Please enter a value between 0 and 100.\")\n",
    "            return 0\n",
    "            \n",
    "            \n",
    "            \n",
    "    def display_details(self):\n",
    "        print(f\"Employee Id :{self.id}\")\n",
    "        print(f\"Employee Name :{self.name}\")\n",
    "        print(f\"Salary :{self.salary}\")\n",
    "        "
   ]
  },
  {
   "cell_type": "code",
   "execution_count": 28,
   "id": "5ba879aa-c698-48a2-a7eb-d2c51c9ac92c",
   "metadata": {},
   "outputs": [],
   "source": [
    "emp1=Employee(101,\"Raju\",45000)"
   ]
  },
  {
   "cell_type": "code",
   "execution_count": 33,
   "id": "08ff176c-89bc-454c-8ad3-de3d881d93e8",
   "metadata": {},
   "outputs": [
    {
     "name": "stdout",
     "output_type": "stream",
     "text": [
      "Employee Id :101\n",
      "Employee Name :Raju\n",
      "Salary :45000\n"
     ]
    }
   ],
   "source": [
    "emp1.display_details()"
   ]
  },
  {
   "cell_type": "code",
   "execution_count": 32,
   "id": "2ee30b8f-373c-4eaf-ab3b-98697ec26c4b",
   "metadata": {},
   "outputs": [
    {
     "data": {
      "text/plain": [
       "6750.0"
      ]
     },
     "execution_count": 32,
     "metadata": {},
     "output_type": "execute_result"
    }
   ],
   "source": [
    "emp1.cal_yearly_bonus(15)"
   ]
  },
  {
   "cell_type": "code",
   "execution_count": null,
   "id": "b6ccda4f-a96b-45fb-81aa-3c361aa952af",
   "metadata": {},
   "outputs": [],
   "source": [
    "#Problem 3: Vehicle Rental Create a class representing a vehicle rental system.\n",
    "#Implement methods to rent a vehicle, return a vehicle, and display available vehicles."
   ]
  },
  {
   "cell_type": "code",
   "execution_count": 10,
   "id": "682b2cf0-2dd9-4404-b86b-6669d3fa101a",
   "metadata": {},
   "outputs": [],
   "source": [
    "class Vehicle:\n",
    "    \n",
    "    def __init__(self,vehicle_id,vehicle_type,is_available=True):\n",
    "        self.vehicle_id=vehicle_id\n",
    "        self.vehicle_type=vehicle_type\n",
    "        self.is_available=is_available\n",
    "        \n",
    "        \n",
    "class VehicleRentalSystem:\n",
    "    def __init__(self):\n",
    "        self.vehicles = []    \n",
    "        \n",
    "    def add_vehicle(self, vehicle_id, vehicle_type):\n",
    "        vehicle = Vehicle(vehicle_id, vehicle_type)\n",
    "        self.vehicles.append(vehicle)\n",
    "            \n",
    "            \n",
    "    def rent_vehicle(self, vehicle_id):\n",
    "        for vehicle in self.vehicles:\n",
    "            if vehicle.vehicle_id == vehicle_id and vehicle.is_available:\n",
    "                vehicle.is_available = False\n",
    "                print(f\"Vehicle {vehicle_id} rented successfully.\")\n",
    "                return\n",
    "        print(f\"Vehicle {vehicle_id} is not available for rent.\")        \n",
    "            \n",
    "        \n",
    "    def return_vehicle(self, vehicle_id):\n",
    "        for vehicle in self.vehicles:\n",
    "            if vehicle.vehicle_id == vehicle_id and not vehicle.is_available:\n",
    "                vehicle.is_available = True\n",
    "                print(f\"Vehicle {vehicle_id} returned successfully.\")\n",
    "                return\n",
    "        print(f\"Invalid return. Vehicle {vehicle_id} was not rented or does not exist.\")   \n",
    "        \n",
    "    def display_available_vehicles(self):\n",
    "        available_vehicles = [vehicle for vehicle in self.vehicles if vehicle.is_available]\n",
    "        if available_vehicles:\n",
    "            print(\"Available Vehicles:\")\n",
    "            for vehicle in available_vehicles:\n",
    "                print(f\"{vehicle.vehicle_id} - {vehicle.vehicle_type}\")\n",
    "        else:\n",
    "            print(\"No vehicles available for rent.\")\n",
    "     "
   ]
  },
  {
   "cell_type": "code",
   "execution_count": 11,
   "id": "31873aa7-867f-4a95-970b-e54df1158b3d",
   "metadata": {},
   "outputs": [],
   "source": [
    "ren1=VehicleRentalSystem()"
   ]
  },
  {
   "cell_type": "code",
   "execution_count": 12,
   "id": "b29f9a44-7164-4664-b78d-92853c65efb4",
   "metadata": {},
   "outputs": [],
   "source": [
    "#adding a vechicle\n",
    "ren1.add_vehicle(\"01\",\"Toyota\")\n",
    "ren1.add_vehicle(\"02\",\"Ford\")\n",
    "ren1.add_vehicle(\"03\",\"Volvo\")"
   ]
  },
  {
   "cell_type": "code",
   "execution_count": 13,
   "id": "475dab1a-dced-4911-b421-e3576a1a58ca",
   "metadata": {},
   "outputs": [
    {
     "name": "stdout",
     "output_type": "stream",
     "text": [
      "Available Vehicles:\n",
      "01 - Toyota\n",
      "02 - Ford\n",
      "03 - Volvo\n"
     ]
    }
   ],
   "source": [
    "#display avaible vechile\n",
    "ren1.display_available_vehicles()"
   ]
  },
  {
   "cell_type": "code",
   "execution_count": 19,
   "id": "b0ecc4d5-232f-480e-ad18-4ebca5b27e0f",
   "metadata": {},
   "outputs": [
    {
     "name": "stdout",
     "output_type": "stream",
     "text": [
      "Vehicle 02 rented successfully.\n"
     ]
    }
   ],
   "source": [
    "#renting a vechile\n",
    "ren1.rent_vehicle(\"02\")"
   ]
  },
  {
   "cell_type": "code",
   "execution_count": 20,
   "id": "6c2ce275-1229-49f1-974e-a92cd3dd8345",
   "metadata": {},
   "outputs": [
    {
     "name": "stdout",
     "output_type": "stream",
     "text": [
      "Vehicle 02 returned successfully.\n"
     ]
    }
   ],
   "source": [
    "#returning vechile\n",
    "ren1.return_vehicle(\"02\")"
   ]
  },
  {
   "cell_type": "code",
   "execution_count": null,
   "id": "6ed1d526-fc4a-437c-91bc-582572b553ac",
   "metadata": {},
   "outputs": [],
   "source": [
    "#Problem 4: Library Catalog Create classes representing a library and a book. \n",
    "#Implement methods to add books to the library, borrow books, and display available books."
   ]
  },
  {
   "cell_type": "code",
   "execution_count": 93,
   "id": "a64194e2-84de-4d05-8862-4856403f1a70",
   "metadata": {},
   "outputs": [],
   "source": [
    "class Book:\n",
    "    \n",
    "    def __init__(self,book_id,book_name,author_name):\n",
    "        self.book_id=book_id\n",
    "        self.book_name=book_name\n",
    "        self.author_name=author_name\n",
    "        self.is_available = True\n",
    "        \n",
    "    def __str__(self):\n",
    "        availability = \"Available\" if self.is_available else \"Borrowed\"\n",
    "        return f\"{self.book_id} by {self.author_name} - {availability}\"   \n",
    "\n",
    "        \n",
    "class Library():\n",
    "    def __init__(self):\n",
    "        self.books = []           \n",
    "        \n",
    "        \n",
    "    def add_books(self,book): \n",
    "        self.books.append(book)\n",
    "        \n",
    "        \n",
    "    def  borrow_books(self,book_name):\n",
    "        for book in self.books:\n",
    "            if book.book_name==book_name and book.is_available:\n",
    "                book.is_available=False\n",
    "                print(f\"You have borrowed '{book_name}'.\")\n",
    "                return\n",
    "        print(f\"Book {book.book.name} is not available \")     \n",
    "        \n",
    "        \n",
    "    def display_books(self):\n",
    "        available_books=[book for book in self.books if book.is_available]\n",
    "        if available_books:\n",
    "            print(\"Available Books:\")\n",
    "            for book in available_books:\n",
    "                print(f\"{book.book_id} - {book.book_name} - {book.author_name}\")\n",
    "              \n",
    "       \n",
    "                    \n",
    "    "
   ]
  },
  {
   "cell_type": "code",
   "execution_count": 94,
   "id": "ace61b01-596a-489d-83df-ba45b991b083",
   "metadata": {},
   "outputs": [],
   "source": [
    "lib=Library()"
   ]
  },
  {
   "cell_type": "code",
   "execution_count": 95,
   "id": "70c13169-95b0-4bf8-aef0-36b5f18f46c7",
   "metadata": {},
   "outputs": [],
   "source": [
    "book1=Book(101,\"Making India Awesome\",\"Chetan Bhagat\")\n",
    "book2=Book(102,\"Think and Grow Rich\",\"Napoleon Hill\")\n",
    "book3=Book(103,\"As a Man Thinketh\",\" James Allen\")"
   ]
  },
  {
   "cell_type": "code",
   "execution_count": 96,
   "id": "51cb32f5-ca49-4573-bf41-d066febaf710",
   "metadata": {},
   "outputs": [],
   "source": [
    "lib.add_books(book1)\n",
    "lib.add_books(book2)\n",
    "lib.add_books(book3)"
   ]
  },
  {
   "cell_type": "code",
   "execution_count": 97,
   "id": "c09355dd-953a-4b91-8363-ee308b4d2214",
   "metadata": {},
   "outputs": [
    {
     "name": "stdout",
     "output_type": "stream",
     "text": [
      "Available Books:\n",
      "101 - Making India Awesome - Chetan Bhagat\n",
      "102 - Think and Grow Rich - Napoleon Hill\n",
      "103 - As a Man Thinketh -  James Allen\n"
     ]
    }
   ],
   "source": [
    "lib.display_books()"
   ]
  },
  {
   "cell_type": "code",
   "execution_count": 98,
   "id": "adbe5f9c-7c33-4642-8326-c32d1a906fd0",
   "metadata": {},
   "outputs": [
    {
     "name": "stdout",
     "output_type": "stream",
     "text": [
      "You have borrowed 'Think and Grow Rich'.\n"
     ]
    }
   ],
   "source": [
    "lib.borrow_books(\"Think and Grow Rich\")"
   ]
  },
  {
   "cell_type": "code",
   "execution_count": 99,
   "id": "c2c5e2bb-ca5b-4688-a16f-f5ea65504745",
   "metadata": {},
   "outputs": [
    {
     "name": "stdout",
     "output_type": "stream",
     "text": [
      "Available Books:\n",
      "101 - Making India Awesome - Chetan Bhagat\n",
      "103 - As a Man Thinketh -  James Allen\n"
     ]
    }
   ],
   "source": [
    "lib.display_books()"
   ]
  },
  {
   "cell_type": "code",
   "execution_count": null,
   "id": "1b8f6740-964f-4130-b47c-d5b8c2aa7df2",
   "metadata": {},
   "outputs": [],
   "source": [
    "#Problem 5: Product Inventory Create classes representing a product and an inventory system. \n",
    "#Implement methods to add products to the inventory, update product quantity, and display available products."
   ]
  },
  {
   "cell_type": "code",
   "execution_count": 68,
   "id": "0dda02d1-8f67-41ad-839b-3f93f7331744",
   "metadata": {},
   "outputs": [],
   "source": [
    "class Product:\n",
    "    def __init__(self,model_no,product_name,price,qty):\n",
    "        self.model_no=model_no\n",
    "        self.product_name=product_name\n",
    "        self.price=price\n",
    "        self.qty=qty\n",
    "        self.isavailable=True\n",
    "        \n",
    "        \n",
    "    def __str__(self):\n",
    "        return f\" (Model_No: {self.model_no})   {self.product_name}   - Price: rs{self.price:.2f}   - Quantity: {self.qty}\"\n",
    "        \n",
    "                 \n",
    "class Inventory:\n",
    "    def __init__(self):\n",
    "        self.product_list=[]\n",
    "        \n",
    "        \n",
    "    def add_product(self,product):\n",
    "        self.product_list.append(product)\n",
    "        \n",
    "        \n",
    "        \n",
    "    def update_product_qty(self,model_no,new_qty):\n",
    "        for product in self.product_list:\n",
    "            if product.model_no==model_no:\n",
    "                product.qty=new_qty\n",
    "                print(f\"Quantity for product '{product.product_name}' updated to {new_qty}.\")\n",
    "                return\n",
    "        print(f\"Product with ID {model_no} not found in the inventory.\")\n",
    "        \n",
    "        \n",
    "    def display_products(self):\n",
    "        if self.product_list:\n",
    "            print(\"Available Poducts:\")\n",
    "            for product in self.product_list:\n",
    "                print(product)\n",
    "        else:\n",
    "            print(\"No of products available in the inventory\")\n",
    "                  \n",
    "            \n",
    "        \n",
    "    \n",
    "    "
   ]
  },
  {
   "cell_type": "code",
   "execution_count": 69,
   "id": "a4329b5c-70ad-4a31-8ad8-87a853d8a1da",
   "metadata": {},
   "outputs": [],
   "source": [
    "inv=Inventory()\n"
   ]
  },
  {
   "cell_type": "code",
   "execution_count": 70,
   "id": "eadc9300-7d6d-4ffe-806f-5b808d2b80af",
   "metadata": {},
   "outputs": [],
   "source": [
    "pro1=Product(\"101\",\"Air conditioner\",27000,5)\n",
    "pro2=Product(\"102\",\"Air purifier\",15000,3)\n",
    "pro3=Product(\"103\",\"Bluetooth speaker\",6000,10)"
   ]
  },
  {
   "cell_type": "code",
   "execution_count": 71,
   "id": "387ca7ef-0e4a-48a6-a2ce-e055e7d48878",
   "metadata": {},
   "outputs": [],
   "source": [
    "inv.add_product(pro1)\n",
    "inv.add_product(pro2)\n",
    "inv.add_product(pro3)"
   ]
  },
  {
   "cell_type": "code",
   "execution_count": 72,
   "id": "8460ecee-99e2-4435-adae-01a1227bb7c4",
   "metadata": {},
   "outputs": [
    {
     "name": "stdout",
     "output_type": "stream",
     "text": [
      "Available Poducts:\n",
      " (Model_No: 101)   Air conditioner   - Price: rs27000.00   - Quantity: 5\n",
      " (Model_No: 102)   Air purifier   - Price: rs15000.00   - Quantity: 3\n",
      " (Model_No: 103)   Bluetooth speaker   - Price: rs6000.00   - Quantity: 10\n"
     ]
    }
   ],
   "source": [
    "inv.display_products()"
   ]
  },
  {
   "cell_type": "code",
   "execution_count": 73,
   "id": "c5039645-9c7b-43c8-85ad-99f48fb36b5c",
   "metadata": {},
   "outputs": [
    {
     "name": "stdout",
     "output_type": "stream",
     "text": [
      "Quantity for product 'Air purifier' updated to 5.\n"
     ]
    }
   ],
   "source": [
    "inv.update_product_qty(\"102\",5)"
   ]
  },
  {
   "cell_type": "code",
   "execution_count": 74,
   "id": "41b3535a-3a36-4070-998d-062676515e59",
   "metadata": {},
   "outputs": [
    {
     "name": "stdout",
     "output_type": "stream",
     "text": [
      "Available Poducts:\n",
      " (Model_No: 101)   Air conditioner   - Price: rs27000.00   - Quantity: 5\n",
      " (Model_No: 102)   Air purifier   - Price: rs15000.00   - Quantity: 5\n",
      " (Model_No: 103)   Bluetooth speaker   - Price: rs6000.00   - Quantity: 10\n"
     ]
    }
   ],
   "source": [
    "inv.display_products()"
   ]
  },
  {
   "cell_type": "code",
   "execution_count": null,
   "id": "ea9e9ba5-e31c-4d7d-a7e4-8586dcec2bdd",
   "metadata": {},
   "outputs": [],
   "source": [
    "#Problem 6: Shape Calculation Create a class representing a shape with attributes like length, width, and height.\n",
    "#Implement methods to calculate the area and perimeter of the shape."
   ]
  },
  {
   "cell_type": "code",
   "execution_count": 34,
   "id": "df875427-04df-4a5c-975d-6842e8394a4d",
   "metadata": {},
   "outputs": [],
   "source": [
    "class Shape:\n",
    "    def __init__(self,length=0,width=0,height=0):\n",
    "        self.length=length\n",
    "        self.width=width\n",
    "        self.height=height\n",
    "        \n",
    "        \n",
    "class Rectangle(Shape):\n",
    "    def calculate_area(self):\n",
    "        return self.length*self.width\n",
    "    \n",
    "    def calculate_perimeter(self):\n",
    "        return 2 * (self.length + self.width)\n",
    "\n",
    "\n",
    "class Triangle(Shape):\n",
    "    def calculate_area(self):\n",
    "        return (self.length * self.height)/2\n",
    "   \n",
    "\n",
    "    def calculate_perimeter(self):\n",
    "        return self.length + self.width + self.height\n",
    "        "
   ]
  },
  {
   "cell_type": "code",
   "execution_count": 35,
   "id": "06814efb-62a1-4be3-99f3-7d5728a96d13",
   "metadata": {},
   "outputs": [
    {
     "name": "stdout",
     "output_type": "stream",
     "text": [
      "Rectangle Area: 15\n",
      "Rectangle Perimeter: 16\n"
     ]
    }
   ],
   "source": [
    "rectangle = Rectangle(length=5, width=3)\n",
    "print(\"Rectangle Area:\", rectangle.calculate_area())\n",
    "print(\"Rectangle Perimeter:\", rectangle.calculate_perimeter())"
   ]
  },
  {
   "cell_type": "code",
   "execution_count": 36,
   "id": "3948fe92-f074-4a3d-86fb-d3bee9969030",
   "metadata": {},
   "outputs": [
    {
     "name": "stdout",
     "output_type": "stream",
     "text": [
      "Triangle Area: 7.5\n",
      "Triangle Perimeter: 12\n"
     ]
    }
   ],
   "source": [
    "triangle = Triangle(length=3, width=4, height=5)\n",
    "print(\"Triangle Area:\", triangle.calculate_area())\n",
    "print(\"Triangle Perimeter:\", triangle.calculate_perimeter())"
   ]
  },
  {
   "cell_type": "code",
   "execution_count": null,
   "id": "17a0fda1-c5cf-42b0-bab3-e971e7d346bc",
   "metadata": {},
   "outputs": [],
   "source": [
    "#Problem 7: Student Management Create a class representing a student with attributes like student ID, name, and grades.\n",
    "#Implement methods to calculate the average grade and display student details."
   ]
  },
  {
   "cell_type": "code",
   "execution_count": 44,
   "id": "f9287515-5be2-4f99-b7c1-364855358b26",
   "metadata": {},
   "outputs": [],
   "source": [
    "class Student():\n",
    "    def __init__(self,student_id,name,grades=[]):\n",
    "        self.student_id=student_id\n",
    "        self.name=name\n",
    "        self.grades=grades\n",
    "        \n",
    "        \n",
    "    def add_grades(self,grade):\n",
    "        self.grades.append(grade)\n",
    "        \n",
    "        \n",
    "    def cal_avg_grade(self):\n",
    "        if not self.grades:\n",
    "            return 0\n",
    "        return sum(self.grades)/len(self.grades)    \n",
    "    \n",
    "    def display_details(self):\n",
    "        print(f\"Student ID: {self.student_id}\")\n",
    "        print(f\"Name: {self.name}\")\n",
    "        print(\"Grades:\", self.grades)\n",
    "        print(f\"Average Grade: {self.cal_avg_grade()}\")\n",
    "        \n",
    "        \n",
    "      "
   ]
  },
  {
   "cell_type": "code",
   "execution_count": 53,
   "id": "ca008385-143f-4d9e-bb04-59392857cb0b",
   "metadata": {},
   "outputs": [],
   "source": [
    "student1 = Student(student_id=1, name=\"Raju\", grades=[91, 85, 75, 67])"
   ]
  },
  {
   "cell_type": "code",
   "execution_count": 54,
   "id": "69ed7c82-4681-4cb4-875a-8e81aea5e218",
   "metadata": {},
   "outputs": [
    {
     "name": "stdout",
     "output_type": "stream",
     "text": [
      "Student ID: 1\n",
      "Name: Raju\n",
      "Grades: [91, 85, 75, 67]\n",
      "Average Grade: 79.5\n"
     ]
    }
   ],
   "source": [
    "student1.display_details()"
   ]
  },
  {
   "cell_type": "code",
   "execution_count": 55,
   "id": "89cbd3ce-b518-4257-ad6c-46238b38ad74",
   "metadata": {},
   "outputs": [],
   "source": [
    "student1.add_grades(98)"
   ]
  },
  {
   "cell_type": "code",
   "execution_count": 56,
   "id": "7b9c8841-1b30-45da-9fa1-1f747d1ce373",
   "metadata": {},
   "outputs": [
    {
     "name": "stdout",
     "output_type": "stream",
     "text": [
      "Student ID: 1\n",
      "Name: Raju\n",
      "Grades: [91, 85, 75, 67, 98]\n",
      "Average Grade: 83.2\n"
     ]
    }
   ],
   "source": [
    "student1.display_details()"
   ]
  },
  {
   "cell_type": "code",
   "execution_count": 57,
   "id": "603ce510-8ee2-4244-9adb-bda0f20bf05a",
   "metadata": {},
   "outputs": [
    {
     "data": {
      "text/plain": [
       "83.2"
      ]
     },
     "execution_count": 57,
     "metadata": {},
     "output_type": "execute_result"
    }
   ],
   "source": [
    "student1.cal_avg_grade()"
   ]
  },
  {
   "cell_type": "code",
   "execution_count": null,
   "id": "36c8ab02-4aa2-4487-9a7b-3ce1909ac0c7",
   "metadata": {},
   "outputs": [],
   "source": [
    "#Problem 8: Email Management Create a class representing an email with attributes like sender, recipient, and subject. \n",
    "#Implement methods to send an email and display email details."
   ]
  },
  {
   "cell_type": "code",
   "execution_count": 1,
   "id": "ec96e8ef-f7d8-435b-ac77-a821aef8a234",
   "metadata": {},
   "outputs": [],
   "source": [
    "class Email:\n",
    "    def __init__(self,sender,recipient,subject,body=' '):\n",
    "        self.sender=sender\n",
    "        self.recipient=recipient\n",
    "        self.subject=subject\n",
    "        self.body=body\n",
    "        \n",
    "        \n",
    "    def send_email(self):\n",
    "        print(f\"Email sent from {self.sender} to {self.recipient}\")\n",
    "        \n",
    "    def display_details(self):\n",
    "        print(\"Email Details:\")\n",
    "        print(f\"Sender: {self.sender}\")\n",
    "        print(f\"Recipient: {self.recipient}\")\n",
    "        print(f\"Subject: {self.subject}\")\n",
    "        print(\"Body:\")\n",
    "        print(self.body)\n",
    "    "
   ]
  },
  {
   "cell_type": "code",
   "execution_count": 2,
   "id": "76566cd2-8385-43f4-a739-c1a0240d9f70",
   "metadata": {},
   "outputs": [],
   "source": [
    "email1=Email(sender=\"abc@gmail.com\",recipient=\"xyz@gmail.com\",subject=\"urgent\",body=\"Please check ur deadline\")"
   ]
  },
  {
   "cell_type": "code",
   "execution_count": 4,
   "id": "79656941-0c7d-4524-9908-d30972f218f9",
   "metadata": {},
   "outputs": [
    {
     "name": "stdout",
     "output_type": "stream",
     "text": [
      "Email sent from abc@gmail.com to xyz@gmail.com\n"
     ]
    }
   ],
   "source": [
    "email1.send_email()"
   ]
  },
  {
   "cell_type": "code",
   "execution_count": 5,
   "id": "cfe0c58f-1560-477b-b757-50f5046e5a4c",
   "metadata": {},
   "outputs": [
    {
     "name": "stdout",
     "output_type": "stream",
     "text": [
      "Email Details:\n",
      "Sender: abc@gmail.com\n",
      "Recipient: xyz@gmail.com\n",
      "Subject: urgent\n",
      "Body:\n",
      "Please check ur deadline\n"
     ]
    }
   ],
   "source": [
    "email1.display_details()"
   ]
  },
  {
   "cell_type": "code",
   "execution_count": null,
   "id": "a11fdb1b-b857-4212-90ec-e6a7cdf05e41",
   "metadata": {},
   "outputs": [],
   "source": [
    "#Problem 10: ToDo List Create a class representing a ToDo list with attributes like tasks and due dates.\n",
    "#Implement methods to add tasks, mark tasks as completed, and display pending tasks."
   ]
  },
  {
   "cell_type": "code",
   "execution_count": 33,
   "id": "123e5e5d-4df7-4aa8-a32a-38e5459b0f4a",
   "metadata": {},
   "outputs": [],
   "source": [
    "class ToDoList:\n",
    "    def __init__(self):\n",
    "        self.tasks=[]\n",
    "        \n",
    "        \n",
    "    def add_task(self,task,due_date):\n",
    "        new_task={'task': task,\n",
    "            'due_date': due_date,\n",
    "            'completed': False\n",
    "        }\n",
    "        \n",
    "        self.tasks.append(new_task)\n",
    "        print(f\"New task added: {task}\")\n",
    "        \n",
    "        \n",
    "        \n",
    "    def mark_task(self, task):\n",
    "            for i in self.tasks:\n",
    "                if i['task'] == task:\n",
    "                    i['completed'] = True\n",
    "                    print(f\"Task '{task}' marked as completed.\")\n",
    "                    return\n",
    "            print(f\"Task '{task}' not found in the ToDo list.\")  \n",
    "        \n",
    "        \n",
    "        \n",
    "    def display_pending_tasks(self):\n",
    "            pending_tasks = [task for task in self.tasks if not task['completed']]\n",
    "            if pending_tasks:\n",
    "                print(\"Pending Tasks:\")\n",
    "                for task in pending_tasks:\n",
    "                         print(f\"Task: {task['task']}\")\n",
    "                print(f\"Due Date: {task['due_date']}\")\n",
    "               \n",
    "               \n",
    "            else:\n",
    "                print(\"No pending tasks in the ToDo list.\")"
   ]
  },
  {
   "cell_type": "code",
   "execution_count": 34,
   "id": "f38a9876-8cc3-4e74-a2ed-9e3c70ac7a39",
   "metadata": {},
   "outputs": [],
   "source": [
    "todolist1=ToDoList()"
   ]
  },
  {
   "cell_type": "code",
   "execution_count": 35,
   "id": "42460483-96ee-4686-ae6e-2dd5a46d3577",
   "metadata": {},
   "outputs": [
    {
     "name": "stdout",
     "output_type": "stream",
     "text": [
      "New task added: Assignment\n",
      "New task added: Bill\n"
     ]
    }
   ],
   "source": [
    "todolist1. add_task(task=\"Assignment\",due_date=\"11-03-2024\")\n",
    "todolist1. add_task(task=\"Bill\",due_date=\"18-01-2024\")"
   ]
  },
  {
   "cell_type": "code",
   "execution_count": 36,
   "id": "adfb9a69-285d-4a20-b333-ef15dbb612c7",
   "metadata": {},
   "outputs": [
    {
     "name": "stdout",
     "output_type": "stream",
     "text": [
      "Task 'Bill' marked as completed.\n"
     ]
    }
   ],
   "source": [
    "todolist1. mark_task(task=\"Bill\")\n"
   ]
  },
  {
   "cell_type": "code",
   "execution_count": 37,
   "id": "fa38dd9e-132a-48d7-8891-52ed69f57390",
   "metadata": {},
   "outputs": [
    {
     "name": "stdout",
     "output_type": "stream",
     "text": [
      "Pending Tasks:\n",
      "Task: Assignment\n",
      "Due Date: 11-03-2024\n"
     ]
    }
   ],
   "source": [
    "todolist1. display_pending_tasks()"
   ]
  },
  {
   "cell_type": "code",
   "execution_count": null,
   "id": "ceaf03fb-2236-45c6-af64-24d00ec2449f",
   "metadata": {},
   "outputs": [],
   "source": []
  }
 ],
 "metadata": {
  "kernelspec": {
   "display_name": "Python 3 (ipykernel)",
   "language": "python",
   "name": "python3"
  },
  "language_info": {
   "codemirror_mode": {
    "name": "ipython",
    "version": 3
   },
   "file_extension": ".py",
   "mimetype": "text/x-python",
   "name": "python",
   "nbconvert_exporter": "python",
   "pygments_lexer": "ipython3",
   "version": "3.10.8"
  }
 },
 "nbformat": 4,
 "nbformat_minor": 5
}
