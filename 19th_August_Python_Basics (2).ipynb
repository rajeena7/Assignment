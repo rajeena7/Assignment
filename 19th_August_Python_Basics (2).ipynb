{
 "cells": [
  {
   "cell_type": "code",
   "execution_count": 2,
   "id": "bd036eab-a79d-4c6b-9032-2bd51f266ef0",
   "metadata": {},
   "outputs": [],
   "source": [
    "'''Assig Quest:1'''\n",
    "'''declaring two variables'''\n",
    "x,y=10,15"
   ]
  },
  {
   "cell_type": "code",
   "execution_count": 3,
   "id": "95c57ecb-082d-40be-b693-4313cf7069c0",
   "metadata": {},
   "outputs": [
    {
     "name": "stdout",
     "output_type": "stream",
     "text": [
      "10\n"
     ]
    }
   ],
   "source": [
    "print(x)"
   ]
  },
  {
   "cell_type": "code",
   "execution_count": 4,
   "id": "dfa5e730-b2c0-49cf-aed7-674654e050a1",
   "metadata": {},
   "outputs": [
    {
     "name": "stdout",
     "output_type": "stream",
     "text": [
      "15\n"
     ]
    }
   ],
   "source": [
    "print(y)"
   ]
  },
  {
   "cell_type": "code",
   "execution_count": 5,
   "id": "3c54d6f4-b6cd-4d4b-8d95-1ecb9d35a184",
   "metadata": {},
   "outputs": [],
   "source": [
    "'''swaping variables values'''\n",
    "x,y=y,x"
   ]
  },
  {
   "cell_type": "code",
   "execution_count": 6,
   "id": "b66adc48-ab2a-4d53-9c81-027d5bff371f",
   "metadata": {},
   "outputs": [
    {
     "name": "stdout",
     "output_type": "stream",
     "text": [
      "10\n"
     ]
    }
   ],
   "source": [
    "print(y)"
   ]
  },
  {
   "cell_type": "code",
   "execution_count": 7,
   "id": "de194b25-fe99-49ac-ba15-355724026c71",
   "metadata": {},
   "outputs": [
    {
     "name": "stdout",
     "output_type": "stream",
     "text": [
      "15\n"
     ]
    }
   ],
   "source": [
    "print(x)"
   ]
  },
  {
   "cell_type": "code",
   "execution_count": 8,
   "id": "5cbb2af3-1063-4718-a76b-7528f408959a",
   "metadata": {},
   "outputs": [
    {
     "name": "stdin",
     "output_type": "stream",
     "text": [
      " 45\n",
      " 25\n"
     ]
    }
   ],
   "source": [
    "'''Assig Quest:2'''\n",
    "\n",
    "'''assiging values of length and width from users'''\n",
    "length , width =int(input()) ,int(input())\n"
   ]
  },
  {
   "cell_type": "code",
   "execution_count": 9,
   "id": "5591dbb5-3c75-481a-9769-48038b3253b0",
   "metadata": {},
   "outputs": [
    {
     "name": "stdout",
     "output_type": "stream",
     "text": [
      "45\n"
     ]
    }
   ],
   "source": [
    "print(length)"
   ]
  },
  {
   "cell_type": "code",
   "execution_count": 10,
   "id": "04ca49e1-255d-4a75-addb-a7649989694d",
   "metadata": {},
   "outputs": [
    {
     "name": "stdout",
     "output_type": "stream",
     "text": [
      "25\n"
     ]
    }
   ],
   "source": [
    "print(width)"
   ]
  },
  {
   "cell_type": "code",
   "execution_count": 11,
   "id": "667ecbe6-eecd-4e39-b7ad-280fec375503",
   "metadata": {},
   "outputs": [],
   "source": [
    "'''calculating area of a rectangle'''\n",
    "area=length*width"
   ]
  },
  {
   "cell_type": "code",
   "execution_count": 12,
   "id": "63728b39-6972-4e81-8a6a-8b6642402a26",
   "metadata": {},
   "outputs": [
    {
     "name": "stdout",
     "output_type": "stream",
     "text": [
      "1125\n"
     ]
    }
   ],
   "source": [
    "print(area)"
   ]
  },
  {
   "cell_type": "code",
   "execution_count": 13,
   "id": "d9ff0719-8248-4491-8ba5-60b390f7f713",
   "metadata": {},
   "outputs": [
    {
     "name": "stdin",
     "output_type": "stream",
     "text": [
      " 32\n"
     ]
    }
   ],
   "source": [
    "'''Assig Quest:3'''\n",
    "'''assiging value of temparture as celsius from user'''\n",
    "C=int(input())\n"
   ]
  },
  {
   "cell_type": "code",
   "execution_count": 14,
   "id": "a6dabd64-c52f-4ce7-944f-001ad0e71a99",
   "metadata": {},
   "outputs": [],
   "source": [
    "'''converting celsius to fahrenheit'''\n",
    "F=(C*9/5)+32"
   ]
  },
  {
   "cell_type": "code",
   "execution_count": 15,
   "id": "7cedfa21-389f-4fbb-9c48-7e769efc1614",
   "metadata": {},
   "outputs": [
    {
     "name": "stdout",
     "output_type": "stream",
     "text": [
      "89.6\n"
     ]
    }
   ],
   "source": [
    "print(F)"
   ]
  },
  {
   "cell_type": "code",
   "execution_count": 16,
   "id": "03f6ba99-5705-4706-a920-667f0ba5c95f",
   "metadata": {},
   "outputs": [
    {
     "name": "stdin",
     "output_type": "stream",
     "text": [
      " Hello\n"
     ]
    }
   ],
   "source": [
    "'''Assig string based Quest:1'''\n",
    "'''assiging value of a string from users'''\n",
    "Name=input()\n"
   ]
  },
  {
   "cell_type": "code",
   "execution_count": 17,
   "id": "4ff5a421-88b3-4374-8a03-ee63a690be9a",
   "metadata": {},
   "outputs": [
    {
     "name": "stdout",
     "output_type": "stream",
     "text": [
      "Hello\n"
     ]
    }
   ],
   "source": [
    "print(Name)"
   ]
  },
  {
   "cell_type": "code",
   "execution_count": 18,
   "id": "05dc211d-0e39-486d-9420-c3b635578c93",
   "metadata": {},
   "outputs": [
    {
     "data": {
      "text/plain": [
       "5"
      ]
     },
     "execution_count": 18,
     "metadata": {},
     "output_type": "execute_result"
    }
   ],
   "source": [
    "'''finding the length of a string'''\n",
    "len(Name)"
   ]
  },
  {
   "cell_type": "code",
   "execution_count": 19,
   "id": "9f32b2e4-022e-44f9-80b6-37a77b4a363b",
   "metadata": {},
   "outputs": [],
   "source": [
    "'''assiging string value'''\n",
    "s='hello'"
   ]
  },
  {
   "cell_type": "code",
   "execution_count": 20,
   "id": "43c1c559-d612-4e8e-8ce8-94866df58eee",
   "metadata": {},
   "outputs": [
    {
     "data": {
      "text/plain": [
       "'hello'"
      ]
     },
     "execution_count": 20,
     "metadata": {},
     "output_type": "execute_result"
    }
   ],
   "source": [
    "s"
   ]
  },
  {
   "cell_type": "code",
   "execution_count": 21,
   "id": "494ed05a-b186-4fca-a442-4b49f2fc7f1f",
   "metadata": {},
   "outputs": [
    {
     "data": {
      "text/plain": [
       "'olleh'"
      ]
     },
     "execution_count": 21,
     "metadata": {},
     "output_type": "execute_result"
    }
   ],
   "source": [
    "'''Assig str Quest:3'''\n",
    "'''reversing the characters of a string'''\n",
    "s[::-1]"
   ]
  },
  {
   "cell_type": "code",
   "execution_count": 22,
   "id": "b7beaf9a-e142-4ac2-ac53-967409c5d08a",
   "metadata": {},
   "outputs": [
    {
     "name": "stdin",
     "output_type": "stream",
     "text": [
      " He llo Wor ld\n"
     ]
    }
   ],
   "source": [
    "'''Assig str Quest:5'''\n",
    "'''assigning input from users'''\n",
    "Name=input()\n"
   ]
  },
  {
   "cell_type": "code",
   "execution_count": 23,
   "id": "b5cdf6ae-e69e-459e-bd8f-230aefcad6df",
   "metadata": {},
   "outputs": [],
   "source": [
    "'''removing spaces from string'''\n",
    "New_Name=Name.replace(\" \",\"\")"
   ]
  },
  {
   "cell_type": "code",
   "execution_count": 24,
   "id": "640c8b1a-3b70-4e1a-97f4-b3ad07ab7148",
   "metadata": {},
   "outputs": [
    {
     "name": "stdout",
     "output_type": "stream",
     "text": [
      "HelloWorld\n"
     ]
    }
   ],
   "source": [
    "print(New_Name)"
   ]
  },
  {
   "cell_type": "code",
   "execution_count": null,
   "id": "92671cdb-409d-44d2-aecf-eda8ed4351b1",
   "metadata": {},
   "outputs": [],
   "source": [
    "#Create a program that takes a sentence from the user and counts the number\n",
    "#of vowels (a, e, i, o, u) in the string."
   ]
  },
  {
   "cell_type": "code",
   "execution_count": 59,
   "id": "9504137b-32ec-46a7-9fa8-0b99368f4af6",
   "metadata": {},
   "outputs": [
    {
     "name": "stdin",
     "output_type": "stream",
     "text": [
      "write a sentence  hello world\n"
     ]
    },
    {
     "name": "stdout",
     "output_type": "stream",
     "text": [
      "Number of vowels: 3\n"
     ]
    }
   ],
   "source": [
    "'''assig input from user'''\n",
    "sen=input(\"write a sentence \", ) \n",
    "'''inti variable to count vowels'''\n",
    "vow_count=0\n",
    "'''iterate each character in sentence and converting to lower case'''\n",
    "for i in sen:\n",
    "    char_lower=i.lower()\n",
    "    '''checking with if statement is character is vowel , if so then adding value'''\n",
    "    if char_lower in \"aeiou\":\n",
    "        vow_count+=1\n",
    "print(\"Number of vowels:\" ,vow_count)"
   ]
  },
  {
   "cell_type": "code",
   "execution_count": null,
   "id": "8677f914-f287-4e6d-9062-08c6bd0138e7",
   "metadata": {},
   "outputs": [],
   "source": [
    "#Given a string, reverse the order of characters using string slicing and print the reversed string."
   ]
  },
  {
   "cell_type": "code",
   "execution_count": 64,
   "id": "28b1b7bd-b1af-49b8-8aa5-eafba4174d66",
   "metadata": {},
   "outputs": [
    {
     "name": "stdin",
     "output_type": "stream",
     "text": [
      "enter a string: malayalam\n"
     ]
    },
    {
     "name": "stdout",
     "output_type": "stream",
     "text": [
      "the string is palindrome\n"
     ]
    }
   ],
   "source": [
    "'''assig input from user'''\n",
    "sen=input(\"enter a string:\" , )\n",
    "'''reversing the string'''\n",
    "reverse_str=sen[::-1]\n",
    "'''checking the backwardstring is equal to forward'''\n",
    "if sen==reverse_str:\n",
    "    print(\"the string is palindrome\")\n",
    "else:\n",
    "    print(\"the string is not palindrome\")"
   ]
  },
  {
   "cell_type": "code",
   "execution_count": null,
   "id": "28ccdac0-0c3c-41d2-9c57-e675d5c06b0a",
   "metadata": {},
   "outputs": [],
   "source": []
  }
 ],
 "metadata": {
  "kernelspec": {
   "display_name": "Python 3 (ipykernel)",
   "language": "python",
   "name": "python3"
  },
  "language_info": {
   "codemirror_mode": {
    "name": "ipython",
    "version": 3
   },
   "file_extension": ".py",
   "mimetype": "text/x-python",
   "name": "python",
   "nbconvert_exporter": "python",
   "pygments_lexer": "ipython3",
   "version": "3.10.8"
  }
 },
 "nbformat": 4,
 "nbformat_minor": 5
}
