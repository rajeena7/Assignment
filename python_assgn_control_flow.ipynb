{
 "cells": [
  {
   "cell_type": "code",
   "execution_count": 2,
   "id": "5a75799b-a613-4086-9d74-7d168deb45c2",
   "metadata": {},
   "outputs": [],
   "source": [
    "#1. Write a Python program to check if a given number is positive or negative."
   ]
  },
  {
   "cell_type": "code",
   "execution_count": 21,
   "id": "acd39570-6ac3-466a-bd5c-de376a93cc34",
   "metadata": {},
   "outputs": [
    {
     "name": "stdin",
     "output_type": "stream",
     "text": [
      "Enter a number: 15\n"
     ]
    },
    {
     "name": "stdout",
     "output_type": "stream",
     "text": [
      "The inputed number is positive\n"
     ]
    }
   ],
   "source": [
    "num=int(input(\"Enter a number:\"))  \n",
    "#checking whether postive or negative\n",
    "if num<0:\n",
    "    print(\"The inputed number is negative\")\n",
    "else:  \n",
    "    print(\"The inputed number is positive\")\n",
    "         "
   ]
  },
  {
   "cell_type": "code",
   "execution_count": 17,
   "id": "c19ce6c1-7775-4691-922f-582f428146ee",
   "metadata": {},
   "outputs": [],
   "source": [
    "#2. Create a program that determines if a person is eligible to vote based on their age."
   ]
  },
  {
   "cell_type": "code",
   "execution_count": 22,
   "id": "02980f11-a2b6-41c4-9397-fbf7cfb038bb",
   "metadata": {},
   "outputs": [
    {
     "name": "stdin",
     "output_type": "stream",
     "text": [
      "Enter the age: 27\n"
     ]
    },
    {
     "name": "stdout",
     "output_type": "stream",
     "text": [
      "The person is eligible for vote\n"
     ]
    }
   ],
   "source": [
    "age=int(input(\"Enter the age:\"))\n",
    "if age>=18:\n",
    "    print(\"The person is eligible for vote\")\n",
    "else:\n",
    "    print(\"The person is not eligible for vote\")\n",
    "        "
   ]
  },
  {
   "cell_type": "code",
   "execution_count": 20,
   "id": "9a0f8bf3-7a18-4a33-b77a-93ffd4ba99b5",
   "metadata": {},
   "outputs": [],
   "source": [
    "#3. Develop a program to find the maximum of two numbers using if-else statements."
   ]
  },
  {
   "cell_type": "code",
   "execution_count": 27,
   "id": "405b6887-450e-4cc2-95cf-a4549c8e835e",
   "metadata": {},
   "outputs": [
    {
     "name": "stdin",
     "output_type": "stream",
     "text": [
      "Enter the first number: 45\n",
      "Enter the second number: 2\n"
     ]
    },
    {
     "name": "stdout",
     "output_type": "stream",
     "text": [
      "The maximum number is: 45\n"
     ]
    }
   ],
   "source": [
    "num1=int(input(\"Enter the first number:\"))\n",
    "num2=int(input(\"Enter the second number:\"))\n",
    "if num1 < num2:\n",
    "    print(\"The maximum number is:\",num2)\n",
    "else:\n",
    "    print(\"The maximum number is:\",num1)\n",
    "\n"
   ]
  },
  {
   "cell_type": "code",
   "execution_count": 1,
   "id": "1cda632c-3259-4705-bfdf-d44a62a47819",
   "metadata": {},
   "outputs": [],
   "source": [
    "#4. Write a Python script to classify a given year as a leap year or not."
   ]
  },
  {
   "cell_type": "code",
   "execution_count": 4,
   "id": "11b68141-cf54-43d2-8539-b41ef2a51975",
   "metadata": {},
   "outputs": [
    {
     "name": "stdin",
     "output_type": "stream",
     "text": [
      "Enter a year: 2040\n"
     ]
    },
    {
     "name": "stdout",
     "output_type": "stream",
     "text": [
      "The year is leap year\n"
     ]
    }
   ],
   "source": [
    "year=int(input(\"Enter a year:\"))\n",
    "#checking its leap year or not\n",
    "if year%4==0:\n",
    "    print(\"The year is leap year\")\n",
    "else:\n",
    "    print(\"The year is not a leap year\")"
   ]
  },
  {
   "cell_type": "code",
   "execution_count": 5,
   "id": "4fa3f937-01e8-4ef2-b5b0-cd99f3855348",
   "metadata": {},
   "outputs": [],
   "source": [
    "#5. Create a program that checks whether a character is a vowel or a consonant."
   ]
  },
  {
   "cell_type": "code",
   "execution_count": 8,
   "id": "bfba85f5-c04f-4f4d-b6cf-16cb475b01e6",
   "metadata": {},
   "outputs": [
    {
     "name": "stdin",
     "output_type": "stream",
     "text": [
      "Enter a character: D\n"
     ]
    },
    {
     "name": "stdout",
     "output_type": "stream",
     "text": [
      "The character is constant\n"
     ]
    }
   ],
   "source": [
    "char=input(\"Enter a character:\")\n",
    "char.lower()\n",
    "#checking for vowels\n",
    "if (char=='a' or char=='e' or char==\"i\" or char==\"o\" or char==\"u\"):\n",
    "    print(\"The character is vowel\")\n",
    "else:\n",
    "    print(\"The character is constant\")"
   ]
  },
  {
   "cell_type": "code",
   "execution_count": 9,
   "id": "44106dc6-1d46-43eb-810d-9a460bf3e35e",
   "metadata": {},
   "outputs": [],
   "source": [
    "#6. Implement a program to determine whether a given number is even or odd."
   ]
  },
  {
   "cell_type": "code",
   "execution_count": 11,
   "id": "8561cf34-b596-4065-859f-bb8d87b30f78",
   "metadata": {},
   "outputs": [
    {
     "name": "stdin",
     "output_type": "stream",
     "text": [
      "Enter a number: 24\n"
     ]
    },
    {
     "name": "stdout",
     "output_type": "stream",
     "text": [
      "The number is even\n"
     ]
    }
   ],
   "source": [
    "num1=int(input(\"Enter a number:\"))\n",
    "#checking its even or odd\n",
    "if num1%2 == 0:\n",
    "    print(\"The number is even\")\n",
    "else:\n",
    "    print(\"The number is odd\")\n",
    "    \n"
   ]
  },
  {
   "cell_type": "code",
   "execution_count": 12,
   "id": "c1fc523e-7991-4749-845f-d2a376aa940a",
   "metadata": {},
   "outputs": [],
   "source": [
    "#7. Write a Python function to calculate the absolute value of a number without using the `abs()` function."
   ]
  },
  {
   "cell_type": "code",
   "execution_count": 5,
   "id": "736a5349-df49-47fd-adb3-c6187785718a",
   "metadata": {},
   "outputs": [],
   "source": [
    "def absolute_value(num):\n",
    "    #checking number is greater than or equal to zero\n",
    "    if num>=0:\n",
    "        return num\n",
    "    #if its negative number then converting to positive\n",
    "    else:\n",
    "        return -num\n",
    "    "
   ]
  },
  {
   "cell_type": "code",
   "execution_count": 7,
   "id": "0574f7b7-1209-47e8-a676-c4d9052865dc",
   "metadata": {},
   "outputs": [
    {
     "data": {
      "text/plain": [
       "28"
      ]
     },
     "execution_count": 7,
     "metadata": {},
     "output_type": "execute_result"
    }
   ],
   "source": [
    "absolute_value(-28)"
   ]
  },
  {
   "cell_type": "code",
   "execution_count": 8,
   "id": "e5d29cb0-2a29-4ef5-9eaa-bffaf4268bfb",
   "metadata": {},
   "outputs": [],
   "source": [
    "#8. Develop a program that determines the largest of three given numbers using if-else statements."
   ]
  },
  {
   "cell_type": "code",
   "execution_count": 2,
   "id": "460211e4-2ab4-4502-9f3c-1d8b19b841e3",
   "metadata": {},
   "outputs": [],
   "source": [
    "def largestnum(num1,num2,num3):\n",
    "    #checking for largest number\n",
    "    if num1>=num2 and num1>=num3:\n",
    "        return num1\n",
    "    if num2>=num3 and num2>=num3:\n",
    "        return num2\n",
    "    else:\n",
    "        return num3\n",
    "        "
   ]
  },
  {
   "cell_type": "code",
   "execution_count": 5,
   "id": "727cbea9-e8a1-4296-b983-e3a1bd2dede2",
   "metadata": {},
   "outputs": [
    {
     "name": "stdout",
     "output_type": "stream",
     "text": [
      "The largest number is: 5\n"
     ]
    }
   ],
   "source": [
    "res=largestnum(1,5,2)\n",
    "print(\"The largest number is:\",res)\n",
    "\n"
   ]
  },
  {
   "cell_type": "code",
   "execution_count": 6,
   "id": "81d84de8-6f7e-48fd-a2c7-756bf4073aee",
   "metadata": {},
   "outputs": [],
   "source": [
    "#9. Create a program that checks if a given string is a palindrome."
   ]
  },
  {
   "cell_type": "code",
   "execution_count": 29,
   "id": "c9c4bea7-f597-4bae-a2e6-b65c0c7a15b9",
   "metadata": {},
   "outputs": [],
   "source": [
    "def palindrome(text):\n",
    "    #reversing the string\n",
    "    rev=text[::-1]\n",
    "    #checking both strings are equal\n",
    "    if text==rev:\n",
    "        return \"The given string is palindrome\"\n",
    "    else:\n",
    "        return \"The given string is not palindrome\""
   ]
  },
  {
   "cell_type": "code",
   "execution_count": 30,
   "id": "2f4be4d5-b6d1-4155-a1ae-ce778ff22e93",
   "metadata": {},
   "outputs": [
    {
     "data": {
      "text/plain": [
       "'The given string is palindrome'"
      ]
     },
     "execution_count": 30,
     "metadata": {},
     "output_type": "execute_result"
    }
   ],
   "source": [
    "palindrome(\"refer\")\n"
   ]
  },
  {
   "cell_type": "code",
   "execution_count": 31,
   "id": "c5540541-5e62-460e-bcd1-5c31a3854480",
   "metadata": {},
   "outputs": [],
   "source": [
    "#10. Write a Python program to calculate the grade based on a student's score"
   ]
  },
  {
   "cell_type": "code",
   "execution_count": 35,
   "id": "0fadf2a1-45c8-4130-881d-3a3eeae4bd12",
   "metadata": {},
   "outputs": [],
   "source": [
    "#function for grade calculations\n",
    "def studentgrade(marks):\n",
    "    if marks >=90 or marks==100:\n",
    "        return \"The Grade is: A+\"\n",
    "    elif marks >=80 or marks==89:\n",
    "        return \"The Grade is: A\"\n",
    "    elif marks >=70 or marks==79:\n",
    "        return \"The Grade is: B+\"\n",
    "    elif marks >=60 or marks==69:\n",
    "        return \"The Grade is: B\"\n",
    "    elif marks >=50 or marks==59:\n",
    "        return \"The Grade is: C\"\n",
    "    else:\n",
    "        if marks <=49:    \n",
    "            return \"The Grade is: D\"\n",
    "        \n",
    "        "
   ]
  },
  {
   "cell_type": "code",
   "execution_count": 36,
   "id": "fe0cb37e-8073-4427-a220-078f26bae823",
   "metadata": {},
   "outputs": [
    {
     "data": {
      "text/plain": [
       "'The Grade is: B+'"
      ]
     },
     "execution_count": 36,
     "metadata": {},
     "output_type": "execute_result"
    }
   ],
   "source": [
    "studentgrade(78)"
   ]
  },
  {
   "cell_type": "code",
   "execution_count": 3,
   "id": "42a0e9ad-236a-4d39-9785-099256a5739c",
   "metadata": {},
   "outputs": [],
   "source": [
    "#12. Implement a program to determine if a triangle is equilateral, isosceles, or scalene."
   ]
  },
  {
   "cell_type": "code",
   "execution_count": 37,
   "id": "3413191f-40e7-4ed3-b3e8-7e9f1450aecf",
   "metadata": {},
   "outputs": [],
   "source": [
    "#function for checking triangle is equilateral, isosceles, or scalene \n",
    "def checktriangle(side1,side2,side3):\n",
    "    if side1==side2 and side2==side3:\n",
    "        return \"The triangle is equilateral\"\n",
    "    elif side1==side2 or side1==side3 or side2==side3:\n",
    "        return \"The triangle is isosceles\"          \n",
    "    else:  \n",
    "         return \"The triangel is scalene\""
   ]
  },
  {
   "cell_type": "code",
   "execution_count": 38,
   "id": "030131b5-5e39-4501-b429-0ab0a37afa3e",
   "metadata": {},
   "outputs": [
    {
     "data": {
      "text/plain": [
       "'The triangle is equilateral'"
      ]
     },
     "execution_count": 38,
     "metadata": {},
     "output_type": "execute_result"
    }
   ],
   "source": [
    "checktriangle(12,12,12)"
   ]
  },
  {
   "cell_type": "code",
   "execution_count": 39,
   "id": "a30125ed-926a-4cfd-a4e6-c5e6960f5897",
   "metadata": {},
   "outputs": [
    {
     "data": {
      "text/plain": [
       "'The triangle is isosceles'"
      ]
     },
     "execution_count": 39,
     "metadata": {},
     "output_type": "execute_result"
    }
   ],
   "source": [
    "checktriangle(12,12,10)"
   ]
  },
  {
   "cell_type": "code",
   "execution_count": 40,
   "id": "8de1ecfd-fdef-448b-8604-a697ebe4a6a4",
   "metadata": {},
   "outputs": [
    {
     "data": {
      "text/plain": [
       "'The triangel is scalene'"
      ]
     },
     "execution_count": 40,
     "metadata": {},
     "output_type": "execute_result"
    }
   ],
   "source": [
    "checktriangle(10,12,13)"
   ]
  },
  {
   "cell_type": "code",
   "execution_count": 22,
   "id": "b85071ad-a81a-481d-aefd-d30c1131e722",
   "metadata": {},
   "outputs": [],
   "source": [
    "#13. Develop a program that checks if a year is a leap year and also if it is a century year."
   ]
  },
  {
   "cell_type": "code",
   "execution_count": 42,
   "id": "5f52a3a4-30e9-4b78-8c83-cd3ac6dc63e6",
   "metadata": {},
   "outputs": [],
   "source": [
    "def checkyear(year):\n",
    "    #checking if its leap and century year\n",
    "    if year%4==0 and year%100==0:\n",
    "        print(f\"Entered year '{year}' is leap year and century year\")\n",
    "    else:\n",
    "          return year\n",
    "        \n",
    "    \n",
    "    "
   ]
  },
  {
   "cell_type": "code",
   "execution_count": 43,
   "id": "a6c765f9-ef42-454f-99f4-911d8a285f9e",
   "metadata": {},
   "outputs": [
    {
     "name": "stdout",
     "output_type": "stream",
     "text": [
      "Entered year '2000' is leap year and century year\n"
     ]
    }
   ],
   "source": [
    "checkyear(2000)"
   ]
  },
  {
   "cell_type": "code",
   "execution_count": 44,
   "id": "aeac3849-6a84-4200-8f72-f3335bda8834",
   "metadata": {},
   "outputs": [],
   "source": [
    "#14. Write a Python script to determine if a number is positive, negative, or zero."
   ]
  },
  {
   "cell_type": "code",
   "execution_count": 45,
   "id": "5a279a76-a30f-4bf8-acef-3ab2c9547375",
   "metadata": {},
   "outputs": [],
   "source": [
    "def checknumber(num):\n",
    "    #checking number is positive , negative or zero\n",
    "    if num>0:\n",
    "        return f\"The given number'{num}' is positive\"\n",
    "    elif num<0:\n",
    "        return f\"The given number'{num}' is negative\"\n",
    "    else:\n",
    "        return f\"The given number'{num}' is zero\"\n",
    "        "
   ]
  },
  {
   "cell_type": "code",
   "execution_count": 50,
   "id": "7c291515-5584-4e04-ac87-71edc15d3bc0",
   "metadata": {},
   "outputs": [
    {
     "data": {
      "text/plain": [
       "\"The given number'45' is positive\""
      ]
     },
     "execution_count": 50,
     "metadata": {},
     "output_type": "execute_result"
    }
   ],
   "source": [
    "checknumber(45)"
   ]
  },
  {
   "cell_type": "code",
   "execution_count": 1,
   "id": "a0fe8842-50dd-463f-b201-d45c77dddeb9",
   "metadata": {},
   "outputs": [],
   "source": [
    "#15. Create a program to check if a person is a teenager (between 13 and 19 years old)."
   ]
  },
  {
   "cell_type": "code",
   "execution_count": 16,
   "id": "4e0d9b86-a281-4dfa-851c-fbe3e350fdf3",
   "metadata": {},
   "outputs": [],
   "source": [
    "def teen(age):\n",
    "    #checking the age is between 13 and 19\n",
    "    if age>=13 and age<=19:\n",
    "        return \"The person is teenager\"\n",
    "    else:\n",
    "        return \"The person is not a teenager\""
   ]
  },
  {
   "cell_type": "code",
   "execution_count": 26,
   "id": "456f0e32-ca26-4625-81a5-4dc7e4f8cca7",
   "metadata": {},
   "outputs": [
    {
     "data": {
      "text/plain": [
       "'The person is teenager'"
      ]
     },
     "execution_count": 26,
     "metadata": {},
     "output_type": "execute_result"
    }
   ],
   "source": [
    "teen(15)"
   ]
  },
  {
   "cell_type": "code",
   "execution_count": 1,
   "id": "14a685b6-3418-4d6a-ad1e-6ec8efd4830c",
   "metadata": {},
   "outputs": [],
   "source": [
    "#16. Develop a program that determines the type of angle based on its measure (acute, obtuse, or right)."
   ]
  },
  {
   "cell_type": "code",
   "execution_count": 21,
   "id": "91009d15-1271-44c6-9bad-d7d390dc53fb",
   "metadata": {},
   "outputs": [],
   "source": [
    "def angle():  \n",
    "    measure=int(input(\"Enter the angle measure between 0 and 180:\"))\n",
    "    #checking the measures of the angle\n",
    "    if measure>0 and measure <90:\n",
    "        return \"Acute Angle\"\n",
    "    elif measure>90 and measure<180:\n",
    "        return \"Obtuse Angle\"\n",
    "    elif measure==90:\n",
    "        return \"Right Angle\"\n",
    "    elif measure==180:\n",
    "        return \"Straight Angle\"\n",
    "    else:\n",
    "        return \"The entered measure is wrong\"\n",
    "    \n",
    "    "
   ]
  },
  {
   "cell_type": "code",
   "execution_count": 24,
   "id": "68ef3236-07a6-4b51-8138-68be124190b5",
   "metadata": {},
   "outputs": [
    {
     "name": "stdin",
     "output_type": "stream",
     "text": [
      "Enter the angle measure between 0 and 180: 90\n"
     ]
    },
    {
     "data": {
      "text/plain": [
       "'Right Angle'"
      ]
     },
     "execution_count": 24,
     "metadata": {},
     "output_type": "execute_result"
    }
   ],
   "source": [
    "angle()"
   ]
  },
  {
   "cell_type": "code",
   "execution_count": null,
   "id": "8026c747-a242-4ac5-8ee3-fd8b4a3c472b",
   "metadata": {},
   "outputs": [],
   "source": [
    "#18. Implement a program to determine the day of the week based on a user-provided number (1 for Monday, 2 \n",
    "#for Tuesday, etc.)."
   ]
  },
  {
   "cell_type": "code",
   "execution_count": 17,
   "id": "fccdd505-72f7-48f4-85ec-11c7d2a4b98a",
   "metadata": {},
   "outputs": [],
   "source": [
    "def day_week():\n",
    "    num=int(input(\"Enter the number between 1 and 7:\"))\n",
    "    #checking for week\n",
    "    if num==1:\n",
    "        return \"Monday\"\n",
    "    elif num==2:\n",
    "        return \"Tuesday\"\n",
    "    elif num==3:\n",
    "        return \"Wednesday\"\n",
    "    elif num==4:\n",
    "        return \"Thursday\"\n",
    "    elif num==5:\n",
    "        return \"Friday\"\n",
    "    elif num==6:\n",
    "        return \"Saturday\"\n",
    "    elif num==7:\n",
    "        return \"Sunday\"\n",
    "    else:\n",
    "        return \"The entered number is wrong\""
   ]
  },
  {
   "cell_type": "code",
   "execution_count": 20,
   "id": "abd5feb9-f560-44d7-8e6f-3159976feaba",
   "metadata": {},
   "outputs": [
    {
     "name": "stdin",
     "output_type": "stream",
     "text": [
      "Enter the number between 1 and 7: 7\n"
     ]
    },
    {
     "data": {
      "text/plain": [
       "'Sunday'"
      ]
     },
     "execution_count": 20,
     "metadata": {},
     "output_type": "execute_result"
    }
   ],
   "source": [
    "day_week()\n"
   ]
  },
  {
   "cell_type": "code",
   "execution_count": 25,
   "id": "98352d28-2252-4fe4-a04a-59c161432dab",
   "metadata": {},
   "outputs": [],
   "source": [
    "#19. Create a program that determines if a year is a leap year and also if it is evenly divisible by 400."
   ]
  },
  {
   "cell_type": "code",
   "execution_count": 1,
   "id": "439ce419-f67c-4c56-b9a6-bed296823ba2",
   "metadata": {},
   "outputs": [],
   "source": [
    "def checky(year):\n",
    "    #checking if its leap year or not\n",
    "    if (year%4==0 and year%100!=0) or (year%400==0):\n",
    "        return \"Leap Year\"\n",
    "    else:\n",
    "        return \"Not Leap Year\"\n",
    "    \n",
    "        \n",
    "       \n",
    "        "
   ]
  },
  {
   "cell_type": "code",
   "execution_count": 2,
   "id": "5805d552-7b63-4739-be47-369c8dccc89b",
   "metadata": {},
   "outputs": [
    {
     "data": {
      "text/plain": [
       "'Leap Year'"
      ]
     },
     "execution_count": 2,
     "metadata": {},
     "output_type": "execute_result"
    }
   ],
   "source": [
    "checky(1984)"
   ]
  },
  {
   "cell_type": "code",
   "execution_count": 3,
   "id": "68562143-4e0e-4f28-a37d-6f94068339e6",
   "metadata": {},
   "outputs": [],
   "source": [
    "#20. Develop a program that checks if a given number is prime or not using nested if-else statements."
   ]
  },
  {
   "cell_type": "code",
   "execution_count": 15,
   "id": "b9e14c00-7f56-4df9-b06e-693129eaed7a",
   "metadata": {},
   "outputs": [],
   "source": [
    "def isprime(num):\n",
    "    if num > 1:\n",
    "        # Check for factors\n",
    "        for i in range(2, int(num**0.5) + 1):\n",
    "            if (num % i) == 0:\n",
    "                print(num, \"is not a prime number\")\n",
    "                break\n",
    "        else:\n",
    "            print(num, \"is a prime number\")\n",
    "    else:\n",
    "        print(num, \"is not a prime number\")\n",
    "\n",
    "                \n",
    "            "
   ]
  },
  {
   "cell_type": "code",
   "execution_count": 21,
   "id": "5222bca1-a70a-4164-8364-98bf3175b573",
   "metadata": {},
   "outputs": [
    {
     "name": "stdout",
     "output_type": "stream",
     "text": [
      "11 is a prime number\n"
     ]
    }
   ],
   "source": [
    "isprime(11)"
   ]
  },
  {
   "cell_type": "code",
   "execution_count": null,
   "id": "8f754237-ee2d-434f-b137-f555c1c5dd6f",
   "metadata": {},
   "outputs": [],
   "source": [
    "#21. Write a Python program to assign grades based on different ranges of scores using elif statements"
   ]
  },
  {
   "cell_type": "code",
   "execution_count": 22,
   "id": "236dc90f-cc8a-4592-b908-fc8a15cd5236",
   "metadata": {},
   "outputs": [],
   "source": [
    "#function for grade calculations\n",
    "def studentgrade(marks):\n",
    "    if marks >=90 or marks==100:\n",
    "        return \"The Grade is: A+\"\n",
    "    elif marks >=80 or marks==89:\n",
    "        return \"The Grade is: A\"\n",
    "    elif marks >=70 or marks==79:\n",
    "        return \"The Grade is: B+\"\n",
    "    elif marks >=60 or marks==69:\n",
    "        return \"The Grade is: B\"\n",
    "    elif marks >=50 or marks==59:\n",
    "        return \"The Grade is: C\"\n",
    "    else:\n",
    "        if marks <=49:    \n",
    "            return \"The Grade is: D\"\n",
    "        "
   ]
  },
  {
   "cell_type": "code",
   "execution_count": 23,
   "id": "3a382e62-7edb-4a03-8eae-dd75526c0f60",
   "metadata": {},
   "outputs": [
    {
     "data": {
      "text/plain": [
       "'The Grade is: A'"
      ]
     },
     "execution_count": 23,
     "metadata": {},
     "output_type": "execute_result"
    }
   ],
   "source": [
    "studentgrade(85)\n"
   ]
  },
  {
   "cell_type": "code",
   "execution_count": 24,
   "id": "921fd741-5611-4a75-ad0e-574cceee6973",
   "metadata": {},
   "outputs": [],
   "source": [
    "#22. Implement a program to determine the type of a triangle based on its angles."
   ]
  },
  {
   "cell_type": "code",
   "execution_count": 30,
   "id": "07a22c2f-a4ce-46af-b990-17f00c6305ce",
   "metadata": {},
   "outputs": [],
   "source": [
    "def triangle():  \n",
    "    measure=int(input(\"Enter the triangle measure between 0 and 180:\"))\n",
    "    #checking the measures of the angle\n",
    "    if measure>0 and measure <90:\n",
    "        return \"Acute Angle\"\n",
    "    elif measure>90 and measure<180:\n",
    "        return \"Obtuse Angle\"\n",
    "    elif measure==90:\n",
    "        return \"Right Angle\"\n",
    "    else:\n",
    "        return \"The entered measure is wrong\""
   ]
  },
  {
   "cell_type": "code",
   "execution_count": 31,
   "id": "394337a9-ae7c-425d-b5c1-cd9ca8fdbc2e",
   "metadata": {},
   "outputs": [
    {
     "name": "stdin",
     "output_type": "stream",
     "text": [
      "Enter the triangle measure between 0 and 180: 90\n"
     ]
    },
    {
     "data": {
      "text/plain": [
       "'Right Angle'"
      ]
     },
     "execution_count": 31,
     "metadata": {},
     "output_type": "execute_result"
    }
   ],
   "source": [
    "triangle()"
   ]
  },
  {
   "cell_type": "code",
   "execution_count": 32,
   "id": "d410ae12-6c35-4c0c-8c02-7ecb51f3da04",
   "metadata": {},
   "outputs": [
    {
     "name": "stdin",
     "output_type": "stream",
     "text": [
      "Enter the triangle measure between 0 and 180: 55\n"
     ]
    },
    {
     "data": {
      "text/plain": [
       "'Acute Angle'"
      ]
     },
     "execution_count": 32,
     "metadata": {},
     "output_type": "execute_result"
    }
   ],
   "source": [
    "triangle()"
   ]
  },
  {
   "cell_type": "code",
   "execution_count": 33,
   "id": "1f7823a1-45e9-4c59-a6f2-cd64a003c70a",
   "metadata": {},
   "outputs": [
    {
     "name": "stdin",
     "output_type": "stream",
     "text": [
      "Enter the triangle measure between 0 and 180: 175\n"
     ]
    },
    {
     "data": {
      "text/plain": [
       "'Obtuse Angle'"
      ]
     },
     "execution_count": 33,
     "metadata": {},
     "output_type": "execute_result"
    }
   ],
   "source": [
    "triangle()"
   ]
  },
  {
   "cell_type": "code",
   "execution_count": 34,
   "id": "313b26c5-46d6-4b87-b3e1-251e853f9978",
   "metadata": {},
   "outputs": [],
   "source": [
    "#23. Develop a program to categorize a given person's BMI into underweight, normal, overweight, or obese using \n",
    "#elif statements."
   ]
  },
  {
   "cell_type": "code",
   "execution_count": 2,
   "id": "a19a83cb-146d-42ee-93bb-ff5e21a9516d",
   "metadata": {},
   "outputs": [],
   "source": [
    "def bmi_cal(bmi):\n",
    "    #checking bmi\n",
    "    if bmi <18.5:\n",
    "        return \"Under Weight\"\n",
    "    elif (bmi >=18.5 and bmi <24.9):\n",
    "        return \"Normal Weight\"\n",
    "    elif (bmi >=24.9 and bmi <30):\n",
    "        return \"Over Weight\"\n",
    "    else: return \"Obesity\"\n",
    "    \n",
    "    "
   ]
  },
  {
   "cell_type": "code",
   "execution_count": 7,
   "id": "41b72e91-7904-4d24-8420-94d070ff26bb",
   "metadata": {},
   "outputs": [
    {
     "data": {
      "text/plain": [
       "'Normal Weight'"
      ]
     },
     "execution_count": 7,
     "metadata": {},
     "output_type": "execute_result"
    }
   ],
   "source": [
    "bmi_cal(23)\n"
   ]
  },
  {
   "cell_type": "code",
   "execution_count": 8,
   "id": "6b30b2ef-b437-44c7-9e9f-f39edea48ddb",
   "metadata": {},
   "outputs": [],
   "source": [
    "#24. Create a program that determines whether a given number is positive, negative, or zero using elif \n",
    "#statements."
   ]
  },
  {
   "cell_type": "code",
   "execution_count": 9,
   "id": "63f2d612-16e7-4985-9b4e-41db5cdf4e21",
   "metadata": {},
   "outputs": [],
   "source": [
    "def checknumber(num):\n",
    "    #checking number is positive , negative or zero\n",
    "    if num>0:\n",
    "        return f\"The given number'{num}' is positive\"\n",
    "    elif num<0:\n",
    "        return f\"The given number'{num}' is negative\"\n",
    "    else:\n",
    "        return f\"The given number'{num}' is zero\""
   ]
  },
  {
   "cell_type": "code",
   "execution_count": 10,
   "id": "995e4f9c-8157-42b2-ba12-f098b15551bd",
   "metadata": {},
   "outputs": [
    {
     "data": {
      "text/plain": [
       "\"The given number'-5' is negative\""
      ]
     },
     "execution_count": 10,
     "metadata": {},
     "output_type": "execute_result"
    }
   ],
   "source": [
    "checknumber(-5)"
   ]
  },
  {
   "cell_type": "code",
   "execution_count": null,
   "id": "02d7a9b1-ffbd-492b-b729-98e61d2240a5",
   "metadata": {},
   "outputs": [],
   "source": [
    "#25. Write a Python script to determine the type of a character (uppercase, lowercase, or special) using elif \n",
    "#statements."
   ]
  },
  {
   "cell_type": "code",
   "execution_count": 31,
   "id": "669b518b-8c59-41d6-945f-663d0b9e5e2a",
   "metadata": {},
   "outputs": [],
   "source": [
    "def char_type():\n",
    "    char=input(\"Enter a chacracter:\")\n",
    "    #checking for upper lower and special\n",
    "    if char.isupper():\n",
    "        return \"Upper Case\"\n",
    "    elif char.islower():\n",
    "        return \"Lower Case\"\n",
    "    else:\n",
    "        return \"Special Character\"\n",
    "  "
   ]
  },
  {
   "cell_type": "code",
   "execution_count": 35,
   "id": "b315cbce-b44d-4d7c-bef8-3941f190ac0a",
   "metadata": {},
   "outputs": [
    {
     "name": "stdin",
     "output_type": "stream",
     "text": [
      "Enter a chacracter: @\n"
     ]
    },
    {
     "data": {
      "text/plain": [
       "'Special Character'"
      ]
     },
     "execution_count": 35,
     "metadata": {},
     "output_type": "execute_result"
    }
   ],
   "source": [
    "char_type()\n"
   ]
  },
  {
   "cell_type": "code",
   "execution_count": null,
   "id": "bcaa5a3d-f2a6-4f18-995d-207039c0dcfe",
   "metadata": {},
   "outputs": [],
   "source": [
    "#26. Implement a program to calculate the discounted price based on different purchase amounts using elif \n",
    "#statements."
   ]
  },
  {
   "cell_type": "code",
   "execution_count": 32,
   "id": "d212bb62-194f-4fee-8557-de16df54239e",
   "metadata": {},
   "outputs": [],
   "source": [
    "def discount_cal():\n",
    "   \n",
    "    p=float(input(\"Enter purchase amount:\"))   \n",
    "    if p<=1000:\n",
    "        dis=0.1\n",
    "    \n",
    "    elif p<=2000:\n",
    "        dis=0.15\n",
    "    \n",
    "    elif p<=5000:\n",
    "        dis=0.2\n",
    "    \n",
    "    else:\n",
    "        dis=0.5\n",
    "        \n",
    "    Amt_saved=int(p*dis)\n",
    "    Discount_Amt=int(p-(p*dis))\n",
    "    \n",
    "    print(\"Amount Saved:\",Amt_saved)\n",
    "    print(\"Final Price:\",Discount_Amt)\n",
    "        "
   ]
  },
  {
   "cell_type": "code",
   "execution_count": 37,
   "id": "9cd47f62-e523-4d14-bed9-2c69dfa9f76b",
   "metadata": {},
   "outputs": [
    {
     "name": "stdin",
     "output_type": "stream",
     "text": [
      "Enter purchase amount: 5000\n"
     ]
    },
    {
     "name": "stdout",
     "output_type": "stream",
     "text": [
      "Amount Saved: 1000\n",
      "Final Price: 4000\n"
     ]
    }
   ],
   "source": [
    "discount_cal()\n"
   ]
  },
  {
   "cell_type": "code",
   "execution_count": null,
   "id": "c53d3564-6ac2-45e1-93fe-ca5c1c88c7f7",
   "metadata": {},
   "outputs": [],
   "source": [
    "#27  Create a program that simulates a basic ATM transaction menu"
   ]
  },
  {
   "cell_type": "code",
   "execution_count": 32,
   "id": "f50f4250-be0f-4412-a18d-11df5b26dab4",
   "metadata": {},
   "outputs": [
    {
     "name": "stdout",
     "output_type": "stream",
     "text": [
      "Welcome to State Bank Of India\n"
     ]
    },
    {
     "name": "stdin",
     "output_type": "stream",
     "text": [
      "Enter your pin: 1234\n"
     ]
    },
    {
     "name": "stdout",
     "output_type": "stream",
     "text": [
      "1-Withdraw\n",
      "2-Balance\n"
     ]
    },
    {
     "name": "stdin",
     "output_type": "stream",
     "text": [
      "Please choose transcations: 1\n",
      "Enter withdraw amount: 5000\n"
     ]
    },
    {
     "name": "stdout",
     "output_type": "stream",
     "text": [
      "Please collect your amount\n"
     ]
    }
   ],
   "source": [
    "#program for basic atm transcation\n",
    "print(\"Welcome to State Bank Of India\")\n",
    "\n",
    "pin=int(input(\"Enter your pin:\"))\n",
    "\n",
    "amt=50000   \n",
    "\n",
    "if(pin==1234): \n",
    "    print(\"1-Withdraw\")\n",
    "    print(\"2-Balance\")    \n",
    "    choose=int(input(\"Please choose transcations:\"))       \n",
    "    if(choose==1):  \n",
    "        with_draw=int(input(\"Enter withdraw amount:\"))      \n",
    "        if(with_draw<amt and with_draw% 100==0):   \n",
    "            print(\"Please collect your amount\")  \n",
    "        else:\n",
    "            print(\"Invalid amount\")          \n",
    "    elif(choose==2):  \n",
    "        print(\"Your Balance Amount:\",amt)  \n",
    "else: \n",
    "    print(\"Invalid Pin\")                      \n",
    "                                  \n",
    "       "
   ]
  },
  {
   "cell_type": "code",
   "execution_count": 33,
   "id": "21bf6e1d-8f57-4651-957d-8fb314086c4b",
   "metadata": {},
   "outputs": [],
   "source": [
    "#28 Write a program that calculates the average of a list of numbers, excluding the smallest and largest values."
   ]
  },
  {
   "cell_type": "code",
   "execution_count": 14,
   "id": "8db39685-4846-40c4-ba84-2f7d7d1a926f",
   "metadata": {},
   "outputs": [],
   "source": [
    "def avg_list(num):  \n",
    "    #removing the min and max of number in the list       \n",
    "    num.remove(min(num))\n",
    "    num.remove(max(num))\n",
    "    #calculating the average of the list exculding the min and max\n",
    "    avg=sum(num)/len(num)\n",
    "    \n",
    "    return avg\n",
    "\n",
    "   \n",
    "    "
   ]
  },
  {
   "cell_type": "code",
   "execution_count": 17,
   "id": "439b022c-6246-420c-a12e-2c2e5c8c7df4",
   "metadata": {},
   "outputs": [
    {
     "name": "stdout",
     "output_type": "stream",
     "text": [
      "The list: [4, 5, 6]\n",
      "The average of list of numbers: 5.0\n"
     ]
    }
   ],
   "source": [
    "num_list=[1,4,5,6,8]\n",
    "result=avg_list(num_list)\n",
    "\n",
    "print(\"The list:\",num_list)\n",
    "\n",
    "print(f\"The average of list of numbers:\", result)"
   ]
  },
  {
   "cell_type": "code",
   "execution_count": 1,
   "id": "1c0b3dfe-24e2-4544-b61d-391fe2c4652a",
   "metadata": {},
   "outputs": [],
   "source": [
    "# 29 Create a program that simulates a basic calculator for addition, subtraction, multiplication, and division."
   ]
  },
  {
   "cell_type": "code",
   "execution_count": 19,
   "id": "1a367290-8fb1-4b54-a0b8-18fc845655a4",
   "metadata": {},
   "outputs": [],
   "source": [
    "def calculator():\n",
    "    num1=int(input(\"Enter 1st number:\"))\n",
    "    num2=int(input(\"Enter 2nd number:\"))\n",
    "    \n",
    "    option=int(input(\"Choose the option:[Addition = 1 , Subtraction = 2 , Multiplication = 3 , Division = 4] :\")) \n",
    "    #based on option performing the calculations\n",
    "    if (option==1):\n",
    "        \n",
    "        add=num1+num2\n",
    "        print(add)\n",
    "        \n",
    "    elif (option==2):\n",
    "                       \n",
    "        sub=num1-num2\n",
    "        print(sub)\n",
    "        \n",
    "    elif (option==3):\n",
    "        \n",
    "        mul=num1*num2        \n",
    "        print(mul)\n",
    "        \n",
    "    elif (option==4):\n",
    "        \n",
    "        div=num1/num2\n",
    "        print(div)\n",
    "        \n",
    "    else:\n",
    "        print(\"Enter the wrong option\")                    \n",
    "          \n",
    "    "
   ]
  },
  {
   "cell_type": "code",
   "execution_count": 22,
   "id": "c4851be7-42fc-4780-8363-015d90e88045",
   "metadata": {},
   "outputs": [
    {
     "name": "stdin",
     "output_type": "stream",
     "text": [
      "Enter 1st number: 5\n",
      "Enter 2nd number: 5\n",
      "Choose the option:[Addition = 1 , Subtraction = 2 , Multiplication = 3 , Division = 4] : 3\n"
     ]
    },
    {
     "name": "stdout",
     "output_type": "stream",
     "text": [
      "25\n"
     ]
    }
   ],
   "source": [
    "calculator()"
   ]
  },
  {
   "cell_type": "code",
   "execution_count": null,
   "id": "ea237cdf-f557-463c-956a-bca0e600d826",
   "metadata": {},
   "outputs": [],
   "source": [
    "#30 create a program that validates a password based on complexity rules (length, characters, etc.)"
   ]
  },
  {
   "cell_type": "code",
   "execution_count": 27,
   "id": "a4b8ee8e-5177-491c-a9e8-e0a60782c947",
   "metadata": {},
   "outputs": [
    {
     "name": "stdin",
     "output_type": "stream",
     "text": [
      "Enter a password:  heLLo@1234\n"
     ]
    },
    {
     "name": "stdout",
     "output_type": "stream",
     "text": [
      "Password is valid\n"
     ]
    }
   ],
   "source": [
    "import re\n",
    "\n",
    "def check_valid_password(password):\n",
    "    # checking minimum length rule\n",
    "    if len(password) < 8:\n",
    "        return False\n",
    "\n",
    "    # checking for  Uppercase, lowercase, digit, and special character rules\n",
    "    if not any(char.isupper() for char in password):\n",
    "        return False\n",
    "    if not any(char.islower() for char in password):\n",
    "        return False\n",
    "    if not any(char.isdigit() for char in password):\n",
    "        return False\n",
    "    if not re.search(\"[!@#$%^&*(),.?\\\":{}|<>]\", password):\n",
    "        return False\n",
    "\n",
    "    return True\n",
    "\n",
    "password = input(\"Enter a password: \")\n",
    "if check_valid_password(password):\n",
    "    print(\"Password is valid\")\n",
    "else:\n",
    "    print(\"Password is not valid\")\n"
   ]
  },
  {
   "cell_type": "code",
   "execution_count": null,
   "id": "0f6fdc9a-4a24-4d39-8e0b-5a453e777a31",
   "metadata": {},
   "outputs": [],
   "source": []
  }
 ],
 "metadata": {
  "kernelspec": {
   "display_name": "Python 3 (ipykernel)",
   "language": "python",
   "name": "python3"
  },
  "language_info": {
   "codemirror_mode": {
    "name": "ipython",
    "version": 3
   },
   "file_extension": ".py",
   "mimetype": "text/x-python",
   "name": "python",
   "nbconvert_exporter": "python",
   "pygments_lexer": "ipython3",
   "version": "3.10.8"
  }
 },
 "nbformat": 4,
 "nbformat_minor": 5
}
