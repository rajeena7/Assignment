{
 "cells": [
  {
   "cell_type": "code",
   "execution_count": null,
   "id": "538e44b6-83a3-4b19-b0e0-568528234bda",
   "metadata": {},
   "outputs": [],
   "source": [
    "#List Based Practice Problem "
   ]
  },
  {
   "cell_type": "code",
   "execution_count": null,
   "id": "a3cbfa62-6d54-4d28-8a1f-e5cebb71b179",
   "metadata": {},
   "outputs": [],
   "source": [
    "#1. Create a list with integers from 1 to 10."
   ]
  },
  {
   "cell_type": "code",
   "execution_count": 6,
   "id": "5c12fc94-417e-490b-8dc2-30859d3f8c48",
   "metadata": {},
   "outputs": [
    {
     "name": "stdout",
     "output_type": "stream",
     "text": [
      "[1, 2, 3, 4, 5, 6, 7, 8, 9, 10]\n"
     ]
    }
   ],
   "source": [
    "#creating list of intergers by list comprehension method\n",
    "int_list=[i for i in range (1,11)]\n",
    "print(int_list)\n"
   ]
  },
  {
   "cell_type": "code",
   "execution_count": null,
   "id": "93019773-6509-47bb-8c9f-de30a9ae5864",
   "metadata": {},
   "outputs": [],
   "source": [
    "#2. Find the length of a list without using the len() function."
   ]
  },
  {
   "cell_type": "code",
   "execution_count": 12,
   "id": "73368a28-a8a7-4945-815e-17d7ac2d1816",
   "metadata": {},
   "outputs": [
    {
     "name": "stdout",
     "output_type": "stream",
     "text": [
      "The length of the list: 4\n"
     ]
    }
   ],
   "source": [
    "#creting list\n",
    "l=[1,2,3,5]\n",
    "count=0\n",
    "#iterating through for loop and getting length\n",
    "for i in l:\n",
    "    count=count+1\n",
    "print(\"The length of the list:\",count)"
   ]
  },
  {
   "cell_type": "code",
   "execution_count": null,
   "id": "bbe88c47-b7c1-4c12-86cf-796aa1f761fb",
   "metadata": {},
   "outputs": [],
   "source": [
    "#3. Append an element to the end of a list."
   ]
  },
  {
   "cell_type": "code",
   "execution_count": 16,
   "id": "ec076323-4c2f-4a89-aac3-798d5c0d4617",
   "metadata": {},
   "outputs": [
    {
     "name": "stdout",
     "output_type": "stream",
     "text": [
      "The list: [10, 20, 30, 40, 50]\n",
      "The updated list: [10, 20, 30, 40, 50, 60]\n"
     ]
    }
   ],
   "source": [
    "#creating a list\n",
    "l=[10,20,30,40,50]\n",
    "print(\"The list:\",l)\n",
    "#creaating a new variable and assiging value\n",
    "new_num=60\n",
    "#adding the new value to list by appending and printing the list\n",
    "l.append(new_num)\n",
    "print(\"The updated list:\",l)\n",
    "\n",
    "    "
   ]
  },
  {
   "cell_type": "code",
   "execution_count": null,
   "id": "e59b6f5d-9516-4833-a606-f120e7161d06",
   "metadata": {},
   "outputs": [],
   "source": [
    "#4. Insert an element at a specific index in a list."
   ]
  },
  {
   "cell_type": "code",
   "execution_count": 19,
   "id": "da14b806-79f9-4418-a176-905a64c514bd",
   "metadata": {},
   "outputs": [
    {
     "name": "stdout",
     "output_type": "stream",
     "text": [
      "The list: ['apple', 'orange', 'grapes']\n",
      "The Upadted specific index list: ['apple', 'mango', 'orange', 'grapes']\n"
     ]
    }
   ],
   "source": [
    "#Creating the list and printing \n",
    "l=[\"apple\",\"orange\",\"grapes\"]\n",
    "print(\"The list:\",l)\n",
    "#inserting in the 1 st index by using insert function\n",
    "l.insert(1,\"mango\")\n",
    "print(\"The Upadted specific index list:\",l)"
   ]
  },
  {
   "cell_type": "code",
   "execution_count": null,
   "id": "f78de44b-2ee3-433c-a600-d46c2c2c645e",
   "metadata": {},
   "outputs": [],
   "source": [
    "#5. Remove an element from a list by its value."
   ]
  },
  {
   "cell_type": "code",
   "execution_count": 22,
   "id": "82506cd7-3ca3-4fd6-a5e5-4373db05ca81",
   "metadata": {},
   "outputs": [
    {
     "name": "stdout",
     "output_type": "stream",
     "text": [
      "The list: [10, 20, 30, 40, 50, 60]\n",
      "The value removed from list: [10, 20, 30, 40, 60]\n"
     ]
    }
   ],
   "source": [
    "#creating the list and printing it\n",
    "l=[10,20,30,40,50,60]\n",
    "print(\"The list:\",l)\n",
    "#Removing the specific value from the list using remove function\n",
    "l.remove(50)\n",
    "print(\"The value removed from list:\",l)"
   ]
  },
  {
   "cell_type": "code",
   "execution_count": null,
   "id": "14da1b13-bffe-4657-b415-2888912388e8",
   "metadata": {},
   "outputs": [],
   "source": [
    "#6. Remove an element from a list by its index."
   ]
  },
  {
   "cell_type": "code",
   "execution_count": 4,
   "id": "7f5fd85d-eafc-4de5-a33d-3dea77d8a948",
   "metadata": {},
   "outputs": [
    {
     "name": "stdout",
     "output_type": "stream",
     "text": [
      "[10, 20, 30, 40, 50]\n",
      "The index to be removed: 3\n",
      "The list after removing the index: [10, 20, 30, 50]\n"
     ]
    }
   ],
   "source": [
    "list_ind=[10,20,30,40,50]\n",
    "print(list_ind)\n",
    "index_rem=3\n",
    "#poping up the element from the list\n",
    "remove_index=list_ind.pop(index_rem)\n",
    "print(\"The index to be removed:\",index_rem)\n",
    "print(\"The list after removing the index:\",list_ind)"
   ]
  },
  {
   "cell_type": "code",
   "execution_count": null,
   "id": "cab45989-c0b8-4e78-8c07-067a53fc239f",
   "metadata": {},
   "outputs": [],
   "source": [
    "#7. Check if an element exists in a list."
   ]
  },
  {
   "cell_type": "code",
   "execution_count": 5,
   "id": "a75d3e40-4bcc-4e0c-8262-4fdf30f40446",
   "metadata": {},
   "outputs": [
    {
     "name": "stdout",
     "output_type": "stream",
     "text": [
      "[10, 15, 20, 25, 30, 35]\n",
      "The element exist in the list: 15\n"
     ]
    }
   ],
   "source": [
    "ch_list=[10,15,20,25,30,35]\n",
    "print(ch_list)\n",
    "ele_exist=15\n",
    "#checking element exist in list or not\n",
    "if ele_exist in ch_list:\n",
    "    print(\"The element exist in the list is:\",ele_exist)\n",
    "else:\n",
    "    print(\"The element does not exist\")"
   ]
  },
  {
   "cell_type": "code",
   "execution_count": null,
   "id": "5cbeeb3e-5f85-4c7c-a676-bdad2db8eb42",
   "metadata": {},
   "outputs": [],
   "source": [
    "#8. Find the index of the first occurrence of an element in a list."
   ]
  },
  {
   "cell_type": "code",
   "execution_count": 10,
   "id": "3c89a12f-5b3c-48c6-b365-09438c8d0c7c",
   "metadata": {},
   "outputs": [
    {
     "name": "stdout",
     "output_type": "stream",
     "text": [
      "[10, 20, 30, 40, 50]\n",
      "The index of element to find 30 is: 2\n"
     ]
    }
   ],
   "source": [
    "in_list=[10,20,30,40,50]\n",
    "print(in_list)\n",
    "ele_find=30\n",
    "#finding the index of the element by index function and printing it\n",
    "index=in_list.index(ele_find)\n",
    "print(f\"The index of element to find {ele_find} is:\",index)\n"
   ]
  },
  {
   "cell_type": "code",
   "execution_count": null,
   "id": "b5e32b36-def3-49af-a63f-c0782b7265b5",
   "metadata": {},
   "outputs": [],
   "source": [
    "#9. Count the occurrences of an element in a list."
   ]
  },
  {
   "cell_type": "code",
   "execution_count": 12,
   "id": "c619902f-461f-4024-991f-f529a26c7d19",
   "metadata": {},
   "outputs": [
    {
     "name": "stdout",
     "output_type": "stream",
     "text": [
      "[10, 20, 40, 40, 50, 40, 60]\n",
      "The occurrences of 40 in the list is: 3\n"
     ]
    }
   ],
   "source": [
    "occ_list=[10,20,40,40,50,40,60]\n",
    "print(occ_list)\n",
    "find_ele=40\n",
    "#checking the occurrence of the element by count\n",
    "occ_ele=occ_list.count(find_ele)\n",
    "print(f\"The occurrences of {find_ele} in the list is:\",occ_ele)\n"
   ]
  },
  {
   "cell_type": "code",
   "execution_count": null,
   "id": "7cd97448-a1ec-4eb2-a757-b20a448b0aa8",
   "metadata": {},
   "outputs": [],
   "source": [
    "#10. Reverse the order of elements in a list."
   ]
  },
  {
   "cell_type": "code",
   "execution_count": 9,
   "id": "99d15c8e-1064-4974-92fc-4ddcf57a6c01",
   "metadata": {},
   "outputs": [
    {
     "name": "stdout",
     "output_type": "stream",
     "text": [
      "The orginal list: [10, 20, 30, 40]\n",
      "The reversed list is: [40, 30, 20, 10]\n"
     ]
    }
   ],
   "source": [
    "re_list=[10,20,30,40]\n",
    "print(\"The orginal list:\",re_list)\n",
    "#reversing the list\n",
    "re_list.reverse()\n",
    "print(\"The reversed list is:\",re_list)\n"
   ]
  },
  {
   "cell_type": "code",
   "execution_count": null,
   "id": "1edac61d-fce3-4c2d-af60-05a2a5d392e2",
   "metadata": {},
   "outputs": [],
   "source": [
    "#11. Sort a list in ascending order."
   ]
  },
  {
   "cell_type": "code",
   "execution_count": 6,
   "id": "5376254d-9dea-4145-abe5-24de9b4474fe",
   "metadata": {},
   "outputs": [
    {
     "name": "stdout",
     "output_type": "stream",
     "text": [
      "The orginal list: [50, 10, 80, 90, 20, 60]\n",
      "The sorted list: [10, 20, 50, 60, 80, 90]\n"
     ]
    }
   ],
   "source": [
    "sort_list=[50,10,80,90,20,60]\n",
    "print(\"The orginal list:\",sort_list)\n",
    "#sorting the list\n",
    "sort_list.sort()\n",
    "print(\"The sorted list:\" ,so_list)"
   ]
  },
  {
   "cell_type": "code",
   "execution_count": 5,
   "id": "df2b5924-b9d9-41fc-b04d-8c6653ae1631",
   "metadata": {},
   "outputs": [],
   "source": [
    "#12. Sort a list in descending order."
   ]
  },
  {
   "cell_type": "code",
   "execution_count": 7,
   "id": "cbdc44a5-dff1-4cbb-b835-14548ef98156",
   "metadata": {},
   "outputs": [
    {
     "name": "stdout",
     "output_type": "stream",
     "text": [
      "The orginal list: [50, 10, 40, 90, 70, 60]\n",
      "The list in descending order: [90, 70, 60, 50, 40, 10]\n"
     ]
    }
   ],
   "source": [
    "desort_list=[50,10,40,90,70,60]\n",
    "print(\"The orginal list:\",desort_list)\n",
    "\n",
    "#sorting the list in descending order\n",
    "desort_list.sort(reverse=True)\n",
    "print(\"The list in descending order:\",desort_list)\n"
   ]
  },
  {
   "cell_type": "code",
   "execution_count": 8,
   "id": "20b2fb64-3044-4d06-bb28-ef52f7720fee",
   "metadata": {},
   "outputs": [],
   "source": [
    "#13. Create a list of even numbers from 1 to 20."
   ]
  },
  {
   "cell_type": "code",
   "execution_count": 11,
   "id": "18174ec7-96ca-4f8a-b8b3-72802e999fa6",
   "metadata": {},
   "outputs": [
    {
     "name": "stdout",
     "output_type": "stream",
     "text": [
      "[2, 4, 6, 8, 10, 12, 14, 16, 18, 20]\n"
     ]
    }
   ],
   "source": [
    "even_numbers=[]\n",
    "#ierating through for loop and checking reminder 0 or not for even number\n",
    "for i in range(1,21):\n",
    "    if i%2==0:\n",
    "        even_numbers.append(i)\n",
    "print(even_numbers)"
   ]
  },
  {
   "cell_type": "code",
   "execution_count": 1,
   "id": "c3818e20-1ef4-4130-b9c3-e7fd2904110f",
   "metadata": {},
   "outputs": [],
   "source": [
    "#14. Create a list of odd numbers from 1 to 20."
   ]
  },
  {
   "cell_type": "code",
   "execution_count": 14,
   "id": "455dc37d-969e-47c2-8f9c-780074c04334",
   "metadata": {},
   "outputs": [
    {
     "name": "stdout",
     "output_type": "stream",
     "text": [
      "[1, 3, 5, 7, 9, 11, 13, 15, 17, 19]\n"
     ]
    }
   ],
   "source": [
    "odd_number=[]\n",
    "#ierating through for loop and checking reminder 0 or not for even number\n",
    "for i in range(1,21):\n",
    "        if i%2!=0:\n",
    "            odd_number.append(i)\n",
    "print(odd_number)"
   ]
  },
  {
   "cell_type": "code",
   "execution_count": 15,
   "id": "6a9b0d0f-1b78-4756-9dee-18f8adf4a365",
   "metadata": {},
   "outputs": [],
   "source": [
    "#15. Find the sum of all elements in a list."
   ]
  },
  {
   "cell_type": "code",
   "execution_count": 34,
   "id": "e630c84d-3d2a-4b2e-ad0e-50b9398acbc2",
   "metadata": {},
   "outputs": [
    {
     "name": "stdout",
     "output_type": "stream",
     "text": [
      "The sum of list: 30\n"
     ]
    }
   ],
   "source": [
    "all_list=[2,4,6,8,10]\n",
    "#calculating the sum of elements in the list\n",
    "sum_list=sum(all_list)\n",
    "print(\"The sum of list:\",sum_list)\n"
   ]
  },
  {
   "cell_type": "code",
   "execution_count": 35,
   "id": "1850c531-051b-4cc8-809e-5d822ff516f3",
   "metadata": {},
   "outputs": [],
   "source": [
    "#16. Find the maximum value in a list."
   ]
  },
  {
   "cell_type": "code",
   "execution_count": 37,
   "id": "26076e19-dd58-4e9f-8a77-9a24f73511a9",
   "metadata": {},
   "outputs": [
    {
     "name": "stdout",
     "output_type": "stream",
     "text": [
      "The maximum number is: 80\n"
     ]
    }
   ],
   "source": [
    "mlist=[10,50,20,30,80]\n",
    "#finding the maximum value in the list\n",
    "max_list=max(mlist)\n",
    "print(\"The maximum Value in the list:\",max_list)"
   ]
  },
  {
   "cell_type": "code",
   "execution_count": 38,
   "id": "4f49ee7e-4afe-49f8-a2dd-878894d9ea4f",
   "metadata": {},
   "outputs": [],
   "source": [
    "#17. Find the minimum value in a list."
   ]
  },
  {
   "cell_type": "code",
   "execution_count": 39,
   "id": "e9fa7d99-b19e-4d2f-98fc-b9ae6ffeba27",
   "metadata": {},
   "outputs": [
    {
     "name": "stdout",
     "output_type": "stream",
     "text": [
      "The minimum value in list: 10\n"
     ]
    }
   ],
   "source": [
    "mimlist=[10,20,40,80]\n",
    "#finding the minimum value in the list\n",
    "min_list=min(mimlist)\n",
    "print(\"The minimum value in list:\",min_list)"
   ]
  },
  {
   "cell_type": "code",
   "execution_count": 40,
   "id": "8ce4e3d9-6052-40f8-9d77-a0e23c61e8ca",
   "metadata": {},
   "outputs": [],
   "source": [
    "#18. Create a list of squares of numbers from 1 to 10."
   ]
  },
  {
   "cell_type": "code",
   "execution_count": 43,
   "id": "350ad051-bb84-4b90-b909-96694ca8b147",
   "metadata": {},
   "outputs": [
    {
     "name": "stdout",
     "output_type": "stream",
     "text": [
      "The list of square is: [1, 4, 9, 16, 25, 36, 49, 64, 81, 100]\n"
     ]
    }
   ],
   "source": [
    "square_list=[]\n",
    "#finding the square of numbers\n",
    "for i in range(1,11):\n",
    "    square_list.append(i*i)\n",
    "print(\"The list of square is:\" ,square_list)"
   ]
  },
  {
   "cell_type": "code",
   "execution_count": 44,
   "id": "f7403ae6-b03b-4026-8853-efa747478a83",
   "metadata": {},
   "outputs": [],
   "source": [
    "#19. Create a list of random numbers."
   ]
  },
  {
   "cell_type": "code",
   "execution_count": 2,
   "id": "abe629a7-d107-4c09-82c2-3fc8cd62d322",
   "metadata": {},
   "outputs": [
    {
     "name": "stdout",
     "output_type": "stream",
     "text": [
      "[5, 7, 10, 4, 8, 7, 9, 7, 4, 6]\n"
     ]
    }
   ],
   "source": [
    "#importing random module\n",
    "import random\n",
    "random_list=[]\n",
    "n=10\n",
    "#generating the random numbers by using randint () and appending in the list\n",
    "for i in range(n):\n",
    "    random_list.append(random.randint(4,10))\n",
    "print(random_list)\n",
    "                       \n",
    "                       \n"
   ]
  },
  {
   "cell_type": "code",
   "execution_count": 1,
   "id": "2b1ed770-b93f-48c1-9cdc-5cf432e6d646",
   "metadata": {},
   "outputs": [],
   "source": [
    "#20. Remove duplicates from a list."
   ]
  },
  {
   "cell_type": "code",
   "execution_count": 2,
   "id": "04c59c35-426f-4561-9d42-2ea2853c2bc3",
   "metadata": {},
   "outputs": [
    {
     "name": "stdout",
     "output_type": "stream",
     "text": [
      "The orginal list [10, 10, 20, 30, 50, 50, 60]\n",
      "The list after removing duplicates [10, 50, 20, 60, 30]\n"
     ]
    }
   ],
   "source": [
    "rl=[10,10,20,30,50,50,60]\n",
    "print(\"The orginal list\" , rl)\n",
    "#removing duplicates by coverting to set\n",
    "unq_list=list(set(rl))\n",
    "print(\"The list after removing duplicates\", unq_list)\n",
    "\n"
   ]
  },
  {
   "cell_type": "code",
   "execution_count": 3,
   "id": "cc4ec134-31f3-4b1c-b965-cf09c97cea6c",
   "metadata": {},
   "outputs": [],
   "source": [
    "#21. Find the common elements between two lists."
   ]
  },
  {
   "cell_type": "code",
   "execution_count": 4,
   "id": "b1138e9b-cce3-45b5-a9a3-48615c5bc9ac",
   "metadata": {},
   "outputs": [
    {
     "name": "stdout",
     "output_type": "stream",
     "text": [
      "[10, 20, 30, 40, 50, 50]\n",
      "[10, 20, 45, 35, 50, 65]\n",
      "The common elements: [10, 20, 50, 50]\n"
     ]
    }
   ],
   "source": [
    "li1=[10,20,30,40,50,50]\n",
    "li2=[10,20,45,35,50,65]\n",
    "print(li1)\n",
    "print(li2)\n",
    "#checking the common elements using list comprehension\n",
    "common_num=[i for i in li1 if i in li2]\n",
    "print(\"The common elements:\",common_num)\n",
    "        \n"
   ]
  },
  {
   "cell_type": "code",
   "execution_count": 5,
   "id": "6d8df81e-8663-4bcc-aa3b-eb2f4dddbd09",
   "metadata": {},
   "outputs": [],
   "source": [
    "#22. Find the difference between two lists."
   ]
  },
  {
   "cell_type": "code",
   "execution_count": 7,
   "id": "34eae9cd-75dd-4750-978e-0087d5656c5f",
   "metadata": {},
   "outputs": [
    {
     "name": "stdout",
     "output_type": "stream",
     "text": [
      "[10, 20, 30, 40, 50]\n",
      "[10, 15, 25, 20, 30]\n",
      "The differnce is: [50, 40]\n"
     ]
    }
   ],
   "source": [
    "l1=[10,20,30,40,50]\n",
    "l2=[10,15,25,20,30]\n",
    "print(l1)\n",
    "print(l2)\n",
    "#finding the differnce two list by using differnce method\n",
    "diff=list(set(l1).difference(l2))\n",
    "print(\"The differnce is:\",diff)"
   ]
  },
  {
   "cell_type": "code",
   "execution_count": 8,
   "id": "ee0e21d5-409f-4762-9993-6f9c13324d54",
   "metadata": {},
   "outputs": [],
   "source": [
    "#23. Merge two lists."
   ]
  },
  {
   "cell_type": "code",
   "execution_count": 9,
   "id": "adfbf00b-20e3-49f3-b254-fb8ce0ae60eb",
   "metadata": {},
   "outputs": [
    {
     "name": "stdout",
     "output_type": "stream",
     "text": [
      "[10, 20, 30, 40, 50]\n",
      "[15, 25, 35, 45, 55]\n",
      "The merge list is: [10, 20, 30, 40, 50, 15, 25, 35, 45, 55]\n"
     ]
    }
   ],
   "source": [
    "lm1=[10,20,30,40,50]\n",
    "lm2=[15,25,35,45,55]\n",
    "print(lm1)\n",
    "print(lm2)\n",
    "#merging the list by adding the list\n",
    "merge_list=lm1+lm2\n",
    "print(\"The merge list is:\", merge_list)"
   ]
  },
  {
   "cell_type": "code",
   "execution_count": 10,
   "id": "41a6ae7b-cd4f-415d-922a-8bf76ba05e43",
   "metadata": {},
   "outputs": [],
   "source": [
    "#24. Multiply all elements in a list by 2."
   ]
  },
  {
   "cell_type": "code",
   "execution_count": 6,
   "id": "71ed323e-fd68-499f-9431-42d95c081dbb",
   "metadata": {},
   "outputs": [
    {
     "name": "stdout",
     "output_type": "stream",
     "text": [
      "[2, 3, 4, 5, 6, 8]\n",
      "The new list [4, 6, 8, 10, 12, 16]\n"
     ]
    }
   ],
   "source": [
    "ml=[2,3,4,5,6,8]\n",
    "print(ml)\n",
    "new_list=[]\n",
    "#iterating through each element and multipling by 2\n",
    "for i in ml:\n",
    "    i=i*2\n",
    "    #appending to the new list\n",
    "    new_list.append(i)\n",
    "print(\"The new list\", new_list)\n",
    "    "
   ]
  },
  {
   "cell_type": "code",
   "execution_count": 7,
   "id": "028ee78c-843e-4951-8823-9ae0af937334",
   "metadata": {},
   "outputs": [],
   "source": [
    "#25. Filter out all even numbers from a list."
   ]
  },
  {
   "cell_type": "code",
   "execution_count": 11,
   "id": "420e2d16-2f22-455c-9175-f9921ebc6bb9",
   "metadata": {},
   "outputs": [
    {
     "name": "stdout",
     "output_type": "stream",
     "text": [
      "[2, 5, 4, 8, 10, 13, 14, 15]\n",
      "The even removed list: [5, 13, 15]\n"
     ]
    }
   ],
   "source": [
    "l1=[2,5,4,8,10,13,14,15]\n",
    "print(l1)\n",
    "l2=[]\n",
    "#iterating through each element and checking its not divisble by 2\n",
    "for i in l1:\n",
    "    if i%2!=0:\n",
    "        l2.append(i)\n",
    "print(\"The even removed list:\", l2)"
   ]
  },
  {
   "cell_type": "code",
   "execution_count": 10,
   "id": "b0ce1fc3-2ba1-430c-b188-34efd166aac9",
   "metadata": {},
   "outputs": [],
   "source": [
    "#26. Convert a list of strings to a list of integers."
   ]
  },
  {
   "cell_type": "code",
   "execution_count": 19,
   "id": "78078fa8-2b10-419f-971b-a7f155909c4d",
   "metadata": {},
   "outputs": [
    {
     "name": "stdout",
     "output_type": "stream",
     "text": [
      "The string list: ['10', '20', '50', '30', '40']\n",
      "The integer list: [10, 20, 50, 30, 40]\n"
     ]
    }
   ],
   "source": [
    "string_list=[\"10\",\"20\",\"50\",\"30\",\"40\"]\n",
    "print(\"The string list:\",string_list)\n",
    "#converting list of strings into list of intergers using list comprehensions\n",
    "int_list=[int(i) for i in string_list]\n",
    "print(\"The integer list:\", int_list)\n",
    "      \n"
   ]
  },
  {
   "cell_type": "code",
   "execution_count": 20,
   "id": "e1802af9-96e7-4570-a901-d2bfb08b5d96",
   "metadata": {},
   "outputs": [],
   "source": [
    "#27. Convert a list of integers to a list of strings."
   ]
  },
  {
   "cell_type": "code",
   "execution_count": 22,
   "id": "1c112ed8-58e8-4c96-84ea-bf56122df193",
   "metadata": {},
   "outputs": [
    {
     "name": "stdout",
     "output_type": "stream",
     "text": [
      "The interger list: [10, 20, 30, 40, 50]\n",
      "The string list: ['10', '20', '30', '40', '50']\n"
     ]
    }
   ],
   "source": [
    "int_list=[10,20,30,40,50]\n",
    "print(\"The interger list:\",int_list)\n",
    "#converting the interger list into string list by list comprehension\n",
    "string_list=[str(i) for i in int_list]\n",
    "print(\"The string list:\",string_list)"
   ]
  },
  {
   "cell_type": "code",
   "execution_count": 23,
   "id": "83baa9d6-0c6d-4f66-a1e8-62bfd1685170",
   "metadata": {},
   "outputs": [],
   "source": [
    "#29. Create a list of the first 10 Fibonacci numbers."
   ]
  },
  {
   "cell_type": "code",
   "execution_count": 30,
   "id": "ca905e13-92d4-4fa5-9b84-85e251832d75",
   "metadata": {},
   "outputs": [],
   "source": [
    "def fib(n):\n",
    "    #initizing first two fib numbers\n",
    "    fib_list=[0,1]\n",
    "    #generating the fib numbers by formula fn=fn-1+ fn-2 and appending the elements in thr fib list\n",
    "    for i in range(2,n):\n",
    "        next_fib=fib_list[i-1] + fib_list[i-2]\n",
    "        fib_list.append(next_fib)\n",
    "        \n",
    "    return fib_list"
   ]
  },
  {
   "cell_type": "code",
   "execution_count": 31,
   "id": "bff76a2b-6e38-47d3-98df-a900c34aaaae",
   "metadata": {},
   "outputs": [
    {
     "data": {
      "text/plain": [
       "[0, 1, 1, 2, 3, 5, 8, 13, 21, 34]"
      ]
     },
     "execution_count": 31,
     "metadata": {},
     "output_type": "execute_result"
    }
   ],
   "source": [
    "fib(10)"
   ]
  },
  {
   "cell_type": "code",
   "execution_count": 1,
   "id": "fe1c15bb-a8c1-48f9-8fcf-57d9511f5d48",
   "metadata": {},
   "outputs": [],
   "source": [
    "# 30. Check if a list is sorted."
   ]
  },
  {
   "cell_type": "code",
   "execution_count": 7,
   "id": "4768c652-886e-4a55-8e4a-1e6be8ca2d49",
   "metadata": {},
   "outputs": [],
   "source": [
    "def ascen_sort(l1):\n",
    "    #checking the list is in ascending order or not\n",
    "    for i in range(1,len(l1)):\n",
    "        if l1[i]<l1[i-1]:\n",
    "            return False\n",
    "    return True\n",
    "                   \n",
    "                         "
   ]
  },
  {
   "cell_type": "code",
   "execution_count": 8,
   "id": "d8b4821f-3762-47c4-9ffc-fe1393e9278b",
   "metadata": {},
   "outputs": [
    {
     "data": {
      "text/plain": [
       "False"
      ]
     },
     "execution_count": 8,
     "metadata": {},
     "output_type": "execute_result"
    }
   ],
   "source": [
    "ascen_sort([10,50,40,30])\n"
   ]
  },
  {
   "cell_type": "code",
   "execution_count": 32,
   "id": "94fc99ab-0e69-463e-bf1e-fa7ca899fee8",
   "metadata": {},
   "outputs": [],
   "source": [
    "#35. Find the second largest number in a list."
   ]
  },
  {
   "cell_type": "code",
   "execution_count": 34,
   "id": "0df03e07-9861-4e36-8d1d-88b4e5602395",
   "metadata": {},
   "outputs": [
    {
     "name": "stdout",
     "output_type": "stream",
     "text": [
      "second largest number: 25\n"
     ]
    }
   ],
   "source": [
    "l1=[10,20,15,25,45]\n",
    "#removing duplicates and sorting the list\n",
    "sort_list=sorted(set(l1))\n",
    "#checking the second largest number in the list\n",
    "if len(sort_list)>=2:\n",
    "    sec_lar=sort_list[-2]\n",
    "    print(\"second largest number:\",sec_lar)\n",
    "else:\n",
    "    print(\"The list not contain elements\")\n",
    "    \n",
    "        "
   ]
  },
  {
   "cell_type": "code",
   "execution_count": 2,
   "id": "b6b4eeec-b7ea-48f4-b38a-d9a1bd378612",
   "metadata": {},
   "outputs": [],
   "source": [
    "#36. Replace every element in a list with its square."
   ]
  },
  {
   "cell_type": "code",
   "execution_count": 3,
   "id": "ccde5bd8-b27d-43ce-a120-b57dd10ed062",
   "metadata": {},
   "outputs": [
    {
     "name": "stdout",
     "output_type": "stream",
     "text": [
      "[2, 4, 6, 8, 10]\n",
      "The square list: [4, 16, 36, 64, 100]\n"
     ]
    }
   ],
   "source": [
    "m_list=[2,4,6,8,10]\n",
    "print(m_list)\n",
    "#finding the square of numbers using list comprehension\n",
    "squ_list=[i**2 for i in m_list]\n",
    "print(\"The square list:\",squ_list)"
   ]
  },
  {
   "cell_type": "code",
   "execution_count": 4,
   "id": "98440ec4-9e74-4dae-9dde-99aa3eae300c",
   "metadata": {},
   "outputs": [],
   "source": [
    "#37. Convert a list to a dictionary where list elements become keys and their indices become values."
   ]
  },
  {
   "cell_type": "code",
   "execution_count": 5,
   "id": "563bb3a6-22ce-45ed-94da-a5812086864f",
   "metadata": {},
   "outputs": [
    {
     "name": "stdout",
     "output_type": "stream",
     "text": [
      "The dictionary: {'rose': 0, 'jasmine': 1, 'sunflower': 2, 'lilly': 3}\n"
     ]
    }
   ],
   "source": [
    "my_list=['rose','jasmine','sunflower','lilly']\n",
    "#converting the list into dictionary using dic comprehension\n",
    "my_dic={element: index for index ,element in enumerate(my_list)}\n",
    "print(\"The dictionary:\",my_dic)\n",
    "        "
   ]
  },
  {
   "cell_type": "code",
   "execution_count": 6,
   "id": "28696236-0f30-48f4-bcaa-66b66a837a1f",
   "metadata": {},
   "outputs": [],
   "source": [
    "#38. Shuffle the elements of a list randomly."
   ]
  },
  {
   "cell_type": "code",
   "execution_count": 8,
   "id": "14090ef6-2b4b-44c0-a573-58aad685d270",
   "metadata": {},
   "outputs": [
    {
     "name": "stdout",
     "output_type": "stream",
     "text": [
      "[10, 20, 30, 40, 50, 60]\n",
      "The shuffled list: [30, 60, 50, 10, 40, 20]\n"
     ]
    }
   ],
   "source": [
    "import random\n",
    "s_list=[10,20,30,40,50,60]\n",
    "print(s_list)\n",
    "#shuffle the list randomly\n",
    "random.shuffle(s_list)\n",
    "print(\"The shuffled list:\",s_list)\n",
    "\n",
    "\n"
   ]
  },
  {
   "cell_type": "code",
   "execution_count": 9,
   "id": "15813119-7a5e-491b-b4b0-74c3f58ca207",
   "metadata": {},
   "outputs": [],
   "source": [
    "#39. Create a list of the first 10 factorial numbers."
   ]
  },
  {
   "cell_type": "code",
   "execution_count": 11,
   "id": "a124a52f-541e-40f9-a1dd-29252b9aa2bc",
   "metadata": {},
   "outputs": [
    {
     "name": "stdout",
     "output_type": "stream",
     "text": [
      "The list of first 10 th factorial is: [1, 1, 2, 6, 24, 120, 720, 5040, 40320, 362880]\n"
     ]
    }
   ],
   "source": [
    "#creatig the function\n",
    "def fac(n):\n",
    "    if n==0 or n==1:\n",
    "        return 1\n",
    "    else:\n",
    "        return n*fac(n-1)\n",
    "    #generating the first  factorial\n",
    "fac_num=[fac(i) for i in range(10)]\n",
    "print(\"The list of first 10 th factorial is:\",fac_num)\n",
    "    \n",
    "    "
   ]
  },
  {
   "cell_type": "code",
   "execution_count": 12,
   "id": "28594eaf-7c2c-4f6d-b99d-b3df3b8de2a2",
   "metadata": {},
   "outputs": [],
   "source": [
    "#40. Check if two lists have at least one element in common."
   ]
  },
  {
   "cell_type": "code",
   "execution_count": 56,
   "id": "467ed74b-8797-4003-ba7d-819dc2303c9e",
   "metadata": {},
   "outputs": [],
   "source": [
    "#creating function for checking common elements in list\n",
    "\n",
    "def comm_ele(l1,l2):\n",
    "    for item in l1:\n",
    "        if item in l2:\n",
    "            return True\n",
    "    return False \n",
    "\n",
    "      \n",
    "        \n",
    "         \n",
    "       \n",
    "        \n",
    "    "
   ]
  },
  {
   "cell_type": "code",
   "execution_count": 57,
   "id": "04c1a4ba-4d8d-45f4-a987-f2c11c784f0d",
   "metadata": {},
   "outputs": [
    {
     "name": "stdout",
     "output_type": "stream",
     "text": [
      "The list contains common elements\n"
     ]
    }
   ],
   "source": [
    "comm_ele([10,20,30] ,[10,15,35])\n",
    "        \n",
    "if comm_ele(l1,l2):\n",
    "    print(\"The list contains common elements\")\n",
    "else:\n",
    "    print(\"The list does not contains common elements\")\n"
   ]
  },
  {
   "cell_type": "code",
   "execution_count": 1,
   "id": "dc4293d4-83b2-421e-a82f-fbc17e0ff34a",
   "metadata": {},
   "outputs": [],
   "source": [
    "#41. Remove all elements from a list."
   ]
  },
  {
   "cell_type": "code",
   "execution_count": 2,
   "id": "dcae6836-459f-4b62-9450-11a660ff4f45",
   "metadata": {},
   "outputs": [
    {
     "name": "stdout",
     "output_type": "stream",
     "text": [
      "[10, 20, 30, 40]\n",
      "Clear List:\n"
     ]
    }
   ],
   "source": [
    "rem_list=[10,20,30,40]\n",
    "print(rem_list)\n",
    "#removing all elements from list\n",
    "rem_list.clear()\n",
    "print(\"Clear List:\")"
   ]
  },
  {
   "cell_type": "code",
   "execution_count": 3,
   "id": "4da1360a-7608-4414-880d-240526053904",
   "metadata": {},
   "outputs": [],
   "source": [
    "#42. Replace negative numbers in a list with 0."
   ]
  },
  {
   "cell_type": "code",
   "execution_count": 5,
   "id": "9a30fdbc-bfd3-4dd7-8ee9-a83f8daf3068",
   "metadata": {},
   "outputs": [
    {
     "name": "stdout",
     "output_type": "stream",
     "text": [
      "[10, -20, 30, -40, 50, -60]\n",
      "The list replace with zero: [10, 0, 30, 0, 50, 0]\n"
     ]
    }
   ],
   "source": [
    "neg_list=[10,-20,30,-40,50,-60]\n",
    "print(neg_list)\n",
    "#iterating through each element and replacing negative number with zero\n",
    "for i in range(len(neg_list)):\n",
    "    if neg_list[i]<0:\n",
    "        neg_list[i]=0\n",
    "print(\"The list replace with zero:\",neg_list)\n",
    "    "
   ]
  },
  {
   "cell_type": "code",
   "execution_count": 6,
   "id": "39650053-baa6-4038-90cd-ddef65cfd234",
   "metadata": {},
   "outputs": [],
   "source": [
    "#43. Convert a string into a list of words."
   ]
  },
  {
   "cell_type": "code",
   "execution_count": 10,
   "id": "0e0b6257-2944-4826-8d2e-31257fd3f306",
   "metadata": {},
   "outputs": [
    {
     "name": "stdout",
     "output_type": "stream",
     "text": [
      "Have a nice Day\n",
      "list of words ['Have', 'a', 'nice', 'Day']\n"
     ]
    }
   ],
   "source": [
    "str1=\"Have a nice Day\"\n",
    "print(str1)\n",
    "#converting strings to words\n",
    "word_list=str1.split()\n",
    "print(\"list of words\",word_list)"
   ]
  },
  {
   "cell_type": "code",
   "execution_count": 11,
   "id": "d8b88167-d30c-4729-954e-99c6952d84de",
   "metadata": {},
   "outputs": [],
   "source": [
    "#44. Convert a list of words into a string."
   ]
  },
  {
   "cell_type": "code",
   "execution_count": 13,
   "id": "c2d959ea-9a0d-4eb1-a08f-8c8b3e0a6475",
   "metadata": {},
   "outputs": [
    {
     "name": "stdout",
     "output_type": "stream",
     "text": [
      "['Have', 'a', 'nice', 'Day']\n",
      "Words to string: Have a nice Day\n"
     ]
    }
   ],
   "source": [
    "word_list=[\"Have\",\"a\",\"nice\",\"Day\"]\n",
    "print(word_list)\n",
    "#converting the words to string\n",
    "str_word=\" \".join(word_list)\n",
    "print(\"Words to string:\",str_word)"
   ]
  },
  {
   "cell_type": "code",
   "execution_count": 14,
   "id": "f9b6f5f5-4779-4f52-8a3b-b67c8ad4a932",
   "metadata": {},
   "outputs": [],
   "source": [
    "#45. Create a list of the first n powers of 2."
   ]
  },
  {
   "cell_type": "code",
   "execution_count": 16,
   "id": "c2705cff-5538-4d28-b655-65539cb90059",
   "metadata": {},
   "outputs": [
    {
     "name": "stdout",
     "output_type": "stream",
     "text": [
      "The list of first 5  powers of 2: [1, 2, 4, 8, 16]\n"
     ]
    }
   ],
   "source": [
    "n=5\n",
    "#creating first n powers using loop\n",
    "pow_list=[2**i for i in range(n)]\n",
    "print(\"The list of first 5  powers of 2:\",pow_list)"
   ]
  },
  {
   "cell_type": "code",
   "execution_count": 1,
   "id": "cb4654f9-5358-4731-a187-a948b8096a3f",
   "metadata": {},
   "outputs": [],
   "source": [
    "#46. Find the longest string in a list of strings."
   ]
  },
  {
   "cell_type": "code",
   "execution_count": 2,
   "id": "470dc389-3f01-4104-9b2e-e77ce8387c8b",
   "metadata": {},
   "outputs": [
    {
     "name": "stdout",
     "output_type": "stream",
     "text": [
      "The longest string is: yellow\n"
     ]
    }
   ],
   "source": [
    "str_list=[\"red\",\"white\",\"pink\",\"blue\",\"yellow\"]\n",
    "long_str=\"\"\n",
    "#finding the longest string\n",
    "for i in str_list:\n",
    "    if len(i)>len(long_str):\n",
    "        long_str=i\n",
    "print(\"The longest string is:\",long_str)\n"
   ]
  },
  {
   "cell_type": "code",
   "execution_count": 3,
   "id": "91474ce9-b348-484c-be27-db77496dcfd0",
   "metadata": {},
   "outputs": [],
   "source": [
    "#47. Find the shortest string in a list of strings."
   ]
  },
  {
   "cell_type": "code",
   "execution_count": 5,
   "id": "6189df51-6af7-42bf-a6bc-b05f634e682e",
   "metadata": {},
   "outputs": [
    {
     "name": "stdout",
     "output_type": "stream",
     "text": [
      "The shortest string is: red\n"
     ]
    }
   ],
   "source": [
    "str_list=[\"red\",\"white\",\"pink\",\"blue\",\"yellow\"]\n",
    "short_str=str_list[0]\n",
    "#finding the shortest string\n",
    "for i in str_list:\n",
    "    if len(i)<len(short_str):\n",
    "        short_str=i\n",
    "print(\"The shortest string is:\",short_str)"
   ]
  },
  {
   "cell_type": "code",
   "execution_count": 6,
   "id": "c2d5ee2f-5bb0-4dd6-9734-ac04732697c4",
   "metadata": {},
   "outputs": [],
   "source": [
    "#50. Swap two elements in a list by their indices."
   ]
  },
  {
   "cell_type": "code",
   "execution_count": 7,
   "id": "1ff2803b-319c-4585-9042-462d5ac0e8fb",
   "metadata": {},
   "outputs": [
    {
     "name": "stdout",
     "output_type": "stream",
     "text": [
      "[1, 2, 3, 4, 5]\n",
      "The list after swapping: [1, 5, 3, 4, 2]\n"
     ]
    }
   ],
   "source": [
    "sw_list=[1,2,3,4,5]\n",
    "print(sw_list)\n",
    "index1=1\n",
    "index2=4\n",
    "#swap the list in the specifed index\n",
    "temp=sw_list[index1]\n",
    "sw_list[index1]=sw_list[index2]\n",
    "sw_list[index2]=temp\n",
    "print(\"The list after swapping:\",sw_list)"
   ]
  },
  {
   "cell_type": "code",
   "execution_count": null,
   "id": "ca61b96b-d2d8-4a60-9acf-31a494eaaeba",
   "metadata": {},
   "outputs": [],
   "source": []
  }
 ],
 "metadata": {
  "kernelspec": {
   "display_name": "Python 3 (ipykernel)",
   "language": "python",
   "name": "python3"
  },
  "language_info": {
   "codemirror_mode": {
    "name": "ipython",
    "version": 3
   },
   "file_extension": ".py",
   "mimetype": "text/x-python",
   "name": "python",
   "nbconvert_exporter": "python",
   "pygments_lexer": "ipython3",
   "version": "3.10.8"
  }
 },
 "nbformat": 4,
 "nbformat_minor": 5
}
