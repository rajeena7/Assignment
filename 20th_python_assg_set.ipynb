{
 "cells": [
  {
   "cell_type": "code",
   "execution_count": null,
   "id": "d22243f8-de1e-4434-9b7f-2da55c442f41",
   "metadata": {},
   "outputs": [],
   "source": [
    "#Set Based Practice Problem "
   ]
  },
  {
   "cell_type": "code",
   "execution_count": null,
   "id": "acc2def4-9f0c-47ce-9744-d00c5d259d91",
   "metadata": {},
   "outputs": [],
   "source": [
    "#1. Create a set with integers from 1 to 5."
   ]
  },
  {
   "cell_type": "code",
   "execution_count": 1,
   "id": "87ee7739-f8b1-447a-93c1-c4e2b1845cb9",
   "metadata": {},
   "outputs": [],
   "source": [
    "s={1,2,3,4,5}"
   ]
  },
  {
   "cell_type": "code",
   "execution_count": null,
   "id": "690dcca4-5470-4382-8fec-25fc57464c39",
   "metadata": {},
   "outputs": [],
   "source": [
    "#2. Add an element to a set."
   ]
  },
  {
   "cell_type": "code",
   "execution_count": 5,
   "id": "48cfd4e9-fb57-479e-bde4-f3f51d816b85",
   "metadata": {},
   "outputs": [],
   "source": [
    "#adding element on set using add function\n",
    "s.add(6)"
   ]
  },
  {
   "cell_type": "code",
   "execution_count": 6,
   "id": "19e7fd7e-9602-4f9c-bda8-d96377e3a2b9",
   "metadata": {},
   "outputs": [
    {
     "data": {
      "text/plain": [
       "{1, 2, 3, 4, 5, 6}"
      ]
     },
     "execution_count": 6,
     "metadata": {},
     "output_type": "execute_result"
    }
   ],
   "source": [
    "s"
   ]
  },
  {
   "cell_type": "code",
   "execution_count": null,
   "id": "d2baf842-958d-48ae-850d-47457a106446",
   "metadata": {},
   "outputs": [],
   "source": [
    "#3. Remove an element from a set."
   ]
  },
  {
   "cell_type": "code",
   "execution_count": 18,
   "id": "9cbf5d66-43b7-49fe-b369-88c85934a4ec",
   "metadata": {},
   "outputs": [],
   "source": [
    "s1={\"one\",\"two\",\"three\",\"four\"}"
   ]
  },
  {
   "cell_type": "code",
   "execution_count": 19,
   "id": "bfc33a87-ac7d-44f2-bb7f-9788bc0b8cc3",
   "metadata": {},
   "outputs": [
    {
     "data": {
      "text/plain": [
       "{'four', 'one', 'three', 'two'}"
      ]
     },
     "execution_count": 19,
     "metadata": {},
     "output_type": "execute_result"
    }
   ],
   "source": [
    "s1"
   ]
  },
  {
   "cell_type": "code",
   "execution_count": 20,
   "id": "920a7297-3b86-4d18-984e-17ada7a43ea7",
   "metadata": {},
   "outputs": [],
   "source": [
    "s1.remove(\"two\")"
   ]
  },
  {
   "cell_type": "code",
   "execution_count": 21,
   "id": "620bd2c6-c47f-4c11-9612-d134aa97f289",
   "metadata": {},
   "outputs": [
    {
     "data": {
      "text/plain": [
       "{'four', 'one', 'three'}"
      ]
     },
     "execution_count": 21,
     "metadata": {},
     "output_type": "execute_result"
    }
   ],
   "source": [
    "s1"
   ]
  },
  {
   "cell_type": "code",
   "execution_count": null,
   "id": "083b5445-086e-4d48-bd0d-8f1457ad2d84",
   "metadata": {},
   "outputs": [],
   "source": [
    "#4. Check if an element exists in a set."
   ]
  },
  {
   "cell_type": "code",
   "execution_count": 51,
   "id": "68642800-5f21-49e4-b20b-50e32c9af1dd",
   "metadata": {},
   "outputs": [
    {
     "name": "stdin",
     "output_type": "stream",
     "text": [
      "Enter an element dev\n"
     ]
    },
    {
     "name": "stdout",
     "output_type": "stream",
     "text": [
      "The element exist in the set\n"
     ]
    }
   ],
   "source": [
    "#creating a set\n",
    "s2={\"rahul\",\"dev\",\"manju\",\"latha\",\"sam\",\"piya\"}\n",
    "#accepting from user which element to check\n",
    "new_str=input(\"Enter an element\")\n",
    "#checking the inputed element in the set by using if conditon\n",
    "if new_str in s2:\n",
    "    print(\"The element exist in the set\", )\n",
    "else:\n",
    "    print(\"The element does not exist in the set\")"
   ]
  },
  {
   "cell_type": "code",
   "execution_count": null,
   "id": "7e735593-edc4-46ce-b6e7-363808b13891",
   "metadata": {},
   "outputs": [],
   "source": [
    "#5. Find the length of a set without using the `len()` function."
   ]
  },
  {
   "cell_type": "code",
   "execution_count": 1,
   "id": "05b51857-7982-4796-b395-d3751ebba14f",
   "metadata": {},
   "outputs": [
    {
     "name": "stdout",
     "output_type": "stream",
     "text": [
      "The length of the set is: 7\n"
     ]
    }
   ],
   "source": [
    "#creating a set\n",
    "new_set={1,5,7,9,10,11,12}\n",
    "count=0\n",
    "#checking the length through for loop and printing it\n",
    "for i in new_set:\n",
    "    count=count+1\n",
    "print(\"The length of the set is:\" , count)   "
   ]
  },
  {
   "cell_type": "code",
   "execution_count": null,
   "id": "36f391a0-5804-41a6-b1aa-9ad4e5b3cb5f",
   "metadata": {},
   "outputs": [],
   "source": [
    "#6. Clear all elements from a set."
   ]
  },
  {
   "cell_type": "code",
   "execution_count": 7,
   "id": "3686bd1c-b6a3-4235-a806-f17ed3870124",
   "metadata": {},
   "outputs": [],
   "source": [
    "#creating a set\n",
    "s2={1,2,3,4,5,6,7}"
   ]
  },
  {
   "cell_type": "code",
   "execution_count": 9,
   "id": "05730152-1475-4a4e-b7a5-c8eaa931fa77",
   "metadata": {},
   "outputs": [
    {
     "data": {
      "text/plain": [
       "{1, 2, 3, 4, 5, 6, 7}"
      ]
     },
     "execution_count": 9,
     "metadata": {},
     "output_type": "execute_result"
    }
   ],
   "source": [
    "s2"
   ]
  },
  {
   "cell_type": "code",
   "execution_count": 12,
   "id": "757bc653-9df9-4826-bb16-0d45fa71f18c",
   "metadata": {},
   "outputs": [],
   "source": [
    "#clearing all the elemnts from the set\n",
    "s2.clear()"
   ]
  },
  {
   "cell_type": "code",
   "execution_count": 13,
   "id": "2f8499ae-0fe8-4688-aed9-3f757b3b4963",
   "metadata": {},
   "outputs": [
    {
     "data": {
      "text/plain": [
       "set()"
      ]
     },
     "execution_count": 13,
     "metadata": {},
     "output_type": "execute_result"
    }
   ],
   "source": [
    "s2"
   ]
  },
  {
   "cell_type": "code",
   "execution_count": null,
   "id": "f00e1f0a-03ae-446f-b7f1-82b562e0c068",
   "metadata": {},
   "outputs": [],
   "source": [
    "#7. Create a set of even numbers from 1 to 10."
   ]
  },
  {
   "cell_type": "code",
   "execution_count": 16,
   "id": "5160d7ea-8f23-471b-8d56-c5374c3a3645",
   "metadata": {},
   "outputs": [
    {
     "name": "stdout",
     "output_type": "stream",
     "text": [
      "{2, 4, 6, 8, 10}\n"
     ]
    }
   ],
   "source": [
    "#initialazing the empty set\n",
    "even_set=set()\n",
    "#ierating through for loop\n",
    "for i in range(1,11):\n",
    "    #checking for even numbers and adding to the empty set , printing it\n",
    "    if i%2==0:\n",
    "        even_set.add(i)\n",
    "print(even_set)      "
   ]
  },
  {
   "cell_type": "code",
   "execution_count": null,
   "id": "bb286245-c6d7-43d5-814a-a0ddd1b41a51",
   "metadata": {},
   "outputs": [],
   "source": [
    "#8. Create a set of odd numbers from 1 to 10.\n"
   ]
  },
  {
   "cell_type": "code",
   "execution_count": 20,
   "id": "2cfd5e6e-c845-45be-8e22-997055d891f1",
   "metadata": {},
   "outputs": [
    {
     "name": "stdout",
     "output_type": "stream",
     "text": [
      "{1, 3, 5, 7, 9}\n"
     ]
    }
   ],
   "source": [
    "#initialazing the empty set\n",
    "odd_set= set()\n",
    "#ierating through for loop\n",
    "for i in range(1,11):\n",
    "     #checking for even numbers and adding to the empty set , printing it\n",
    "    if i%2!=0:\n",
    "        odd_set.add(i)\n",
    "print(odd_set)       "
   ]
  },
  {
   "cell_type": "code",
   "execution_count": null,
   "id": "e357e37c-3d68-4b19-80b3-63ff2a52c4b6",
   "metadata": {},
   "outputs": [],
   "source": [
    "#9. Find the union of two sets."
   ]
  },
  {
   "cell_type": "code",
   "execution_count": 21,
   "id": "cf2a3f8f-4fe6-4b82-aa53-e414a16e19eb",
   "metadata": {},
   "outputs": [
    {
     "name": "stdout",
     "output_type": "stream",
     "text": [
      "{1, 2, 3, 4, 5}\n",
      "{6, 7, 8, 9, 10}\n",
      "{1, 2, 3, 4, 5, 6, 7, 8, 9, 10}\n"
     ]
    }
   ],
   "source": [
    "#creating two sets\n",
    "set1={1,2,3,4,5}\n",
    "set2={6,7,8,9,10}\n",
    "#creating a union set by using union function and printing it\n",
    "set_union=set1.union(set2)\n",
    "print(set1)\n",
    "print(set2)\n",
    "print(set_union)"
   ]
  },
  {
   "cell_type": "code",
   "execution_count": null,
   "id": "f2981f3e-ec17-4d0e-99c4-a624d0472858",
   "metadata": {},
   "outputs": [],
   "source": [
    "#10. Find the intersection of two sets."
   ]
  },
  {
   "cell_type": "code",
   "execution_count": 24,
   "id": "1f6703e2-f8a4-4fa8-9314-52386c7f52e4",
   "metadata": {},
   "outputs": [
    {
     "name": "stdout",
     "output_type": "stream",
     "text": [
      "{1, 2, 3, 4, 5, 6, 8, 11}\n",
      "{2, 4, 7, 8, 9, 10, 11}\n",
      "{8, 2, 11, 4}\n"
     ]
    }
   ],
   "source": [
    "#creating two sets\n",
    "inset1={1,2,3,4,5,6,11,8}\n",
    "inset2={7,8,9,10,11,2,4}\n",
    "#creating a new intersection set by using intersection function and printing it\n",
    "inter_set=inset1.intersection(inset2)\n",
    "print(inset1)\n",
    "print(inset2)\n",
    "print(inter_set)"
   ]
  },
  {
   "cell_type": "code",
   "execution_count": null,
   "id": "3aea7eab-c149-4a59-afda-f3adc18e94f1",
   "metadata": {},
   "outputs": [],
   "source": [
    "#11. Find the difference between two sets."
   ]
  },
  {
   "cell_type": "code",
   "execution_count": 28,
   "id": "fc4f7622-400c-4c76-b892-b7e3a815b1c1",
   "metadata": {},
   "outputs": [
    {
     "name": "stdout",
     "output_type": "stream",
     "text": [
      "{65, 20, 10, 45, 30}\n",
      "{32, 65, 85, 45, 30}\n",
      "{10, 20}\n"
     ]
    }
   ],
   "source": [
    "#creating two sets\n",
    "difset1={10,20,30,45,10,65}\n",
    "difset2={45,32,85,30,65,32}\n",
    "#creating a new difference set using difference function and printing it\n",
    "diff_set=difset1.difference(difset2)\n",
    "print(difset1)\n",
    "print(difset2)\n",
    "print(diff_set)\n",
    "      "
   ]
  },
  {
   "cell_type": "code",
   "execution_count": null,
   "id": "56c0144f-6e0d-4c9f-a3e7-134584146457",
   "metadata": {},
   "outputs": [],
   "source": [
    "#12. Check if a set is a subset of another set."
   ]
  },
  {
   "cell_type": "code",
   "execution_count": 31,
   "id": "f50cd11e-42ff-484e-a8af-3dc599503ada",
   "metadata": {},
   "outputs": [
    {
     "name": "stdout",
     "output_type": "stream",
     "text": [
      "{1, 2, 3, 4, 5}\n",
      "{1, 2, 3, 4, 5, 6, 7, 8, 9}\n",
      "the set1 subset of set2: True\n"
     ]
    }
   ],
   "source": [
    "#creating the two sets\n",
    "subset1={1,2,3,4,5}\n",
    "subset2={1,2,3,4,5,6,7,8,9}\n",
    "#checking the set1 is a subset of set2 using issubset method\n",
    "sub_set=subset1.issubset(subset2)\n",
    "print(subset1)\n",
    "print(subset2)\n",
    "print(\"the set1 subset of set2:\" ,sub_set)"
   ]
  },
  {
   "cell_type": "code",
   "execution_count": null,
   "id": "8f9a0ac3-9b94-4a61-bdc5-40d4a1a83544",
   "metadata": {},
   "outputs": [],
   "source": [
    "#13. Check if a set is a superset of another set."
   ]
  },
  {
   "cell_type": "code",
   "execution_count": 33,
   "id": "99545897-6522-478a-9a4c-6c20fc6d9f6c",
   "metadata": {},
   "outputs": [
    {
     "name": "stdout",
     "output_type": "stream",
     "text": [
      "{1, 2, 3, 4, 5, 6, 7, 8, 9, 10, 11, 12}\n",
      "{1, 2, 3, 4, 5, 6, 7, 8, 9}\n",
      "The set1 is a superset of set2: True\n"
     ]
    }
   ],
   "source": [
    "#creating the two sets\n",
    "supset1={1,2,3,4,5,6,7,8,9,10,11,12}\n",
    "supset2={1,2,3,4,5,6,7,8,9}\n",
    "#checking the set1 is a superset of set2 using the issuperset method\n",
    "super_set=supset1.issuperset(supset2)\n",
    "print(supset1)\n",
    "print(supset2)\n",
    "print(\"The set1 is a superset of set2:\", super_set)"
   ]
  },
  {
   "cell_type": "code",
   "execution_count": null,
   "id": "ed913947-31a4-4950-8c60-9e4f17893129",
   "metadata": {},
   "outputs": [],
   "source": [
    "#14. Create a set from a list."
   ]
  },
  {
   "cell_type": "code",
   "execution_count": 38,
   "id": "8f1f84d4-b3dd-46f6-95c2-ad1cb4fdd4dd",
   "metadata": {},
   "outputs": [
    {
     "name": "stdout",
     "output_type": "stream",
     "text": [
      "The list is: [1, 2, 2, 3, 4, 4, 5, 6, 6, 7, 8, 9, 9]\n",
      "The set from list is : {1, 2, 3, 4, 5, 6, 7, 8, 9}\n"
     ]
    }
   ],
   "source": [
    "#creating the list\n",
    "list1=[1,2,2,3,4,4,5,6,6,7,8,9,9]\n",
    "#creating the set using set function from list\n",
    "set_list=set(list1)\n",
    "print(\"The list is:\" ,list1)\n",
    "print(\"The set from list is :\" ,set_list)\n"
   ]
  },
  {
   "cell_type": "code",
   "execution_count": null,
   "id": "dc4953d2-2732-4f8e-a9e8-ae615e2dcc67",
   "metadata": {},
   "outputs": [],
   "source": [
    "#15. Convert a set to a list."
   ]
  },
  {
   "cell_type": "code",
   "execution_count": 39,
   "id": "a0a03f7d-1fd5-4ad3-b11a-ae7ca9da8b72",
   "metadata": {},
   "outputs": [
    {
     "name": "stdout",
     "output_type": "stream",
     "text": [
      "The set is: {1, 3, 4, 5, 6, 7, 8, 9, 10}\n",
      "The list from set is: [1, 3, 4, 5, 6, 7, 8, 9, 10]\n"
     ]
    }
   ],
   "source": [
    "sett={1,8,3,4,5,9,7,6,10}\n",
    "list_set=list(sett)\n",
    "print(\"The set is:\", sett)\n",
    "print(\"The list from set is:\", list_set)"
   ]
  },
  {
   "cell_type": "code",
   "execution_count": null,
   "id": "e0cff61c-b900-41c8-917c-7e9df6ddaa01",
   "metadata": {},
   "outputs": [],
   "source": [
    "#16. Remove a random element from a set."
   ]
  },
  {
   "cell_type": "code",
   "execution_count": 56,
   "id": "4c8e4762-5306-438e-88b0-8bf5408424e5",
   "metadata": {},
   "outputs": [
    {
     "name": "stdout",
     "output_type": "stream",
     "text": [
      "{1, 2, 3, 4, 5, 6, 7}\n",
      "The random element is: 1\n",
      "Updated set after removing ramdom element: {2, 3, 4, 5, 6, 7}\n"
     ]
    }
   ],
   "source": [
    "#importing random module\n",
    "import random\n",
    "#creating the set\n",
    "ram_set={1,2,3,4,5,6,7}\n",
    "print(ram_set)\n",
    "#chosing the random element from the set using ramdom choice function and removing it\n",
    "ramdom_element= random.choice(list(ram_set))\n",
    "ram_set.remove(ramdom_element)\n",
    "print(\"The random element is:\",ramdom_element)\n",
    "print(\"Updated set after removing ramdom element:\",ram_set)"
   ]
  },
  {
   "cell_type": "code",
   "execution_count": null,
   "id": "8e0ba2e2-af0f-4234-934c-df64225e697d",
   "metadata": {},
   "outputs": [],
   "source": [
    "#17. Pop an element from a set."
   ]
  },
  {
   "cell_type": "code",
   "execution_count": 54,
   "id": "82106819-aeca-470e-8151-b54aacd74b3d",
   "metadata": {},
   "outputs": [
    {
     "name": "stdout",
     "output_type": "stream",
     "text": [
      "The set is : {1, 2, 3, 4, 5, 9}\n",
      "The pop element is: 1\n",
      "The updated set is: {2, 3, 4, 5, 9}\n"
     ]
    }
   ],
   "source": [
    "#creating a set\n",
    "pset={4,5,2,1,3,9}\n",
    "print(\"The set is :\" ,pset)\n",
    "#poping the element from the set using pop function and printing\n",
    "pop_set=pset.pop()\n",
    "print(\"The pop element is:\", pop_set) \n",
    "print(\"The updated set is:\" ,pset)"
   ]
  },
  {
   "cell_type": "code",
   "execution_count": null,
   "id": "9e4efd01-5a57-4e60-94db-43e0c7614db6",
   "metadata": {},
   "outputs": [],
   "source": [
    "#18. Check if two sets have no elements in common."
   ]
  },
  {
   "cell_type": "code",
   "execution_count": 16,
   "id": "b4029751-c6e4-4702-af28-a2b6914b26d9",
   "metadata": {},
   "outputs": [
    {
     "name": "stdout",
     "output_type": "stream",
     "text": [
      "The set one: {35, 20, 85, 25, 10, 75, 45}\n",
      "The set two: {450, 70, 11, 60, 222, 350, 15}\n",
      "The set have no common elements: set()\n"
     ]
    }
   ],
   "source": [
    "#creating two sets\n",
    "sm1={10,20,25,35,85,45,75}\n",
    "sm2={11,222,350,15,450,60,70}\n",
    "#checking if the intersection of two sets are common\n",
    "set_common=sm1.intersection(sm2)\n",
    "print(\"The set one:\" ,sm1)\n",
    "print(\"The set two:\", sm2)\n",
    "#checking through if conditions if common elements are there or not\n",
    "if set_common:\n",
    "    print(\"The set have common elements:\",set_common)\n",
    "else:\n",
    "    print(\"The set have no common elements:\", set_common)\n",
    "        "
   ]
  },
  {
   "cell_type": "code",
   "execution_count": null,
   "id": "b8adc4f1-011e-405d-83e6-adbc84fd6c4f",
   "metadata": {},
   "outputs": [],
   "source": [
    "#19. Find the symmetric difference between two sets."
   ]
  },
  {
   "cell_type": "code",
   "execution_count": 21,
   "id": "6da77c92-5b4a-4bc9-b6ad-901dd09bc035",
   "metadata": {},
   "outputs": [
    {
     "name": "stdout",
     "output_type": "stream",
     "text": [
      "The symmetirc difference of two sets are: {80, 20, 90, 40, 60, 30}\n"
     ]
    }
   ],
   "source": [
    "#creating two sets\n",
    "sd1={10,20,30,40,50}\n",
    "sd2={10,50,90,80,60}\n",
    "#checking the symmetric difference of two sets using symmetric differnce function\n",
    "symm_diff=sd1.symmetric_difference(sd2)\n",
    "print(\"The symmetirc difference of two sets are:\" ,symm_diff)\n",
    "\n"
   ]
  },
  {
   "cell_type": "code",
   "execution_count": null,
   "id": "c9b0ba2b-61fe-4444-a02d-ccbf52ac2f94",
   "metadata": {},
   "outputs": [],
   "source": [
    "#20. Update a set with elements from another set."
   ]
  },
  {
   "cell_type": "code",
   "execution_count": 25,
   "id": "bb2fd211-6e99-474b-99cc-bc5c6a06b78f",
   "metadata": {},
   "outputs": [
    {
     "name": "stdout",
     "output_type": "stream",
     "text": [
      "{50, 4, 20, 10, 60, 30}\n",
      "{80, 100, 70, 90, 110}\n",
      "The updated set is: {4, 100, 70, 10, 110, 80, 50, 20, 90, 60, 30}\n"
     ]
    }
   ],
   "source": [
    "#creting the two sets \n",
    "us1={10,20,30,4,50,60}\n",
    "print(us1)\n",
    "us2={70,80,90,100,110}\n",
    "print(us2)\n",
    "#updating the set1 with value of set2 using update funnction\n",
    "us1.update(us2)\n",
    "print(\"The updated set is:\",us1)\n",
    "     "
   ]
  },
  {
   "cell_type": "code",
   "execution_count": null,
   "id": "961c268a-95a4-4660-9505-239cc79b5517",
   "metadata": {},
   "outputs": [],
   "source": [
    "#21. Create a set of the first 5 prime numbers."
   ]
  },
  {
   "cell_type": "code",
   "execution_count": 2,
   "id": "ccbf16fe-8c97-4837-b768-e2646db8a4af",
   "metadata": {},
   "outputs": [
    {
     "name": "stdout",
     "output_type": "stream",
     "text": [
      "Set of the first 5 prime numbers: {2, 3, 5, 7, 11}\n"
     ]
    }
   ],
   "source": [
    "#creating function for prime numbers\n",
    "def is_prime(num):\n",
    "    if num <= 1:\n",
    "        return False\n",
    "    for i in range(2, int(num ** 0.5) + 1):\n",
    "        if num % i == 0:\n",
    "            return False\n",
    "    return True\n",
    "#assinging empty set\n",
    "prime_set = set()\n",
    "num = 2\n",
    "#checking first 5 prime numbers using loop\n",
    "while len(prime_set) < 5:\n",
    "    if is_prime(num):\n",
    "        #if its prime number then adding to set\n",
    "        prime_set.add(num)  \n",
    "    num += 1\n",
    "prime_set\n",
    "print(\"Set of the first 5 prime numbers:\", prime_set)"
   ]
  },
  {
   "cell_type": "code",
   "execution_count": null,
   "id": "0bcb916f-299c-4871-87fc-a249d2e4554c",
   "metadata": {},
   "outputs": [],
   "source": [
    "#22. Check if two sets are identical."
   ]
  },
  {
   "cell_type": "code",
   "execution_count": 3,
   "id": "732aaf53-69e9-4694-8e2a-a255bf09c7fb",
   "metadata": {},
   "outputs": [
    {
     "name": "stdout",
     "output_type": "stream",
     "text": [
      "The sets are identical\n"
     ]
    }
   ],
   "source": [
    "#creating two sets\n",
    "iset1={10,20,30,50,60}\n",
    "iset2={20,10,30,60,50}\n",
    "#checking the sets are identical\n",
    "if iset1==iset2:\n",
    "    print(\"The sets are identical\")\n",
    "else:\n",
    "    print(\"The sets are not identical\")"
   ]
  },
  {
   "cell_type": "code",
   "execution_count": null,
   "id": "a87610a5-f358-4ea2-9a48-612acb849451",
   "metadata": {},
   "outputs": [],
   "source": [
    "#23. Create a frozen set."
   ]
  },
  {
   "cell_type": "code",
   "execution_count": 4,
   "id": "1b87d283-7345-4889-aac9-412450955012",
   "metadata": {},
   "outputs": [
    {
     "name": "stdout",
     "output_type": "stream",
     "text": [
      "The frozen set: frozenset({40, 10, 50, 20, 30})\n"
     ]
    }
   ],
   "source": [
    "#creating a list\n",
    "l1=[10,20,30,40,50]\n",
    "#creating frozen set using frozenset function and printing it\n",
    "frozen_set=frozenset(l1)\n",
    "print(\"The frozen set:\",frozen_set)"
   ]
  },
  {
   "cell_type": "code",
   "execution_count": null,
   "id": "0b84d698-08a5-4420-ba57-2aedc0275a4f",
   "metadata": {},
   "outputs": [],
   "source": [
    "#24. Check if a set is disjoint with another set."
   ]
  },
  {
   "cell_type": "code",
   "execution_count": 3,
   "id": "4dd54aee-3e56-49b0-b6ad-354f43974df6",
   "metadata": {},
   "outputs": [
    {
     "name": "stdout",
     "output_type": "stream",
     "text": [
      "The first set is: {50, 20, 40, 10, 60, 30}\n",
      "The second set is: {65, 35, 55, 25, 45, 15}\n",
      "True\n"
     ]
    }
   ],
   "source": [
    "#creating two sets\n",
    "dis1={10,20,30,40,50,60}\n",
    "dis2={15,25,35,45,55,65}\n",
    "#checking two sets are disjoint or not by using isdisjoint function\n",
    "dis_joint=dis1.isdisjoint(dis2)\n",
    "print(\"The first set is:\", dis1)\n",
    "print(\"The second set is:\",dis2)\n",
    "print(dis_joint)"
   ]
  },
  {
   "cell_type": "code",
   "execution_count": null,
   "id": "a33009fe-d9b8-49f9-a14d-4969265b7f6e",
   "metadata": {},
   "outputs": [],
   "source": [
    "#25. Create a set of squares of numbers from 1 to 5."
   ]
  },
  {
   "cell_type": "code",
   "execution_count": 10,
   "id": "5aa1f5fc-5e62-4d31-aa6a-8fe910e852e0",
   "metadata": {},
   "outputs": [
    {
     "name": "stdout",
     "output_type": "stream",
     "text": [
      "The squares of numbers 1 to 5 is : {1, 4, 9, 16, 25}\n"
     ]
    }
   ],
   "source": [
    "#finding the square of numbers\n",
    "square_num={x**2 for x in range(1,6)}\n",
    "print(\"The squares of numbers 1 to 5 is :\" ,square_num)\n"
   ]
  },
  {
   "cell_type": "code",
   "execution_count": null,
   "id": "e37e01e9-586a-4fe6-b756-4b7305e5cd99",
   "metadata": {},
   "outputs": [],
   "source": [
    "#26. Filter out all even numbers from a set."
   ]
  },
  {
   "cell_type": "code",
   "execution_count": 6,
   "id": "47cbfe9f-7197-4f60-9648-e85e35d56150",
   "metadata": {},
   "outputs": [
    {
     "name": "stdout",
     "output_type": "stream",
     "text": [
      "{8, 2, 4, 6}\n"
     ]
    }
   ],
   "source": [
    "#creating a set\n",
    "evs1={2,5,6,4,8,9,11}\n",
    "#assiging empty set\n",
    "even_set=set()\n",
    "#checking if number is even or not by ietrating and by if divisible by 2 \n",
    "for num in evs1:\n",
    "    if num%2==0:\n",
    "        even_set.add(num)\n",
    "print(even_set)"
   ]
  },
  {
   "cell_type": "code",
   "execution_count": null,
   "id": "216721d9-0b54-452f-ba54-2e3a94597327",
   "metadata": {},
   "outputs": [],
   "source": [
    "#27. Multiply all elements in a set by 2."
   ]
  },
  {
   "cell_type": "code",
   "execution_count": 5,
   "id": "e7ea9d4a-31d7-4380-8c3c-d7b1644ffc8a",
   "metadata": {},
   "outputs": [
    {
     "name": "stdout",
     "output_type": "stream",
     "text": [
      "The created set: {2, 3, 4, 5, 6, 7, 8}\n",
      "The set multiplied by 2: {4, 6, 8, 10, 12, 14, 16}\n"
     ]
    }
   ],
   "source": [
    "#creating a set\n",
    "muls1={2,3,4,5,6,7,8}\n",
    "print(\"The created set:\",muls1)\n",
    "#initizling a null set\n",
    "multi_set=set()\n",
    "#iterating through each element and multiplying with 2 \n",
    "for i in muls1:\n",
    "    i=i*2\n",
    "   #assiging in the empty set and printing it\n",
    "    multi_set.add(i)\n",
    "print(\"The set multiplied by 2:\",multi_set)"
   ]
  },
  {
   "cell_type": "code",
   "execution_count": null,
   "id": "6affab50-1137-47dc-9039-587d52e8228d",
   "metadata": {},
   "outputs": [],
   "source": [
    "#28. Create a set of random numbers."
   ]
  },
  {
   "cell_type": "code",
   "execution_count": 7,
   "id": "3e52d0c6-abcf-4ce2-807e-4f6f887e1cd7",
   "metadata": {},
   "outputs": [
    {
     "name": "stdout",
     "output_type": "stream",
     "text": [
      "The genearted random numbers: {3, 8, 19, 21, 23}\n"
     ]
    }
   ],
   "source": [
    "#importing random module\n",
    "import random\n",
    "#assiging how many numbers want and empty set\n",
    "ram_num=5\n",
    "ram_set=set()\n",
    "#using loop genearting ramdom numbers by randint function\n",
    "for i in range(ram_num):\n",
    "    ramdom_num=random.randint(1,50)\n",
    "    ram_set.add(ramdom_num)\n",
    "print(\"The genearted random numbers:\",ram_set)\n"
   ]
  },
  {
   "cell_type": "code",
   "execution_count": null,
   "id": "122be8ea-46fb-4c7c-adb1-373e3c9d170f",
   "metadata": {},
   "outputs": [],
   "source": [
    "#29. Check if a set is empty."
   ]
  },
  {
   "cell_type": "code",
   "execution_count": 24,
   "id": "eabdf05d-a314-4121-8230-53aec82c2734",
   "metadata": {},
   "outputs": [
    {
     "name": "stdout",
     "output_type": "stream",
     "text": [
      "The set is empty\n"
     ]
    }
   ],
   "source": [
    "#creating an empty set\n",
    "emp_set={}\n",
    "#checking the set is empty or not by if function and printing it\n",
    "if not emp_set:\n",
    "    print(\"The set is empty\")\n",
    "else:\n",
    "    print(\"The set is not empty\")"
   ]
  },
  {
   "cell_type": "code",
   "execution_count": null,
   "id": "5cbdc462-1dc7-4f71-bd2a-89bacc3fb47c",
   "metadata": {},
   "outputs": [],
   "source": [
    "#30. Create a nested set (hint: use frozenset)."
   ]
  },
  {
   "cell_type": "code",
   "execution_count": 3,
   "id": "b60c2afa-5a01-4925-a981-2f00723290f7",
   "metadata": {},
   "outputs": [
    {
     "name": "stdout",
     "output_type": "stream",
     "text": [
      "The nested set is: {frozenset({40, 10, 20, 30}), frozenset({50, 20, 70, 60})}\n"
     ]
    }
   ],
   "source": [
    "#creating two sets\n",
    "frs1={10,20,30,40}\n",
    "frs2={20,50,60,70}\n",
    "#creating frozen sets and assiging the values\n",
    "frozen_set1=frozenset(frs1)\n",
    "frozen_set2=frozenset(frs2)\n",
    "nest_set={frozen_set1,frozen_set2}\n",
    "print(\"The nested set is:\",nest_set)\n"
   ]
  },
  {
   "cell_type": "code",
   "execution_count": null,
   "id": "22067934-f998-45f8-82e1-dfc70718fdb7",
   "metadata": {},
   "outputs": [],
   "source": [
    "#31. Remove an element from a set using the discard method."
   ]
  },
  {
   "cell_type": "code",
   "execution_count": 9,
   "id": "d397d231-6f2c-4597-a139-c2a47be4e661",
   "metadata": {},
   "outputs": [
    {
     "name": "stdout",
     "output_type": "stream",
     "text": [
      "The set is: {50, 20, 40, 10, 30}\n",
      "The discarded element is: 30\n",
      "The set after discared element: {50, 20, 40, 10}\n"
     ]
    }
   ],
   "source": [
    "#creating the set\n",
    "diset={10,20,30,40,50}\n",
    "print(\"The set is:\",diset)\n",
    "#discareded element and discarding using discard function\n",
    "dis_elem=30\n",
    "diset.discard(dis_elem)\n",
    "print(\"The discarded element is:\", dis_elem)\n",
    "print(\"The set after discared element:\",diset)"
   ]
  },
  {
   "cell_type": "code",
   "execution_count": null,
   "id": "2198b16f-bfb1-4a0b-97bb-123c47a75fbb",
   "metadata": {},
   "outputs": [],
   "source": [
    "#33. Create a set from a string."
   ]
  },
  {
   "cell_type": "code",
   "execution_count": 15,
   "id": "038807f6-14a1-4a6e-8566-2e6fe71913ff",
   "metadata": {},
   "outputs": [
    {
     "name": "stdout",
     "output_type": "stream",
     "text": [
      "The string is: Hello World\n",
      "The string in set: {'W', 'l', 'o', 'e', 'd', 'H', 'r', ' '}\n"
     ]
    }
   ],
   "source": [
    "#creating the string and printing it\n",
    "str1=\"Hello World\"\n",
    "print(\"The string is:\",str1)\n",
    "#assiging string to set using set constructor and printing it\n",
    "str_set=set(str1)\n",
    "print(\"The string in set:\" ,str_set)"
   ]
  },
  {
   "cell_type": "code",
   "execution_count": null,
   "id": "7e97facf-7a96-47dd-b738-4f95f1fa3501",
   "metadata": {},
   "outputs": [],
   "source": [
    "#34. Convert a set of strings to a set of integers."
   ]
  },
  {
   "cell_type": "code",
   "execution_count": 22,
   "id": "cabbdc43-3656-4644-924d-869826c852ce",
   "metadata": {},
   "outputs": [
    {
     "name": "stdout",
     "output_type": "stream",
     "text": [
      "The string set: {'456', '123', '896'}\n",
      "The integer set is: {456, 123, 896}\n"
     ]
    }
   ],
   "source": [
    "#creating a string set\n",
    "str_set={\"123\",\"456\",\"896\"}\n",
    "print(\"The string set:\",str_set)\n",
    "#assiging an empty set\n",
    "int_set=set()\n",
    "#iterating through each element and convering to int and adding to empty set\n",
    "for i in str_set:\n",
    "    int_value=int(i)\n",
    "    int_set.add(int_value)\n",
    "print(\"The integer set is:\", int_set)\n",
    "    "
   ]
  },
  {
   "cell_type": "code",
   "execution_count": null,
   "id": "70a14b8c-406e-4f68-8122-bae5b0bdd4f4",
   "metadata": {},
   "outputs": [],
   "source": [
    "#35. Convert a set of integers to a set of strings"
   ]
  },
  {
   "cell_type": "code",
   "execution_count": 3,
   "id": "3852e79b-4097-4400-87b1-9ac9fbff32e3",
   "metadata": {},
   "outputs": [
    {
     "name": "stdout",
     "output_type": "stream",
     "text": [
      "The interger set: {8, 5, 6, 7}\n",
      "The string set: {'8', '6', '7', '5'}\n"
     ]
    }
   ],
   "source": [
    "#creating the interger set\n",
    "int_set={5,6,7,8}\n",
    "print(\"The interger set:\",int_set)\n",
    "#assiging an empty set\n",
    "str_set=set()\n",
    "#iterating through each element and convering to string and adding to empty set\n",
    "for i in int_set:\n",
    "    str_value=str(i)\n",
    "    str_set.add(str_value)\n",
    "print(\"The string set:\",str_set)    "
   ]
  },
  {
   "cell_type": "code",
   "execution_count": null,
   "id": "d1f9a4a4-c8cb-4ec7-bc07-706aabff19fb",
   "metadata": {},
   "outputs": [],
   "source": [
    "#36. Create a set from a tuple."
   ]
  },
  {
   "cell_type": "code",
   "execution_count": 12,
   "id": "36c7a712-eb38-4d6e-81d1-bccd5c7e50c7",
   "metadata": {},
   "outputs": [
    {
     "name": "stdout",
     "output_type": "stream",
     "text": [
      "The tuple: (10, 20, 40, 50)\n",
      "The tuple converted to set: {40, 10, 20, 50}\n"
     ]
    }
   ],
   "source": [
    "#creating a tuple\n",
    "tup=(10,20,40,50)\n",
    "print(\"The tuple:\",tup)\n",
    "#converting a tuple to set by set function\n",
    "emp_set=set(tup)\n",
    "print(\"The tuple converted to set:\",emp_set)\n",
    "\n"
   ]
  },
  {
   "cell_type": "code",
   "execution_count": null,
   "id": "fe5415c3-9f54-40c6-9662-a64ee20edede",
   "metadata": {},
   "outputs": [],
   "source": [
    "#37. Convert a set to a tuple."
   ]
  },
  {
   "cell_type": "code",
   "execution_count": 13,
   "id": "54938b86-7c25-40de-8e76-a196e7067087",
   "metadata": {},
   "outputs": [
    {
     "name": "stdout",
     "output_type": "stream",
     "text": [
      "The set: {80, 50, 60, 70}\n",
      "The convertesd set to tuple: (80, 50, 60, 70)\n"
     ]
    }
   ],
   "source": [
    "#creating the set\n",
    "st={50,60,70,80}\n",
    "print(\"The set:\",st)\n",
    "##converting a set to tuple by tuple function\n",
    "tup_set=tuple(st)\n",
    "print(\"The convertesd set to tuple:\",tup_set)"
   ]
  },
  {
   "cell_type": "code",
   "execution_count": null,
   "id": "9d773ad0-a86d-41e2-897d-764c26c35717",
   "metadata": {},
   "outputs": [],
   "source": [
    "#38. Find the maximum value in a set."
   ]
  },
  {
   "cell_type": "code",
   "execution_count": 16,
   "id": "71ff6775-5338-444e-af7e-8f8ee0afd1d5",
   "metadata": {},
   "outputs": [
    {
     "name": "stdout",
     "output_type": "stream",
     "text": [
      "The set: {80, 50, 70, 40, 10, 30}\n",
      "The maximum value in the set is: 80\n"
     ]
    }
   ],
   "source": [
    "#creating the set\n",
    "mset={50,10,30,40,80,70}\n",
    "print(\"The set:\",mset)\n",
    "#finding the maximum value in the given set by max function\n",
    "max_value=max(mset)\n",
    "print(\"The maximum value in the set is:\",max_value)"
   ]
  },
  {
   "cell_type": "code",
   "execution_count": null,
   "id": "b785bf10-8f7e-4c71-8c05-59b6ed6bacba",
   "metadata": {},
   "outputs": [],
   "source": [
    "#39. Find the minimum value in a set."
   ]
  },
  {
   "cell_type": "code",
   "execution_count": 18,
   "id": "f640f4b8-0a1c-423c-a8f7-f4bfb3245946",
   "metadata": {},
   "outputs": [
    {
     "name": "stdout",
     "output_type": "stream",
     "text": [
      "The set: {80, 50, 70, 40, 10, 30}\n",
      "The maximum value in the set is: 10\n"
     ]
    }
   ],
   "source": [
    "#creating the set\n",
    "miset={50,10,30,40,80,70}\n",
    "print(\"The set:\",miset)\n",
    "#finding the minimum value in the given set by min function\n",
    "mim_value=min(miset)\n",
    "print(\"The maximum value in the set is:\",mim_value)"
   ]
  },
  {
   "cell_type": "code",
   "execution_count": null,
   "id": "9ea705c0-0db8-4b16-b8dd-a73d43d45d25",
   "metadata": {},
   "outputs": [],
   "source": [
    "#40. Create a set from user input."
   ]
  },
  {
   "cell_type": "code",
   "execution_count": 20,
   "id": "3dc4c802-34c6-4207-9e69-e87166fdd4e1",
   "metadata": {},
   "outputs": [
    {
     "name": "stdin",
     "output_type": "stream",
     "text": [
      "Enter a sentence: hai world\n"
     ]
    },
    {
     "name": "stdout",
     "output_type": "stream",
     "text": [
      "{'world', 'hai'}\n"
     ]
    }
   ],
   "source": [
    "#creating user input and converting to set by split function\n",
    "user_set=set(input(\"Enter a sentence:\").split())\n",
    "print(user_set)"
   ]
  },
  {
   "cell_type": "code",
   "execution_count": null,
   "id": "a84ac739-c27e-42be-b6d5-5f9ef17087a5",
   "metadata": {},
   "outputs": [],
   "source": [
    "#41. Check if the intersection of two sets is empty."
   ]
  },
  {
   "cell_type": "code",
   "execution_count": 26,
   "id": "732ccfc5-e71b-4fc2-b60f-da994bf02a25",
   "metadata": {},
   "outputs": [
    {
     "name": "stdout",
     "output_type": "stream",
     "text": [
      "The intersection of two sets are empty\n"
     ]
    }
   ],
   "source": [
    "#creating two sets\n",
    "inter_set1={10,20,30,40}\n",
    "inter_set2={50,60,70,80}\n",
    "#finding intersection of the two sets using intersection function\n",
    "inter_res=inter_set1.intersection(inter_set2)\n",
    "#through if fun checking its empty or not\n",
    "if not inter_res:\n",
    "    print(\"The intersection of two sets are empty\")\n",
    "else:\n",
    "    print(\"The intersection of two sets are not empty\")\n",
    "        "
   ]
  },
  {
   "cell_type": "code",
   "execution_count": null,
   "id": "d8124137-255f-4751-ac1a-45fbd210128c",
   "metadata": {},
   "outputs": [],
   "source": [
    "#42. Create a set of the first 5 Fibonacci numbers."
   ]
  },
  {
   "cell_type": "code",
   "execution_count": 3,
   "id": "b1e628d6-61d4-4db5-b786-8e5d5138be26",
   "metadata": {},
   "outputs": [
    {
     "name": "stdout",
     "output_type": "stream",
     "text": [
      "The first five set of fibonacci numbers: {0, 1, 2, 3, 5}\n"
     ]
    }
   ],
   "source": [
    "#creating an empty set\n",
    "fib_set=set()\n",
    "#initiazling first two numbers\n",
    "a,b= 0,1\n",
    "#ooping to creating fibonacci series\n",
    "for _ in range(6):\n",
    "    #adding it\n",
    "    fib_set.add(a)\n",
    "    #calucating next fib numbers\n",
    "    a,b =b, a+b\n",
    "print(\"The first five set of fibonacci numbers:\",fib_set)\n",
    "        \n"
   ]
  },
  {
   "cell_type": "code",
   "execution_count": null,
   "id": "34b00846-b1b7-4c25-9364-fa6c25c7c7a2",
   "metadata": {},
   "outputs": [],
   "source": [
    "#43. Remove duplicates from a list using sets."
   ]
  },
  {
   "cell_type": "code",
   "execution_count": 5,
   "id": "1bddbea2-e598-496e-b0a8-4a81306cb90f",
   "metadata": {},
   "outputs": [
    {
     "name": "stdout",
     "output_type": "stream",
     "text": [
      "The list: [10, 10, 20, 30, 40, 40, 60, 80, 80]\n",
      "The duplicated removed set: [40, 10, 80, 20, 60, 30]\n"
     ]
    }
   ],
   "source": [
    "#creating a list\n",
    "dul=[10,10,20,30,40,40,60,80,80]\n",
    "print(\"The list:\",dul)\n",
    "#converting list into set for removing dulpicates\n",
    "unq_set=set(dul)\n",
    "#converting to set to list\n",
    "unq_list=list(unq_set)\n",
    "print(\"The duplicated removed set:\",unq_list)\n"
   ]
  },
  {
   "cell_type": "code",
   "execution_count": null,
   "id": "56e7d373-2acb-497a-885e-05b2307e8457",
   "metadata": {},
   "outputs": [],
   "source": [
    "#44. Check if two sets have the same elements, regardless of their count."
   ]
  },
  {
   "cell_type": "code",
   "execution_count": 19,
   "id": "c47ec449-cf2d-4994-a960-b57321280ece",
   "metadata": {},
   "outputs": [
    {
     "name": "stdout",
     "output_type": "stream",
     "text": [
      "The sets contains same elements:\n"
     ]
    }
   ],
   "source": [
    "#creating two sets\n",
    "sset1={10,20,30}\n",
    "sset2={10,20,30,10,20}\n",
    "#sorting the sets \n",
    "sort_set1=sorted(sset1)\n",
    "sort_set2=sorted(sset2)\n",
    "#checking the sets having same elements or not through if fun and printing it\n",
    "if sort_set1==sort_set2:\n",
    "    print(\"The sets contains same elements:\")\n",
    "else:\n",
    "    print(\"The sets does have same elements:\")"
   ]
  },
  {
   "cell_type": "code",
   "execution_count": null,
   "id": "3d8e0097-dce6-46d1-9c6b-ab7e56662d8b",
   "metadata": {},
   "outputs": [],
   "source": [
    "#45. Create a set of the first `n` powers of 2."
   ]
  },
  {
   "cell_type": "code",
   "execution_count": 1,
   "id": "3c463718-5ba5-403d-98a2-fd4cdb0f4d5b",
   "metadata": {},
   "outputs": [
    {
     "name": "stdout",
     "output_type": "stream",
     "text": [
      "{1, 2, 4, 8, 16}\n"
     ]
    }
   ],
   "source": [
    "#initilizing upto how much series need\n",
    "num_se=5\n",
    "#using lambda function taking powers of 2 and printing it\n",
    "power_of_two=set(map(lambda x:2**x,range(num_se)))\n",
    "print(power_of_two)\n",
    "\n"
   ]
  },
  {
   "cell_type": "code",
   "execution_count": null,
   "id": "2e7eec37-8681-4b76-9832-89a0ff2d55e8",
   "metadata": {},
   "outputs": [],
   "source": [
    "#46. Find the common elements between a set and a list."
   ]
  },
  {
   "cell_type": "code",
   "execution_count": 8,
   "id": "d7f9f142-c0cd-41ab-b5b8-0917e2ffeddd",
   "metadata": {},
   "outputs": [
    {
     "name": "stdout",
     "output_type": "stream",
     "text": [
      "There are common elements:\n",
      "{10, 70}\n"
     ]
    }
   ],
   "source": [
    "#creating a list and set\n",
    "list_ele=[10,40,60,70,80]\n",
    "set_ele1={10,20,30,70,50}\n",
    "#converting list into set\n",
    "set_ele2=set(list_ele)\n",
    "#finding the common elements by using intersection method\n",
    "com_ele=set_ele1.intersection(set_ele2)\n",
    "if not com_ele:\n",
    "    print(\"There is no common elements:\")\n",
    "else:\n",
    "    print(\"There are common elements:\")\n",
    "print(com_ele)\n"
   ]
  },
  {
   "cell_type": "code",
   "execution_count": null,
   "id": "817550b7-be33-4fda-9d32-af85513dbcf5",
   "metadata": {},
   "outputs": [],
   "source": [
    "#47. Create a set of the first `n` triangular numbers."
   ]
  },
  {
   "cell_type": "code",
   "execution_count": 16,
   "id": "c4179ee7-1035-4bc3-9e3d-7790f653b070",
   "metadata": {},
   "outputs": [
    {
     "name": "stdin",
     "output_type": "stream",
     "text": [
      "Enter nth number: 7\n"
     ]
    },
    {
     "name": "stdout",
     "output_type": "stream",
     "text": [
      "{1, 3, 6, 10, 15, 21, 28}\n"
     ]
    }
   ],
   "source": [
    "#creating an interger input from user \n",
    "n=int(input(\"Enter nth number:\"))\n",
    "#assiging empty set\n",
    "triangel_num=set() \n",
    "#calculating ith number using formula and calculated triangular number to set\n",
    "for i in range(1,n+1):\n",
    "    ts=i*(i+1)//2\n",
    "    triangel_num.add(ts)\n",
    "print(triangel_num)\n",
    "    "
   ]
  },
  {
   "cell_type": "code",
   "execution_count": null,
   "id": "2bf6a0f0-be6b-400c-b7d0-0655d2ed2816",
   "metadata": {},
   "outputs": [],
   "source": [
    "#48. Check if a set contains another set as a subset."
   ]
  },
  {
   "cell_type": "code",
   "execution_count": 19,
   "id": "a5644a20-3db2-4fbc-9646-88f81486a5aa",
   "metadata": {},
   "outputs": [
    {
     "name": "stdout",
     "output_type": "stream",
     "text": [
      "set2 is a subset of set1\n"
     ]
    }
   ],
   "source": [
    "#creating two sets\n",
    "sub_set1={10,20,30,40,50,60,70}\n",
    "sub_set2={10,20,30}\n",
    "#checking set2 is subset of set1 using issubset function and printing using if fun\n",
    "is_sub_set=sub_set2.issubset(sub_set1)\n",
    "if is_sub_set:\n",
    "    print(\"set2 is a subset of set1\")\n",
    "else:\n",
    "    print(\"set2 is not a subset of set1\")\n",
    "    "
   ]
  },
  {
   "cell_type": "code",
   "execution_count": null,
   "id": "6f92bcbd-b095-42f1-9c03-4e54c00c66c8",
   "metadata": {},
   "outputs": [],
   "source": [
    "#49. Create a set of alternating 1s and 0s of length `n`."
   ]
  },
  {
   "cell_type": "code",
   "execution_count": 34,
   "id": "e305e298-c5e5-419a-a91f-510e34fe9257",
   "metadata": {},
   "outputs": [
    {
     "name": "stdin",
     "output_type": "stream",
     "text": [
      "Enter nth number 5\n"
     ]
    },
    {
     "name": "stdout",
     "output_type": "stream",
     "text": [
      "{0, 1}\n"
     ]
    }
   ],
   "source": [
    "#creating input interger value\n",
    "n=int(input(\"Enter nth number\"))\n",
    "#assinging empty set\n",
    "alter_set=set()\n",
    "#iterating through for loop\n",
    "for i in range(n):\n",
    "    #checking if even or odd and adding 1 and 0's respectively\n",
    "    if i%2==0:\n",
    "        alter_set.add(1)\n",
    "    else :\n",
    "        alter_set.add(0)\n",
    "print(alter_set)       \n",
    "        "
   ]
  },
  {
   "cell_type": "code",
   "execution_count": null,
   "id": "df21c53b-912a-4853-a8ed-72f4b274a95e",
   "metadata": {},
   "outputs": [],
   "source": [
    "#50 Merge multiple sets into one."
   ]
  },
  {
   "cell_type": "code",
   "execution_count": 35,
   "id": "9bc15158-de0c-417e-acae-f867af7d9ba7",
   "metadata": {},
   "outputs": [
    {
     "name": "stdout",
     "output_type": "stream",
     "text": [
      "The merged set: {1, 2, 3, 4, 5, 6, 7, 8, 9}\n"
     ]
    }
   ],
   "source": [
    "#creating three sets\n",
    "m_set1={1,2,3}\n",
    "m_set2={4,5,6}\n",
    "m_set3={7,8,9}\n",
    "#merging the sets using union function \n",
    "merge_set=m_set1.union(m_set2,m_set3)\n",
    "print(\"The merged set:\",merge_set)"
   ]
  },
  {
   "cell_type": "code",
   "execution_count": null,
   "id": "0037529c-8e2f-4601-a2b2-7bb6528e50e2",
   "metadata": {},
   "outputs": [],
   "source": []
  }
 ],
 "metadata": {
  "kernelspec": {
   "display_name": "Python 3 (ipykernel)",
   "language": "python",
   "name": "python3"
  },
  "language_info": {
   "codemirror_mode": {
    "name": "ipython",
    "version": 3
   },
   "file_extension": ".py",
   "mimetype": "text/x-python",
   "name": "python",
   "nbconvert_exporter": "python",
   "pygments_lexer": "ipython3",
   "version": "3.10.8"
  }
 },
 "nbformat": 4,
 "nbformat_minor": 5
}
