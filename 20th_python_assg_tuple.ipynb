{
 "cells": [
  {
   "cell_type": "code",
   "execution_count": null,
   "id": "13b7a800-528b-42f7-aae9-06cab0d66805",
   "metadata": {},
   "outputs": [],
   "source": [
    "#Tuple Based Practice Problem"
   ]
  },
  {
   "cell_type": "code",
   "execution_count": null,
   "id": "7dd8dc46-204f-4483-952a-734a5bdeeae2",
   "metadata": {},
   "outputs": [],
   "source": [
    "#1. Create a tuple with integers from 1 to 5."
   ]
  },
  {
   "cell_type": "code",
   "execution_count": 3,
   "id": "7d9c0a47-db64-4e1b-b19c-ced34da5e70f",
   "metadata": {},
   "outputs": [
    {
     "name": "stdout",
     "output_type": "stream",
     "text": [
      "(1, 2, 3, 4, 5)\n"
     ]
    }
   ],
   "source": [
    "#creting tuples with integers and printing\n",
    "t=(1,2,3,4,5)\n",
    "print(t)"
   ]
  },
  {
   "cell_type": "code",
   "execution_count": null,
   "id": "a8c4bcf6-027d-413b-ae6c-15a3ef44ff56",
   "metadata": {},
   "outputs": [],
   "source": [
    "#2. Access the third element of a tuple."
   ]
  },
  {
   "cell_type": "code",
   "execution_count": 5,
   "id": "3ff15071-2c98-4179-bc4b-175a768acd07",
   "metadata": {},
   "outputs": [
    {
     "name": "stdout",
     "output_type": "stream",
     "text": [
      "apple\n"
     ]
    }
   ],
   "source": [
    "#cfeating tuples and accsessing its 1st index value\n",
    "t=(\"red\",\"apple\",\"white\",\"roses\")\n",
    "print(t[1])"
   ]
  },
  {
   "cell_type": "code",
   "execution_count": null,
   "id": "234f281f-2b6e-4d7e-b5f8-3a478317c280",
   "metadata": {},
   "outputs": [],
   "source": [
    "#3. Find the length of a tuple without using the `len()` function."
   ]
  },
  {
   "cell_type": "code",
   "execution_count": 9,
   "id": "1c33619c-0e86-4977-a816-34115dcebcc2",
   "metadata": {},
   "outputs": [
    {
     "name": "stdout",
     "output_type": "stream",
     "text": [
      "The length of tuple is: 4\n"
     ]
    }
   ],
   "source": [
    "t=(10,50,70,60)\n",
    "count=0\n",
    "for i in t:\n",
    "    count=count+1\n",
    "print(\"The length of tuple is:\",count)\n"
   ]
  },
  {
   "cell_type": "code",
   "execution_count": null,
   "id": "dddde69a-7c11-4fc2-b5c9-2ad4d76aabc7",
   "metadata": {},
   "outputs": [],
   "source": [
    "#4. Count the occurrences of an element in a tuple."
   ]
  },
  {
   "cell_type": "code",
   "execution_count": 16,
   "id": "ad4219aa-a0bc-4bac-b2f5-75377d397538",
   "metadata": {},
   "outputs": [
    {
     "name": "stdout",
     "output_type": "stream",
     "text": [
      "The value occurrenced: 3\n"
     ]
    }
   ],
   "source": [
    "#creatinf tuple\n",
    "t=(10,50,10,80,10,60)\n",
    "#assinging which element to be checked\n",
    "find_occ=10\n",
    "#Finding the occurrence of specifed element by count function\n",
    "print(\"The value occurrenced:\",t.count(find_occ))"
   ]
  },
  {
   "cell_type": "code",
   "execution_count": null,
   "id": "aa009e0f-7a04-43d0-aaba-de1b81b1fe99",
   "metadata": {},
   "outputs": [],
   "source": [
    "#5. Find the index of the first occurrence of an element in a tuple."
   ]
  },
  {
   "cell_type": "code",
   "execution_count": 26,
   "id": "f91ae0ed-7997-4e69-a299-d3ecd21af1a4",
   "metadata": {},
   "outputs": [
    {
     "name": "stdout",
     "output_type": "stream",
     "text": [
      "The first occurrence of 40 is at index:1\n"
     ]
    }
   ],
   "source": [
    "#creating a tuple\n",
    "t=(10,40,20,80,10,45,35,40)\n",
    "#assiging variable to find which element to check\n",
    "find_num=40\n",
    "#initializing index -1 as element not found\n",
    "index=-1\n",
    "#iterate through the tuple and using enumerate function to return counter and its value\n",
    "for i,item in enumerate(t):\n",
    "    if item==find_num:\n",
    "        index=i\n",
    "        #exting the loop if first occurrence found\n",
    "        break\n",
    "        #printing the index of first occurrence\n",
    "if index!=-1:\n",
    "    print(f\"The first occurrence of {find_num} is at index:{index}\")\n",
    "else:\n",
    "    print(f\"{find_num} is not found\")\n",
    "    \n",
    "\n"
   ]
  },
  {
   "cell_type": "code",
   "execution_count": 1,
   "id": "59c6af55-cf4b-4c44-bb09-961b2437227c",
   "metadata": {},
   "outputs": [],
   "source": [
    "#6. Check if an element exists in a tuple."
   ]
  },
  {
   "cell_type": "code",
   "execution_count": 13,
   "id": "cf832408-2539-4188-a06d-ad212ba37516",
   "metadata": {},
   "outputs": [
    {
     "name": "stdout",
     "output_type": "stream",
     "text": [
      "(10, 20, 30, 40)\n",
      "The element to check: 20\n",
      "The element exsist in the tuple: 20\n"
     ]
    }
   ],
   "source": [
    "ele_tup=(10,20,30,40)\n",
    "print(ele_tup)\n",
    "ele_check=20\n",
    "print(\"The element to check:\",ele_check)\n",
    "#checking the element in the tuple\n",
    "if ele_check in ele_tup:\n",
    "    print(\"The element exsist in the tuple:\",ele_check)\n",
    "else:\n",
    "    print(\"The element does nit exsist\")\n"
   ]
  },
  {
   "cell_type": "code",
   "execution_count": 5,
   "id": "d652faa6-5728-4a5d-bff3-0be517648a6e",
   "metadata": {},
   "outputs": [],
   "source": [
    "#7. Convert a tuple to a list."
   ]
  },
  {
   "cell_type": "code",
   "execution_count": 14,
   "id": "2c754845-e863-4587-bab6-bc6e9c010503",
   "metadata": {},
   "outputs": [
    {
     "name": "stdout",
     "output_type": "stream",
     "text": [
      "(10, 20, 30, 40)\n",
      "The converted tuple to list: [10, 20, 30, 40]\n"
     ]
    }
   ],
   "source": [
    "my_tup=(10,20,30,40)\n",
    "print(my_tup)\n",
    "#converting the tuple to list\n",
    "tup_list=list(my_tup)\n",
    "print(\"The converted tuple to list:\",tup_list)"
   ]
  },
  {
   "cell_type": "code",
   "execution_count": 9,
   "id": "6ef7278f-937a-45d0-9460-66a3085e6d9b",
   "metadata": {},
   "outputs": [],
   "source": [
    "#8. Convert a list to a tuple."
   ]
  },
  {
   "cell_type": "code",
   "execution_count": 15,
   "id": "f6b30d29-e11f-46ce-bbb0-9604f8c04fde",
   "metadata": {},
   "outputs": [
    {
     "name": "stdout",
     "output_type": "stream",
     "text": [
      "[10, 20, 30, 40]\n",
      "The converted list to tuple: (10, 20, 30, 40)\n"
     ]
    }
   ],
   "source": [
    "my_list=[10,20,30,40]\n",
    "print(my_list)\n",
    "#converting list to tuple\n",
    "tup=tuple(my_list)\n",
    "print(\"The converted list to tuple:\",tup)"
   ]
  },
  {
   "cell_type": "code",
   "execution_count": 16,
   "id": "ec5e5892-c78d-46b1-8b1e-5509a30c104d",
   "metadata": {},
   "outputs": [],
   "source": [
    "#9. Unpack the elements of a tuple into variables."
   ]
  },
  {
   "cell_type": "code",
   "execution_count": 18,
   "id": "933f87e9-87e3-4022-a24d-7d17630438bb",
   "metadata": {},
   "outputs": [
    {
     "name": "stdout",
     "output_type": "stream",
     "text": [
      "var1: 10\n",
      "var2: 20\n",
      "var3: 30\n",
      "var4: 40\n"
     ]
    }
   ],
   "source": [
    "tup=(10,20,30,40)\n",
    "#unpacking the tuple to variables\n",
    "var1,var2,var3,var4=tup\n",
    "print(\"var1:\",var1)\n",
    "print(\"var2:\",var2)\n",
    "print(\"var3:\",var3)\n",
    "print(\"var4:\",var4)"
   ]
  },
  {
   "cell_type": "code",
   "execution_count": 19,
   "id": "ef0c5c39-ff51-4206-a4fa-26c8543c9e9c",
   "metadata": {},
   "outputs": [],
   "source": [
    "#10. Create a tuple of even numbers from 1 to 10."
   ]
  },
  {
   "cell_type": "code",
   "execution_count": 20,
   "id": "91bf7d06-f1ca-4ec2-8ca5-b74752a7ffb4",
   "metadata": {},
   "outputs": [
    {
     "name": "stdout",
     "output_type": "stream",
     "text": [
      "The even numbers: (2, 4, 6, 8, 10)\n"
     ]
    }
   ],
   "source": [
    "#creating the even numbers using list comprehension\n",
    "even_num=[num for num in range(2,11,2)]\n",
    "#converting to tuple\n",
    "even_tuple=tuple(even_num)\n",
    "print(\"The even numbers:\",even_tuple)"
   ]
  },
  {
   "cell_type": "code",
   "execution_count": 21,
   "id": "1bf9e7f5-bd7e-4033-82ec-9076e842b7cb",
   "metadata": {},
   "outputs": [],
   "source": [
    "#11. Create a tuple of odd numbers from 1 to 10"
   ]
  },
  {
   "cell_type": "code",
   "execution_count": 31,
   "id": "9f19dfdc-d4c1-414b-8e93-de780f755f84",
   "metadata": {},
   "outputs": [
    {
     "name": "stdout",
     "output_type": "stream",
     "text": [
      "The od numbers: (1, 3, 5, 7, 9)\n"
     ]
    }
   ],
   "source": [
    "#creating the odd numbers using list comprehension\n",
    "odd_num=[num for num in range(1,10,2)]\n",
    "#converting to tuple\n",
    "odd_tup=tuple(odd_num)\n",
    "print(\"The odd numbers:\",odd_tup)"
   ]
  },
  {
   "cell_type": "code",
   "execution_count": 32,
   "id": "8b5fd482-978a-40fe-a3af-66420cd85665",
   "metadata": {},
   "outputs": [],
   "source": [
    "#12. Concatenate two tuples."
   ]
  },
  {
   "cell_type": "code",
   "execution_count": 33,
   "id": "cef959cc-68fa-4af1-8045-b2beb3160108",
   "metadata": {},
   "outputs": [
    {
     "name": "stdout",
     "output_type": "stream",
     "text": [
      "The concatenated tuple: (10, 20, 30, 40, 50, 60, 70, 80)\n"
     ]
    }
   ],
   "source": [
    "tup1=(10,20,30,40)\n",
    "tup2=(50,60,70,80)\n",
    "#concatenateing the tuple\n",
    "con_tup=tup1+tup2\n",
    "print(\"The concatenated tuple:\",con_tup)"
   ]
  },
  {
   "cell_type": "code",
   "execution_count": 34,
   "id": "b0482aa1-554f-4b40-9fd3-a7cff390417f",
   "metadata": {},
   "outputs": [],
   "source": [
    "#13. Repeat a tuple three times."
   ]
  },
  {
   "cell_type": "code",
   "execution_count": 35,
   "id": "dadfd5dd-6011-4645-8eef-9d1558bf0377",
   "metadata": {},
   "outputs": [
    {
     "name": "stdout",
     "output_type": "stream",
     "text": [
      "The repated tuple: (10, 20, 30, 10, 20, 30, 10, 20, 30)\n"
     ]
    }
   ],
   "source": [
    "tup=(10,20,30)\n",
    "#repeating the tuple 3 times\n",
    "rep_tup=tup*3\n",
    "print(\"The repated tuple:\",rep_tup)\n"
   ]
  },
  {
   "cell_type": "code",
   "execution_count": 36,
   "id": "d959b7dc-f02e-4018-be9e-13ed9282e0a7",
   "metadata": {},
   "outputs": [],
   "source": [
    "#15. Create a nested tuple."
   ]
  },
  {
   "cell_type": "code",
   "execution_count": 38,
   "id": "41b3a73c-5336-448f-8414-bb21d17837e2",
   "metadata": {},
   "outputs": [
    {
     "name": "stdout",
     "output_type": "stream",
     "text": [
      "The nested tuple: ((10, 20, 30), ('red', 'pink', 'white'), (True, False))\n"
     ]
    }
   ],
   "source": [
    "#creating the nested tuple \n",
    "nested_tup=((10,20,30),('red','pink','white'),(True,False))\n",
    "print(\"The nested tuple:\",nested_tup)"
   ]
  },
  {
   "cell_type": "code",
   "execution_count": 1,
   "id": "9d82f046-5941-43f5-a48b-479de7f77b40",
   "metadata": {},
   "outputs": [],
   "source": [
    "#16. Access the first element of a nested tuple."
   ]
  },
  {
   "cell_type": "code",
   "execution_count": 2,
   "id": "ce5e7bf5-1a4c-4d17-879d-4c58e836190b",
   "metadata": {},
   "outputs": [
    {
     "name": "stdout",
     "output_type": "stream",
     "text": [
      "The first element in the nested tuple: (10, 20, 30)\n"
     ]
    }
   ],
   "source": [
    "nested_tup=((10,20,30),('red','pink','white'),(True,False))\n",
    "#accessing the first elemnt in the tuple\n",
    "first_ele=nested_tup[0]\n",
    "print(\"The first element in the nested tuple:\",first_ele)"
   ]
  },
  {
   "cell_type": "code",
   "execution_count": 3,
   "id": "e2e6f596-1c16-457c-bbc3-98ae5ec5688d",
   "metadata": {},
   "outputs": [],
   "source": [
    "#17. Create a tuple with a single element."
   ]
  },
  {
   "cell_type": "code",
   "execution_count": 4,
   "id": "7804c2bd-3102-4715-b36d-b3a379aa75bc",
   "metadata": {},
   "outputs": [
    {
     "name": "stdout",
     "output_type": "stream",
     "text": [
      "The tuple with the single element: (10,)\n"
     ]
    }
   ],
   "source": [
    "single_tup=(10,)\n",
    "print(\"The tuple with the single element:\",single_tup)"
   ]
  },
  {
   "cell_type": "code",
   "execution_count": 5,
   "id": "b2a1edf2-d711-4ae6-833e-7ea931ddbc9c",
   "metadata": {},
   "outputs": [],
   "source": [
    "#19. Delete a tuple."
   ]
  },
  {
   "cell_type": "code",
   "execution_count": 6,
   "id": "5baec99b-e4d4-4dcb-8189-d000bf53f2a4",
   "metadata": {},
   "outputs": [
    {
     "ename": "NameError",
     "evalue": "name 'del_tup' is not defined",
     "output_type": "error",
     "traceback": [
      "\u001b[0;31m---------------------------------------------------------------------------\u001b[0m",
      "\u001b[0;31mNameError\u001b[0m                                 Traceback (most recent call last)",
      "Cell \u001b[0;32mIn[6], line 3\u001b[0m\n\u001b[1;32m      1\u001b[0m del_tup\u001b[38;5;241m=\u001b[39m(\u001b[38;5;241m10\u001b[39m,\u001b[38;5;241m20\u001b[39m,\u001b[38;5;241m30\u001b[39m)\n\u001b[1;32m      2\u001b[0m \u001b[38;5;28;01mdel\u001b[39;00m del_tup\n\u001b[0;32m----> 3\u001b[0m \u001b[38;5;28mprint\u001b[39m(\u001b[43mdel_tup\u001b[49m)\n",
      "\u001b[0;31mNameError\u001b[0m: name 'del_tup' is not defined"
     ]
    }
   ],
   "source": [
    "del_tup=(10,20,30)\n",
    "#deleting the tuple\n",
    "del del_tup\n",
    "print(del_tup)"
   ]
  },
  {
   "cell_type": "code",
   "execution_count": 7,
   "id": "3e641350-9244-445a-9867-122096cd2ccc",
   "metadata": {},
   "outputs": [],
   "source": [
    "#20. Slice a tuple."
   ]
  },
  {
   "cell_type": "code",
   "execution_count": 2,
   "id": "758820be-4a82-4592-b1e4-4645834f7de3",
   "metadata": {},
   "outputs": [
    {
     "name": "stdout",
     "output_type": "stream",
     "text": [
      "(30, 40, 50)\n"
     ]
    }
   ],
   "source": [
    "slice_tuple=(10,20,30,40,50,60)\n",
    "#creating the slicing by indexing\n",
    "sl_tuple=slice_tuple[2:5]\n",
    "print(sl_tuple)"
   ]
  },
  {
   "cell_type": "code",
   "execution_count": 1,
   "id": "102e8bee-1071-4d18-9778-8a6a0b81c0a8",
   "metadata": {},
   "outputs": [],
   "source": [
    "#21. Find the maximum value in a tuple."
   ]
  },
  {
   "cell_type": "code",
   "execution_count": 6,
   "id": "e143032a-8056-447d-a2ab-8c4e5a1a9980",
   "metadata": {},
   "outputs": [
    {
     "name": "stdout",
     "output_type": "stream",
     "text": [
      "(10, 20, 40, 30, 50)\n",
      "The max element of tuple: 50\n"
     ]
    }
   ],
   "source": [
    "mx_tup=(10,20,40,30,50)\n",
    "print(mx_tup)\n",
    "#finding the maxmimun num by using max() and printing\n",
    "max_tuple=max(mx_tup)\n",
    "print(\"The max element of tuple:\",max_tuple)"
   ]
  },
  {
   "cell_type": "code",
   "execution_count": 5,
   "id": "25dccb7a-b20c-4420-a6ce-85b92f766c8f",
   "metadata": {},
   "outputs": [],
   "source": [
    "#22. Find the minimum value in a tuple."
   ]
  },
  {
   "cell_type": "code",
   "execution_count": 2,
   "id": "c14414ae-f411-4298-8514-0dc699633307",
   "metadata": {},
   "outputs": [
    {
     "name": "stdout",
     "output_type": "stream",
     "text": [
      "(10, 30, 20, 40, 50)\n",
      "The minimum value: 10\n"
     ]
    }
   ],
   "source": [
    "mi_tup=(10,30,20,40,50)\n",
    "print(mi_tup)\n",
    "#finding the minimum value\n",
    "min_tuple=min(mi_tup)\n",
    "print(\"The minimum value:\",min_tuple)"
   ]
  },
  {
   "cell_type": "code",
   "execution_count": 3,
   "id": "0e42dc2b-4ea9-4f6b-a20a-3a2d5f65a323",
   "metadata": {},
   "outputs": [],
   "source": [
    "#23. Convert a string to a tuple of characters."
   ]
  },
  {
   "cell_type": "code",
   "execution_count": 4,
   "id": "0d77678f-05bd-4517-ab39-bcad1413f004",
   "metadata": {},
   "outputs": [
    {
     "name": "stdout",
     "output_type": "stream",
     "text": [
      "Converted string to tuple: ('H', 'a', 'v', 'e', ' ', 'a', ' ', 'n', 'i', 'c', 'e', ' ', 'd', 'a', 'y')\n"
     ]
    }
   ],
   "source": [
    "my_str=\"Have a nice day\"\n",
    "#converting the string to tuple\n",
    "str_tup=tuple(my_str)\n",
    "print(\"Converted string to tuple:\",str_tup)"
   ]
  },
  {
   "cell_type": "code",
   "execution_count": 5,
   "id": "f59b0674-dcc0-458d-b318-ca549fe347a3",
   "metadata": {},
   "outputs": [],
   "source": [
    "#24. Convert a tuple of characters to a string."
   ]
  },
  {
   "cell_type": "code",
   "execution_count": 9,
   "id": "c1753546-0b42-4b96-b58c-48f82a8be461",
   "metadata": {},
   "outputs": [
    {
     "name": "stdout",
     "output_type": "stream",
     "text": [
      "convered string: hello\n"
     ]
    }
   ],
   "source": [
    "str_tup=('h','e','l','l','o')\n",
    "#converting the char to string using join method\n",
    "tup_str=''.join(str_tup)\n",
    "print(\"convered string:\",tup_str)"
   ]
  },
  {
   "cell_type": "code",
   "execution_count": 10,
   "id": "43a34d9b-4964-47e9-b79f-de172afa4ab0",
   "metadata": {},
   "outputs": [],
   "source": [
    "#25. Create a tuple from multiple data types."
   ]
  },
  {
   "cell_type": "code",
   "execution_count": 11,
   "id": "98153387-2eec-4689-8ee6-f452b7d76717",
   "metadata": {},
   "outputs": [
    {
     "name": "stdout",
     "output_type": "stream",
     "text": [
      "Mixed tuple: ('hello', 10, 25.3, True)\n"
     ]
    }
   ],
   "source": [
    "mix_tuple=('hello',10,25.3,True)\n",
    "print(\"Mixed tuple:\",mix_tuple)"
   ]
  },
  {
   "cell_type": "code",
   "execution_count": 12,
   "id": "6526bc59-49f5-419c-bff5-6cd986ff83f4",
   "metadata": {},
   "outputs": [],
   "source": [
    "#26. Check if two tuples are identical."
   ]
  },
  {
   "cell_type": "code",
   "execution_count": 16,
   "id": "648f08f5-d48f-44b3-b09a-9dbf2cbe12cb",
   "metadata": {},
   "outputs": [
    {
     "name": "stdout",
     "output_type": "stream",
     "text": [
      "Tuples are identical\n"
     ]
    }
   ],
   "source": [
    "t1=(10,20,30)\n",
    "t2=(10,20,30)\n",
    "#checking if tuples are identical or not\n",
    "if t1==t2:\n",
    "    print(\"Tuples are identical\")\n",
    "else:\n",
    "    print(\"Tuples are notidentical\")\n",
    "\n",
    "\n"
   ]
  },
  {
   "cell_type": "code",
   "execution_count": 17,
   "id": "6c98e443-8007-4d4f-b5f7-04fdb4e315ca",
   "metadata": {},
   "outputs": [],
   "source": [
    "#27. Sort the elements of a tuple."
   ]
  },
  {
   "cell_type": "code",
   "execution_count": 19,
   "id": "6e93a97d-48db-4769-ae59-90a01a85b4df",
   "metadata": {},
   "outputs": [
    {
     "name": "stdout",
     "output_type": "stream",
     "text": [
      "(20, 10, 30, 50, 40)\n",
      "The sorted tuple: (10, 20, 30, 40, 50)\n"
     ]
    }
   ],
   "source": [
    "sor_tup=(20,10,30,50,40)\n",
    "print(sor_tup)\n",
    "#sorting the tuple \n",
    "sorted_tuple=tuple(sorted(sor_tup))\n",
    "print(\"The sorted tuple:\", sorted_tuple)"
   ]
  },
  {
   "cell_type": "code",
   "execution_count": 1,
   "id": "edd5ea7b-76f1-4a07-9cdf-c28fe2f90f6e",
   "metadata": {},
   "outputs": [],
   "source": [
    "#28. Convert a tuple of integers to a tuple of strings."
   ]
  },
  {
   "cell_type": "code",
   "execution_count": 3,
   "id": "e2d2250f-1238-46da-ae35-71aa2fb55726",
   "metadata": {},
   "outputs": [
    {
     "name": "stdout",
     "output_type": "stream",
     "text": [
      "('10', '20', '30')\n"
     ]
    }
   ],
   "source": [
    "int_tup=(10,20,30)\n",
    "#converting to tuple strings\n",
    "str_tup=tuple(str(i)for i in int_tup)\n",
    "print(str_tup)"
   ]
  },
  {
   "cell_type": "code",
   "execution_count": 4,
   "id": "80909dea-0748-4c5b-a99d-d25c80141e6b",
   "metadata": {},
   "outputs": [],
   "source": [
    "#29. Convert a tuple of strings to a tuple of integers."
   ]
  },
  {
   "cell_type": "code",
   "execution_count": 6,
   "id": "6ff01535-aa4c-4751-9b02-85c324a83a7f",
   "metadata": {},
   "outputs": [
    {
     "name": "stdout",
     "output_type": "stream",
     "text": [
      "(10, 20, 30)\n"
     ]
    }
   ],
   "source": [
    "str_tup=('10','20','30')\n",
    "#converting to tuple of intergers \n",
    "int_tup=tuple(int(i)for i in str_tup)\n",
    "print(int_tup)\n"
   ]
  },
  {
   "cell_type": "code",
   "execution_count": 7,
   "id": "b6e19226-4bc3-4228-9547-35069cf3a972",
   "metadata": {},
   "outputs": [],
   "source": [
    "#30. Merge two tuples."
   ]
  },
  {
   "cell_type": "code",
   "execution_count": 8,
   "id": "04d45ebc-2edd-4c06-8611-42e36372f20f",
   "metadata": {},
   "outputs": [
    {
     "name": "stdout",
     "output_type": "stream",
     "text": [
      "Merged tuple: (10, 20, 30, 40, 50, 60)\n"
     ]
    }
   ],
   "source": [
    "m_tup=(10,20,30)\n",
    "mtup1=(40,50,60)\n",
    "merge_tuple=m_tup+mtup1\n",
    "print(\"Merged tuple:\",merge_tuple)"
   ]
  },
  {
   "cell_type": "code",
   "execution_count": 9,
   "id": "d72d4139-9df9-49ef-84bb-9a150211ce53",
   "metadata": {},
   "outputs": [],
   "source": [
    "#32. Create a tuple of the first 5 prime numbers."
   ]
  },
  {
   "cell_type": "code",
   "execution_count": 16,
   "id": "43de72da-a007-42a6-bcdb-10bacaf35417",
   "metadata": {},
   "outputs": [],
   "source": [
    "#creating function for prime numbers\n",
    "def is_prime(num):\n",
    "    if num <= 1:\n",
    "        return False\n",
    "    for i in range(2, int(num ** 0.5) + 1):\n",
    "        if num % i == 0:\n",
    "            return False\n",
    "    return True"
   ]
  },
  {
   "cell_type": "code",
   "execution_count": 17,
   "id": "9a62720a-98d1-4c90-948a-de15a7c5db33",
   "metadata": {},
   "outputs": [
    {
     "name": "stdout",
     "output_type": "stream",
     "text": [
      "(2, 3, 5, 7, 11)\n"
     ]
    }
   ],
   "source": [
    "is_prime(5)\n",
    "#generating first five prime numbers and converting to tuple\n",
    "prime_list=tuple([num for num in range(2,100) if is_prime(num)][:5])\n",
    "print(prime_list)\n"
   ]
  },
  {
   "cell_type": "code",
   "execution_count": 18,
   "id": "a56f2b6e-3ac5-47ee-aed8-1d72c67aa330",
   "metadata": {},
   "outputs": [],
   "source": [
    "# 33. Check if a tuple is a palindrome."
   ]
  },
  {
   "cell_type": "code",
   "execution_count": 27,
   "id": "29ddade9-9695-4d6c-857b-8e7970308559",
   "metadata": {},
   "outputs": [
    {
     "name": "stdout",
     "output_type": "stream",
     "text": [
      "Its palindrome\n"
     ]
    }
   ],
   "source": [
    "pal_tuple=(10,20,30,20,10)\n",
    "#checking its palindrome or not\n",
    "if pal_tuple==pal_tuple[::-1]:\n",
    "    print(\"Its palindrome\")\n",
    "else:\n",
    "    print(\"Its not palindrome\")\n",
    "\n",
    "\n",
    "\n",
    "\n"
   ]
  },
  {
   "cell_type": "code",
   "execution_count": 28,
   "id": "ef32796c-71fa-499f-abcf-954509680622",
   "metadata": {},
   "outputs": [],
   "source": [
    "#34. Create a tuple of squares of numbers from 1 to 5."
   ]
  },
  {
   "cell_type": "code",
   "execution_count": 1,
   "id": "2d400865-ea1d-4a2a-95af-d02fa02db0dd",
   "metadata": {},
   "outputs": [
    {
     "name": "stdout",
     "output_type": "stream",
     "text": [
      "Tuple square: (1, 4, 9, 16, 25)\n"
     ]
    }
   ],
   "source": [
    "#creating squares of numbers using comprehension \n",
    "square_tuple=tuple(i**2 for i in range(1,6))\n",
    "print(\"Tuple square:\",square_tuple)"
   ]
  },
  {
   "cell_type": "code",
   "execution_count": 2,
   "id": "5a4956e3-2960-4499-b2ec-f5fb630a9097",
   "metadata": {},
   "outputs": [],
   "source": [
    "#35. Filter out all even numbers from a tuple."
   ]
  },
  {
   "cell_type": "code",
   "execution_count": 4,
   "id": "203d1f39-f8d5-4e69-b65a-323a31eaaf09",
   "metadata": {},
   "outputs": [
    {
     "name": "stdout",
     "output_type": "stream",
     "text": [
      "(1, 2, 3, 4, 5, 6, 7, 8, 9, 10)\n",
      "Filtered even numbers: (1, 3, 5, 7, 9)\n"
     ]
    }
   ],
   "source": [
    "tup=(1,2,3,4,5,6,7,8,9,10)\n",
    "print(tup)\n",
    "#filtering even numbers using comprehension method\n",
    "fil_even=tuple(i for i in tup if i%2!=0)\n",
    "print(\"Filtered even numbers:\",fil_even)"
   ]
  },
  {
   "cell_type": "code",
   "execution_count": 5,
   "id": "eb9094ba-63d3-4267-bd00-8be27d70081c",
   "metadata": {},
   "outputs": [],
   "source": [
    "#36. Multiply all elements in a tuple by 2."
   ]
  },
  {
   "cell_type": "code",
   "execution_count": 7,
   "id": "b1f81ce4-de63-4de3-ab9b-b61a76fb47f8",
   "metadata": {},
   "outputs": [
    {
     "name": "stdout",
     "output_type": "stream",
     "text": [
      "(1, 2, 3, 4, 5, 6)\n",
      "Tuple multipled by 2: (2, 4, 6, 8, 10, 12)\n"
     ]
    }
   ],
   "source": [
    "t1=(1,2,3,4,5,6)\n",
    "print(t1)\n",
    "#multiplying tuple element by 2 by list comprehension \n",
    "mul_tup=tuple(i*2 for i in t1)\n",
    "print(\"Tuple multipled by 2:\",mul_tup)"
   ]
  },
  {
   "cell_type": "code",
   "execution_count": 8,
   "id": "5017e73c-7550-4263-a140-feba5e264c6c",
   "metadata": {},
   "outputs": [],
   "source": [
    "#37. Create a tuple of random numbers."
   ]
  },
  {
   "cell_type": "code",
   "execution_count": 12,
   "id": "55c674d2-0e02-4ab5-9a26-c8a7d65ec75f",
   "metadata": {},
   "outputs": [
    {
     "name": "stdout",
     "output_type": "stream",
     "text": [
      "The random numbers: (93, 45, 82, 8, 72, 47, 22, 87, 22, 18)\n"
     ]
    }
   ],
   "source": [
    "import random\n",
    "#creating ramdom numbers using list comprehension\n",
    "ramdom_tuple=tuple(random.randint(1,100) for i in range(10))\n",
    "print(\"The random numbers:\",ramdom_tuple)"
   ]
  },
  {
   "cell_type": "code",
   "execution_count": 13,
   "id": "3d28b7ca-b8cb-454b-8aac-1450e4096e0b",
   "metadata": {},
   "outputs": [],
   "source": [
    "#38. Check if a tuple is sorted."
   ]
  },
  {
   "cell_type": "code",
   "execution_count": 31,
   "id": "503bdc46-c128-4092-bbf3-82238396650f",
   "metadata": {},
   "outputs": [],
   "source": [
    "#creating function for checking tuple sorted or not\n",
    "def is_sorted(tup):\n",
    "    for i in range(len(tup)-1):  \n",
    "        if tup[i]>tup[i+1]:\n",
    "            return False\n",
    "    return  True\n"
   ]
  },
  {
   "cell_type": "code",
   "execution_count": 35,
   "id": "1a72c4fd-1b37-482d-bf66-704535d7ce75",
   "metadata": {},
   "outputs": [
    {
     "name": "stdout",
     "output_type": "stream",
     "text": [
      "The tuple is sorted: True\n"
     ]
    }
   ],
   "source": [
    "print(\"The tuple is sorted:\",is_sorted((10,20,30)))"
   ]
  },
  {
   "cell_type": "code",
   "execution_count": 36,
   "id": "003c093f-9bd8-4c8f-92f8-b3fc412d17f0",
   "metadata": {},
   "outputs": [],
   "source": [
    "#39. Rotate a tuple to the left by n positions."
   ]
  },
  {
   "cell_type": "code",
   "execution_count": 39,
   "id": "e8bdd89e-0d08-4a99-91b8-c1fcf5243a85",
   "metadata": {},
   "outputs": [],
   "source": [
    "#creating the function for rotating the tuple to left\n",
    "def rotate_tup(tup,n):\n",
    "    n=n%len(tup)\n",
    "    #rotating the tuple\n",
    "    rotate_tup=tup[n:]+tup[:n]\n",
    "    return rotate_tup\n",
    "\n"
   ]
  },
  {
   "cell_type": "code",
   "execution_count": 40,
   "id": "71daba29-77c3-47d5-9325-193a6e77c99f",
   "metadata": {},
   "outputs": [
    {
     "data": {
      "text/plain": [
       "(3, 4, 5, 1, 2)"
      ]
     },
     "execution_count": 40,
     "metadata": {},
     "output_type": "execute_result"
    }
   ],
   "source": [
    "rotate_tup((1,2,3,4,5),2)"
   ]
  },
  {
   "cell_type": "code",
   "execution_count": 41,
   "id": "d12a54a9-938e-4c7c-926f-222dc5ee539d",
   "metadata": {},
   "outputs": [],
   "source": [
    "#40. Rotate a tuple to the right by n positions."
   ]
  },
  {
   "cell_type": "code",
   "execution_count": 42,
   "id": "1b766cbc-5838-482b-9e1a-cd7326ed081c",
   "metadata": {},
   "outputs": [],
   "source": [
    "#creating the function for rotating the tuple to right\n",
    "def rotate_tup_right(tup,n):\n",
    "    n=n%len(tup)\n",
    "    #rotating the tuple\n",
    "    rotate_tup_right=tup[-n:]+tup[:-n]\n",
    "    return rotate_tup_right\n"
   ]
  },
  {
   "cell_type": "code",
   "execution_count": 43,
   "id": "1e73dd1f-d2ea-416b-a654-996af55af91e",
   "metadata": {},
   "outputs": [
    {
     "data": {
      "text/plain": [
       "(4, 5, 1, 2, 3)"
      ]
     },
     "execution_count": 43,
     "metadata": {},
     "output_type": "execute_result"
    }
   ],
   "source": [
    "rotate_tup_right((1,2,3,4,5),2)\n"
   ]
  },
  {
   "cell_type": "code",
   "execution_count": 44,
   "id": "becdc1c0-bd66-4a7e-8b44-f43aa6355944",
   "metadata": {},
   "outputs": [],
   "source": [
    "#42. Create a tuple from user input."
   ]
  },
  {
   "cell_type": "code",
   "execution_count": 47,
   "id": "9c631e95-813b-49d5-acda-009c8231c042",
   "metadata": {},
   "outputs": [
    {
     "name": "stdin",
     "output_type": "stream",
     "text": [
      "Enter a sentence Hello World\n"
     ]
    },
    {
     "name": "stdout",
     "output_type": "stream",
     "text": [
      "User Inputed Tuple: ('H', 'e', 'l', 'l', 'o', ' ', 'W', 'o', 'r', 'l', 'd')\n"
     ]
    }
   ],
   "source": [
    "#creating user input\n",
    "str_inp=input(\"Enter a sentence\")\n",
    "#converting user input to tuple\n",
    "str_tup=tuple(str_inp)\n",
    "print(\"User Inputed Tuple:\",str_tup)"
   ]
  },
  {
   "cell_type": "code",
   "execution_count": 48,
   "id": "fa4fc077-f724-49fc-8cfa-3ff2a076ef45",
   "metadata": {},
   "outputs": [],
   "source": [
    "#44. Reverse the elements of a tuple."
   ]
  },
  {
   "cell_type": "code",
   "execution_count": 50,
   "id": "d6c73685-1057-443b-8d7c-d238db85fde1",
   "metadata": {},
   "outputs": [
    {
     "name": "stdout",
     "output_type": "stream",
     "text": [
      "(10, 20, 30, 40)\n",
      "The reverse tuple: (40, 30, 20, 10)\n"
     ]
    }
   ],
   "source": [
    "m_tuple=(10,20,30,40)\n",
    "print(m_tuple)\n",
    "#reversing the tuple\n",
    "reverse_tuple=m_tuple[::-1]\n",
    "print(\"The reverse tuple:\",reverse_tuple)"
   ]
  },
  {
   "cell_type": "code",
   "execution_count": 51,
   "id": "cbbb9be3-a685-453a-b9a6-d986628663b5",
   "metadata": {},
   "outputs": [],
   "source": [
    "#45. Create a tuple of the first n powers of 2."
   ]
  },
  {
   "cell_type": "code",
   "execution_count": 55,
   "id": "9fe0431a-415c-471d-aaef-96d08bc16828",
   "metadata": {},
   "outputs": [
    {
     "name": "stdout",
     "output_type": "stream",
     "text": [
      "The tuple of first 5 power of 2 (1, 2, 4, 8, 16)\n"
     ]
    }
   ],
   "source": [
    "n=5\n",
    "#creating first 5 power of 2 using list comprehension\n",
    "power_tuple=tuple(2**i for i in range(n))\n",
    "print(\"The tuple of first\",n,\"power of 2\",power_tuple)"
   ]
  },
  {
   "cell_type": "code",
   "execution_count": 56,
   "id": "35bd19e3-3bb0-48c9-af70-17e206649953",
   "metadata": {},
   "outputs": [],
   "source": [
    "#46. Find the longest string in a tuple of strings."
   ]
  },
  {
   "cell_type": "code",
   "execution_count": 65,
   "id": "5ae75188-c1b8-42bf-857b-abd2740edfab",
   "metadata": {},
   "outputs": [
    {
     "name": "stdout",
     "output_type": "stream",
     "text": [
      "The longest string is: light pink\n"
     ]
    }
   ],
   "source": [
    "tuple_str=(\"Red\",\"yellow\",\"blue\",\"pink\",\"light pink\")\n",
    "#finding the longest string in the tuple\n",
    "max_tuple=max(tuple_str,key=len)\n",
    "print(\"The longest string is:\",max_tuple)"
   ]
  },
  {
   "cell_type": "code",
   "execution_count": 66,
   "id": "462f5b49-d049-4f38-a2c7-6ab856951088",
   "metadata": {},
   "outputs": [],
   "source": [
    "#47. Find the shortest string in a tuple of strings."
   ]
  },
  {
   "cell_type": "code",
   "execution_count": 68,
   "id": "cf80efcc-4802-4b36-9cc2-e201e195b308",
   "metadata": {},
   "outputs": [
    {
     "name": "stdout",
     "output_type": "stream",
     "text": [
      "The shortest string is: Red\n"
     ]
    }
   ],
   "source": [
    "tuple_str=(\"Red\",\"yellow\",\"blue\",\"pink\",\"light pink\")\n",
    "#finding the shortest string in the tuple\n",
    "min_tuple=min(tuple_str,key=len)\n",
    "print(\"The shortest string is:\",min_tuple)"
   ]
  },
  {
   "cell_type": "code",
   "execution_count": 69,
   "id": "cbb42cfb-1d9c-4577-812e-61ac2d118a26",
   "metadata": {},
   "outputs": [],
   "source": [
    "#48. Create a tuple of the first n triangular numbers."
   ]
  },
  {
   "cell_type": "code",
   "execution_count": 73,
   "id": "31c36999-bb70-4a6a-8a65-216820b3ecd1",
   "metadata": {},
   "outputs": [
    {
     "name": "stdout",
     "output_type": "stream",
     "text": [
      "Tuple of first 5 triangular numbers (1, 3, 6, 10, 15)\n"
     ]
    }
   ],
   "source": [
    "n=5\n",
    "#creating first 5 tringular numbers using list comprehension\n",
    "tri_tuple=tuple((i*(i+1)//2 for i in range(1,n+1)))\n",
    "print(\"Tuple of first\",n,\"triangular numbers\",tri_tuple)               \n",
    "                "
   ]
  },
  {
   "cell_type": "code",
   "execution_count": 74,
   "id": "3624e861-8e41-4d81-8104-c0f8c12646ba",
   "metadata": {},
   "outputs": [],
   "source": [
    "#50. Create a tuple of alternating 1s and 0s of length n."
   ]
  },
  {
   "cell_type": "code",
   "execution_count": 75,
   "id": "2ac4156f-5cde-4b6b-bf3a-632926ed4871",
   "metadata": {},
   "outputs": [
    {
     "name": "stdout",
     "output_type": "stream",
     "text": [
      "tuple of alternatings 1s and 0s (0, 1, 0, 1, 0, 1, 0, 1, 0, 1)\n"
     ]
    }
   ],
   "source": [
    "n=10\n",
    "#creating alternating 1s and 0s using comprehesion\n",
    "alter_tuple=tuple(i%2 for i in range(n))\n",
    "print(\"tuple of alternatings 1s and 0s\",alter_tuple)"
   ]
  },
  {
   "cell_type": "code",
   "execution_count": 76,
   "id": "b18de168-cbcd-4ede-90a5-6bcbe5fa6369",
   "metadata": {},
   "outputs": [],
   "source": [
    "#49. Check if a tuple contains another tuple as a subsequence."
   ]
  },
  {
   "cell_type": "code",
   "execution_count": 81,
   "id": "c9d2525f-e2db-4db6-a4af-d33057518f41",
   "metadata": {},
   "outputs": [
    {
     "name": "stdout",
     "output_type": "stream",
     "text": [
      "The tuple is a subset? True\n"
     ]
    }
   ],
   "source": [
    "main_tuple=(10,20,30,40,50,60)\n",
    "sub_tuple=(20,30,40,)\n",
    "#checking the tuple is subset or not by converting tuple to set and using function issubset and printing\n",
    "is_subset=set(sub_tuple).issubset(main_tuple)\n",
    "print(\"The tuple is a subset?\",is_subset)"
   ]
  },
  {
   "cell_type": "code",
   "execution_count": null,
   "id": "ec3baa78-4051-4207-9496-fd0092010a46",
   "metadata": {},
   "outputs": [],
   "source": []
  }
 ],
 "metadata": {
  "kernelspec": {
   "display_name": "Python 3 (ipykernel)",
   "language": "python",
   "name": "python3"
  },
  "language_info": {
   "codemirror_mode": {
    "name": "ipython",
    "version": 3
   },
   "file_extension": ".py",
   "mimetype": "text/x-python",
   "name": "python",
   "nbconvert_exporter": "python",
   "pygments_lexer": "ipython3",
   "version": "3.10.8"
  }
 },
 "nbformat": 4,
 "nbformat_minor": 5
}
