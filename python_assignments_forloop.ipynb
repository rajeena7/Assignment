{
 "cells": [
  {
   "cell_type": "code",
   "execution_count": 4,
   "id": "07a51544-6a01-40ea-8eee-474143fc1603",
   "metadata": {},
   "outputs": [],
   "source": [
    "#1. Write a Python program to print the numbers from 1 to 10 using a `for` loop."
   ]
  },
  {
   "cell_type": "code",
   "execution_count": 8,
   "id": "390aa869-fb25-4547-b46b-b421d0390ec4",
   "metadata": {},
   "outputs": [],
   "source": [
    "#creating function to for generating 1 to 10\n",
    "def num10th():\n",
    "    l=[]\n",
    "    #generating 1 to 10 numbers using for loop\n",
    "    for i in range(0,10):\n",
    "        i=i+1\n",
    "        #appending the numbers in the empty list\n",
    "        l.append(i)\n",
    "    return l"
   ]
  },
  {
   "cell_type": "code",
   "execution_count": 9,
   "id": "6a145ff5-edab-4667-ac9e-b50d54602b41",
   "metadata": {},
   "outputs": [
    {
     "data": {
      "text/plain": [
       "[1, 2, 3, 4, 5, 6, 7, 8, 9, 10]"
      ]
     },
     "execution_count": 9,
     "metadata": {},
     "output_type": "execute_result"
    }
   ],
   "source": [
    "num10th()\n"
   ]
  },
  {
   "cell_type": "code",
   "execution_count": 10,
   "id": "6986c452-9989-42b3-9030-85f523296940",
   "metadata": {},
   "outputs": [],
   "source": [
    "#2. Create a program that calculates the sum of all numbers in a list using a `for` loop."
   ]
  },
  {
   "cell_type": "code",
   "execution_count": 48,
   "id": "fd3ee60b-dfdd-4224-9e17-0e2b0d6fb3f5",
   "metadata": {},
   "outputs": [],
   "source": [
    "#creating a function\n",
    "def sum_of_num(num):\n",
    "    sum=0\n",
    "    #iterating through each number in the list\n",
    "    for i in num:\n",
    "        #adding the numbers in the list and returning its total\n",
    "        sum+=i\n",
    "    return sum \n",
    "        "
   ]
  },
  {
   "cell_type": "code",
   "execution_count": 49,
   "id": "c8c98c99-e95e-4069-bfcc-decd19561582",
   "metadata": {},
   "outputs": [
    {
     "name": "stdout",
     "output_type": "stream",
     "text": [
      "The sum of numbers in list: 17\n"
     ]
    }
   ],
   "source": [
    "print(\"The sum of numbers in list:\" ,sum_of_num([2,4,5,6]))\n"
   ]
  },
  {
   "cell_type": "code",
   "execution_count": 50,
   "id": "91f1d62c-401c-4def-bbb0-1d56fcbe34d7",
   "metadata": {},
   "outputs": [],
   "source": [
    "#3. Write a program to print the characters of a string in reverse order using a `for` loop."
   ]
  },
  {
   "cell_type": "code",
   "execution_count": 5,
   "id": "0f295d1d-57f3-4368-bbb3-51e7a3cb13c2",
   "metadata": {},
   "outputs": [],
   "source": [
    "#defining a function\n",
    "def reverse_char(str):\n",
    "        rev=\"\"\n",
    "        #reversing the string through for loop and returing the string\n",
    "        for i in str:\n",
    "            rev=i+rev\n",
    "        return rev"
   ]
  },
  {
   "cell_type": "code",
   "execution_count": 7,
   "id": "c8a9b0b4-49ae-4f32-81fa-c4ab6544fda9",
   "metadata": {},
   "outputs": [
    {
     "data": {
      "text/plain": [
       "'dlrow olleh'"
      ]
     },
     "execution_count": 7,
     "metadata": {},
     "output_type": "execute_result"
    }
   ],
   "source": [
    "reverse_char(\"hello world\")\n"
   ]
  },
  {
   "cell_type": "code",
   "execution_count": 8,
   "id": "b12e90c1-04f3-4ff7-813d-ebca1cb584bf",
   "metadata": {},
   "outputs": [],
   "source": [
    "#4. Develop a program that finds the factorial of a given number using a `for` loop."
   ]
  },
  {
   "cell_type": "code",
   "execution_count": 34,
   "id": "d8f9a29e-cdb5-49bc-be6d-ed6644391422",
   "metadata": {},
   "outputs": [],
   "source": [
    "def factorial(num):\n",
    "    fact=1\n",
    "    #ierating and find the factorial of given number\n",
    "    for i in range(1,num+1):\n",
    "        fact*=i\n",
    "    return fact"
   ]
  },
  {
   "cell_type": "code",
   "execution_count": 36,
   "id": "32630979-28ce-4728-a988-744e4c5310b0",
   "metadata": {},
   "outputs": [
    {
     "name": "stdout",
     "output_type": "stream",
     "text": [
      "The factorial of '5' is: 120\n"
     ]
    }
   ],
   "source": [
    "result=factorial(5)\n",
    "print(f\"The factorial of '{5}' is:\",result)\n",
    "      "
   ]
  },
  {
   "cell_type": "code",
   "execution_count": 1,
   "id": "b9fad4ec-df82-4082-9198-ea458a206853",
   "metadata": {},
   "outputs": [],
   "source": [
    "#5. Create a program to print the multiplication table of a given number using a `for` loop."
   ]
  },
  {
   "cell_type": "code",
   "execution_count": 53,
   "id": "5fb399d8-01c5-44f8-b72c-377994d5b97f",
   "metadata": {},
   "outputs": [
    {
     "name": "stdin",
     "output_type": "stream",
     "text": [
      "Enter a number 5\n"
     ]
    },
    {
     "name": "stdout",
     "output_type": "stream",
     "text": [
      "5*1= 5\n",
      "5*2= 10\n",
      "5*3= 15\n",
      "5*4= 20\n",
      "5*5= 25\n",
      "5*6= 30\n",
      "5*7= 35\n",
      "5*8= 40\n",
      "5*9= 45\n",
      "5*10= 50\n"
     ]
    }
   ],
   "source": [
    "#assnging value from user\n",
    "num=int(input(\"Enter a number\"))\n",
    "#ierating through each number and multiplying with inputed value\n",
    "for i in range(0,10):\n",
    "    i=i+1\n",
    "    mul=i*num\n",
    "    print(f\"{num}*{i}=\",mul)\n",
    "    "
   ]
  },
  {
   "cell_type": "code",
   "execution_count": 54,
   "id": "19ed073b-59db-4f8b-9ce8-acd80aff8c98",
   "metadata": {},
   "outputs": [],
   "source": [
    "#6. Write a program that counts the number of even and odd numbers in a list using a `for` loop."
   ]
  },
  {
   "cell_type": "code",
   "execution_count": 101,
   "id": "b6763e41-60e2-46c1-a432-527ac0fd260a",
   "metadata": {},
   "outputs": [
    {
     "name": "stdout",
     "output_type": "stream",
     "text": [
      "The count of even number in the list: 5\n",
      "The count of odd number in the list: 5\n"
     ]
    }
   ],
   "source": [
    "#creating a list\n",
    "l1=[1,2,3,4,5,6,7,8,9,10]\n",
    "even_count=0\n",
    "odd_count=0\n",
    "#ierating through each element in the list and checking its even or not and printing it\n",
    "for i in l1:\n",
    "    if i%2==0:\n",
    "        even_count+=1\n",
    "    else:\n",
    "        odd_count+=1\n",
    "        \n",
    "print(\"The count of even number in the list:\",even_count)\n",
    "print(\"The count of odd number in the list:\",odd_count)\n"
   ]
  },
  {
   "cell_type": "code",
   "execution_count": 1,
   "id": "3a66b94d-6634-4420-b4fc-5fe86902b500",
   "metadata": {},
   "outputs": [],
   "source": [
    "#7. Develop a program that prints the squares of numbers from 1 to 5 using a `for` loop."
   ]
  },
  {
   "cell_type": "code",
   "execution_count": 11,
   "id": "78e1077e-98ac-4290-9b83-b0d57db34048",
   "metadata": {},
   "outputs": [
    {
     "name": "stdout",
     "output_type": "stream",
     "text": [
      "The square of numbers 1 to 5 is: [1, 4, 9, 16, 25]\n"
     ]
    }
   ],
   "source": [
    "#creating list\n",
    "s_list=[1,2,3,4,5]\n",
    "sq_list=[]\n",
    "#ierating through each element in the list and finding sqaure of it\n",
    "for i in s_list:\n",
    "    i=i*i\n",
    "    sq_list.append(i)\n",
    "print(\"The square of numbers 1 to 5 is:\",sq_list)"
   ]
  },
  {
   "cell_type": "code",
   "execution_count": 12,
   "id": "e3c29cc3-5c18-416c-866d-3f633b5c99ef",
   "metadata": {},
   "outputs": [],
   "source": [
    "#8. Create a program to find the length of a string without using the `len()` function."
   ]
  },
  {
   "cell_type": "code",
   "execution_count": 25,
   "id": "f6c9916f-85fd-44a7-a788-38cc4b0f2c8d",
   "metadata": {},
   "outputs": [
    {
     "name": "stdin",
     "output_type": "stream",
     "text": [
      "Enter a string hello\n"
     ]
    },
    {
     "name": "stdout",
     "output_type": "stream",
     "text": [
      "The length of the string is: 5\n"
     ]
    }
   ],
   "source": [
    "#intialzing a user input string\n",
    "str=input(\"Enter a string\")\n",
    "count=0\n",
    "#ierating through each word and incrementing its value\n",
    "for i in str:\n",
    "    count+=1\n",
    "print(\"The length of the string is:\",count)"
   ]
  },
  {
   "cell_type": "code",
   "execution_count": 26,
   "id": "ae3226cd-aa3e-433f-8c1a-8cc326ca29c1",
   "metadata": {},
   "outputs": [],
   "source": [
    "#9. Write a program that calculates the average of a list of numbers using a `for` loop."
   ]
  },
  {
   "cell_type": "code",
   "execution_count": 34,
   "id": "432878db-bd7b-48f0-9d74-e3ee1dadbb31",
   "metadata": {},
   "outputs": [
    {
     "name": "stdout",
     "output_type": "stream",
     "text": [
      "The sum of element is : 15\n",
      "The average of element in list: 3\n"
     ]
    }
   ],
   "source": [
    "#creating the list\n",
    "l2=[1,2,3,4,5]\n",
    "sum_list=0\n",
    "#ierating through each element in the list \n",
    "for i in l2: \n",
    "    #calculating the sum and average\n",
    "    sum_list+=i\n",
    "    avg=int(sum_list/len(l2))\n",
    "        \n",
    "print(\"The sum of element is :\",sum_list)\n",
    "print(\"The average of element in list:\",avg)\n",
    "    "
   ]
  },
  {
   "cell_type": "code",
   "execution_count": 35,
   "id": "2fdad284-14d6-4676-91c6-e20201ec9609",
   "metadata": {},
   "outputs": [],
   "source": [
    "#10. Develop a program that prints the first `n` Fibonacci numbers using a `for` loop."
   ]
  },
  {
   "cell_type": "code",
   "execution_count": 12,
   "id": "930d5c88-6787-4200-a21c-2dd01fcbf73b",
   "metadata": {},
   "outputs": [],
   "source": [
    "#creating a function fib\n",
    "def fib(n):\n",
    "    #initiazling variable with 0 and 1\n",
    "    a = 0\n",
    "    b = 1\n",
    "    if n == 1:\n",
    "        print(a)\n",
    "    else:\n",
    "        print(a)\n",
    "        print(b)\n",
    "        #creating fib serious\n",
    "        for i in range(2,n):\n",
    "            c = a + b\n",
    "            a = b\n",
    "            b = c\n",
    "            print(c)"
   ]
  },
  {
   "cell_type": "code",
   "execution_count": 13,
   "id": "2bfe0afa-66e7-413c-b0f1-2981c95a74ea",
   "metadata": {},
   "outputs": [
    {
     "name": "stdout",
     "output_type": "stream",
     "text": [
      "0\n",
      "1\n",
      "1\n",
      "2\n",
      "3\n"
     ]
    }
   ],
   "source": [
    "fib(5)"
   ]
  },
  {
   "cell_type": "code",
   "execution_count": 14,
   "id": "aebd7a03-1b9e-4396-ab26-2ebca1912dd0",
   "metadata": {},
   "outputs": [],
   "source": [
    "#11. Write a program to check if a given list contains any duplicates using a `for` loop."
   ]
  },
  {
   "cell_type": "code",
   "execution_count": 40,
   "id": "9c563062-9796-4b2e-94e0-5d75afcd8833",
   "metadata": {},
   "outputs": [],
   "source": [
    "#creating a function\n",
    "def duplicate(l):\n",
    "    n=len(l)\n",
    "    dup=[]\n",
    "    for i in range(n):\n",
    "        num = i + 1\n",
    "        for j in range(num,n):\n",
    "            #checking if conatins duplicates or not\n",
    "            if l[i] == l[j] and l[i] not in dup:\n",
    "                dup.append(l[i])\n",
    "    return dup"
   ]
  },
  {
   "cell_type": "code",
   "execution_count": 41,
   "id": "a411a088-53b9-4ee0-a822-ce6bf7590398",
   "metadata": {},
   "outputs": [
    {
     "name": "stdout",
     "output_type": "stream",
     "text": [
      "Contains duplicates\n"
     ]
    }
   ],
   "source": [
    "result=duplicate([1,2,3,2,4,5,6,5])\n",
    "if result:\n",
    "    print(\"Contains duplicates\")\n",
    "else:\n",
    "    print(\"No duplicates\")"
   ]
  },
  {
   "cell_type": "code",
   "execution_count": 1,
   "id": "3d5ce643-734a-49f1-90b4-e8f2cd0fd23c",
   "metadata": {},
   "outputs": [],
   "source": [
    "#12. Create a program that prints the prime numbers in a given range using a `for` loop"
   ]
  },
  {
   "cell_type": "code",
   "execution_count": 19,
   "id": "5a151848-caea-43fc-9e2d-688a9817d559",
   "metadata": {},
   "outputs": [
    {
     "name": "stdin",
     "output_type": "stream",
     "text": [
      "Enter the limit: 5\n"
     ]
    },
    {
     "name": "stdout",
     "output_type": "stream",
     "text": [
      "2\n",
      "3\n",
      "5\n"
     ]
    }
   ],
   "source": [
    "#creating user input\n",
    "num=int(input(\"Enter the limit:\"))  \n",
    "#loop ranges till upper limit entered by the user\n",
    "for i in range(2,num+1):\n",
    "    k=0\n",
    "    #checking the division by zere loop ranges from 2 to the half of the number so 1\n",
    "    for j in range(2,i//2+1):\n",
    "        if(i%j==0):\n",
    "            k=k+1\n",
    "    if(k<=0):\n",
    "        print(i)  \n",
    "              \n",
    "           \n",
    "    "
   ]
  },
  {
   "cell_type": "code",
   "execution_count": 20,
   "id": "5e9dc36c-f6b1-401c-b83a-1fb4d7819422",
   "metadata": {},
   "outputs": [],
   "source": [
    "#13. Develop a program that counts the number of vowels in a string using a `for` loop."
   ]
  },
  {
   "cell_type": "code",
   "execution_count": 29,
   "id": "37541fbe-babb-4266-9069-52066b14a2b0",
   "metadata": {},
   "outputs": [
    {
     "name": "stdin",
     "output_type": "stream",
     "text": [
      "Enter a string hello\n"
     ]
    },
    {
     "name": "stdout",
     "output_type": "stream",
     "text": [
      "The number of vowels: 2\n"
     ]
    }
   ],
   "source": [
    "#intialzing user input\n",
    "str=input(\"Enter a string\")\n",
    "str.lower()\n",
    "vow=0\n",
    "#checking for vowels or not\n",
    "for i in str:\n",
    "    if(i=='a' or i=='e' or i=='i' or i=='o' or i=='u'):\n",
    "        vow=vow+1\n",
    "print(\"The number of vowels:\",vow)\n",
    "\n",
    "\n",
    "\n",
    "    "
   ]
  },
  {
   "cell_type": "code",
   "execution_count": 30,
   "id": "f3c78d3a-bc74-44f8-b645-926c9b3751b6",
   "metadata": {},
   "outputs": [],
   "source": [
    "#14. Write a program to find the maximum element in a 2D list using a nested `for` loop"
   ]
  },
  {
   "cell_type": "code",
   "execution_count": 54,
   "id": "9b4a5ace-c346-44b9-a45f-a5dcda157e04",
   "metadata": {},
   "outputs": [
    {
     "name": "stdout",
     "output_type": "stream",
     "text": [
      "The maximum element in 2D list: 12\n"
     ]
    }
   ],
   "source": [
    "l1=[[1,2,3],[4,12,6],[7,8,10]]\n",
    "maxi=0\n",
    "#ierating through list\n",
    "for row in l1:\n",
    "       #ierating through each element find its max\n",
    "    for i in row:\n",
    "        if i >maxi:\n",
    "            maxi=i\n",
    "print(\"The maximum element in 2D list:\",maxi)\n"
   ]
  },
  {
   "cell_type": "code",
   "execution_count": 55,
   "id": "59300d6c-b25f-462c-badb-23d419299c74",
   "metadata": {},
   "outputs": [],
   "source": [
    "#15. Create a program that removes all occurrences of a specific element from a list using a `for` loop."
   ]
  },
  {
   "cell_type": "code",
   "execution_count": 4,
   "id": "cd035023-1fe1-480e-8539-7a8708b2f761",
   "metadata": {},
   "outputs": [],
   "source": [
    "#creating function \n",
    "def rem_occ(list1,remove_ele):\n",
    "    new_list=[]\n",
    "    #ierating through each element\n",
    "    for num in list1:\n",
    "        #checking if remove element present or not \n",
    "        if num!=remove_ele:\n",
    "            new_list.append(num)\n",
    "    return new_list"
   ]
  },
  {
   "cell_type": "code",
   "execution_count": 5,
   "id": "21a4a4f4-1a81-4b86-bbea-2a6436c914db",
   "metadata": {},
   "outputs": [
    {
     "name": "stdout",
     "output_type": "stream",
     "text": [
      "The new list: [1, 3, 4, 5]\n"
     ]
    }
   ],
   "source": [
    "res=rem_occ([1,2,3,4,5],2)\n",
    "print(\"The new list:\",res)\n",
    "\n"
   ]
  },
  {
   "cell_type": "code",
   "execution_count": 6,
   "id": "a8914388-57fb-4743-881a-e53fa562cc84",
   "metadata": {},
   "outputs": [],
   "source": [
    "#17. Write a program that converts a list of Fahrenheit temperatures to Celsius using a `for` loop."
   ]
  },
  {
   "cell_type": "code",
   "execution_count": 15,
   "id": "16edbb8e-81ac-4f80-85eb-b34bac71ff8f",
   "metadata": {},
   "outputs": [],
   "source": [
    "def fah_cel(fah_tem):\n",
    "    cel_tem=[]\n",
    "    for i in fah_tem:\n",
    "        #converting fah to celsius \n",
    "        cels=int((i-32)*5/9)\n",
    "        cel_tem.append(cels)\n",
    "    return cel_tem\n"
   ]
  },
  {
   "cell_type": "code",
   "execution_count": 17,
   "id": "68d94fa2-af05-4905-8768-6d1159067633",
   "metadata": {},
   "outputs": [
    {
     "name": "stdout",
     "output_type": "stream",
     "text": [
      "The Celsius temparature list: [36, 35, 32, 37]\n"
     ]
    }
   ],
   "source": [
    "res=fah_cel([98,95,90,100])\n",
    "print(\"The Celsius temparature list:\",res)\n"
   ]
  },
  {
   "cell_type": "code",
   "execution_count": null,
   "id": "d503ca68-129f-4825-a4da-2eecfdd383b3",
   "metadata": {},
   "outputs": [],
   "source": [
    "#18. Create a program to print the common elements from two lists using a `for` loop."
   ]
  },
  {
   "cell_type": "code",
   "execution_count": 27,
   "id": "0d1f6dbc-526e-4402-b2c5-ea210791a225",
   "metadata": {},
   "outputs": [],
   "source": [
    "def com_elements(l1,l2):\n",
    "    new_list=[]\n",
    "    #ierating through each list\n",
    "    for i in l1:\n",
    "        #ierating through each element in the list and comparing\n",
    "        for j in l2:\n",
    "            if i==j:\n",
    "                new_list.append(i)\n",
    "    return new_list"
   ]
  },
  {
   "cell_type": "code",
   "execution_count": 29,
   "id": "40906b3c-0d62-4c3c-b211-70167b390028",
   "metadata": {},
   "outputs": [
    {
     "name": "stdout",
     "output_type": "stream",
     "text": [
      "The common elements in the list: [2, 5]\n"
     ]
    }
   ],
   "source": [
    "res=com_elements([1,2,3,5],[2,4,5])\n",
    "print(\"The common elements in the list:\",res)"
   ]
  },
  {
   "cell_type": "code",
   "execution_count": 30,
   "id": "d9b4c588-6bf0-4826-af1b-7e61c90106ba",
   "metadata": {},
   "outputs": [],
   "source": [
    "#19. Develop a program that prints the pattern of right-angled triangles using a `for` loop. Use ‘*’ to draw the \n",
    "#pattern"
   ]
  },
  {
   "cell_type": "code",
   "execution_count": 61,
   "id": "2caa4999-850d-4dc7-8377-831bd0c00800",
   "metadata": {},
   "outputs": [
    {
     "name": "stdin",
     "output_type": "stream",
     "text": [
      "Enter number of rows: 5\n"
     ]
    },
    {
     "name": "stdout",
     "output_type": "stream",
     "text": [
      "* \n",
      "* * \n",
      "* * * \n",
      "* * * * \n",
      "* * * * * \n"
     ]
    }
   ],
   "source": [
    "#creating input rows need from user\n",
    "rows=int(input(\"Enter number of rows:\"))\n",
    "#incrementing each value and printing it\n",
    "for i in range(1,rows+1):\n",
    "    for j in range(1,i+1):\n",
    "        print('*',end=' ')\n",
    "    print()\n",
    "            "
   ]
  },
  {
   "cell_type": "code",
   "execution_count": 62,
   "id": "40eebbc1-2d3b-4048-93a0-2d5d04fa2877",
   "metadata": {},
   "outputs": [],
   "source": [
    "#20. Write a program to find the greatest common divisor (GCD) of two numbers using a `for` loop."
   ]
  },
  {
   "cell_type": "code",
   "execution_count": 69,
   "id": "6f04d4e6-2259-4cb0-b76a-652d16df9e53",
   "metadata": {},
   "outputs": [],
   "source": [
    "def gcd(num1,num2):\n",
    "    g=1\n",
    "    for i in range(1,min(num1,num2)):\n",
    "        if num1%i==0 and num2%i==0:\n",
    "            g=i\n",
    "    return g"
   ]
  },
  {
   "cell_type": "code",
   "execution_count": 71,
   "id": "4a4569bf-066a-4d52-8cb5-f8a7d44c115a",
   "metadata": {},
   "outputs": [
    {
     "data": {
      "text/plain": [
       "12"
      ]
     },
     "execution_count": 71,
     "metadata": {},
     "output_type": "execute_result"
    }
   ],
   "source": [
    "gcd(36,60)\n"
   ]
  },
  {
   "cell_type": "code",
   "execution_count": 1,
   "id": "44599632-570a-424b-9731-4a2786622488",
   "metadata": {},
   "outputs": [],
   "source": [
    "#21. Create a program that calculates the sum of the digits of numbers in a list using a list comprehension."
   ]
  },
  {
   "cell_type": "code",
   "execution_count": 1,
   "id": "4e925b29-61ae-4259-aaff-05c0a3480e48",
   "metadata": {},
   "outputs": [
    {
     "name": "stdout",
     "output_type": "stream",
     "text": [
      "The sum is : [62]\n"
     ]
    }
   ],
   "source": [
    "list_com=[10,20,30,2]\n",
    "#calulating sum using list comph\n",
    "new_list=[sum(int(i) for i in list_com)]\n",
    "print(\"The sum is :\" ,new_list)"
   ]
  },
  {
   "cell_type": "code",
   "execution_count": null,
   "id": "7e59f450-270c-495d-be28-bd09a41bcfcd",
   "metadata": {},
   "outputs": [],
   "source": [
    "#23. Develop a program that extracts unique elements from a list and stores them in a new list using a list \n",
    "#comprehension."
   ]
  },
  {
   "cell_type": "code",
   "execution_count": 35,
   "id": "0519fe09-1d01-4852-b4ea-7b5b8a418597",
   "metadata": {},
   "outputs": [
    {
     "name": "stdout",
     "output_type": "stream",
     "text": [
      "[10, 20, 30, 40, 50]\n"
     ]
    }
   ],
   "source": [
    "list1=[10,20,30,30,40,50,40]\n",
    "temp=[]\n",
    "#appending unique values \n",
    "[temp.append(i) for i in list1 if i not in temp]\n",
    "print(temp)"
   ]
  },
  {
   "cell_type": "code",
   "execution_count": null,
   "id": "00292774-fdc5-4a51-9ce3-e5f433bc5e09",
   "metadata": {},
   "outputs": [],
   "source": [
    "#24. Create a program that generates a list of all palindromic numbers up to a specified limit using a list \n",
    "#comprehension."
   ]
  },
  {
   "cell_type": "code",
   "execution_count": 38,
   "id": "dfcbbf5d-e153-4e89-8596-e46765a76aa4",
   "metadata": {},
   "outputs": [],
   "source": [
    "#creating fun for palindromic\n",
    "def pal(num):\n",
    "    return str(num)==str(num)[::-1]\n",
    "#creating fun for range and using list comph to generate palindromic numbers\n",
    "def pal_limit(limit):\n",
    "    return [num for num in range(limit+1) if pal(num)]\n"
   ]
  },
  {
   "cell_type": "code",
   "execution_count": 39,
   "id": "67c7c828-3b5f-41e4-bf67-9afe851d51c9",
   "metadata": {},
   "outputs": [
    {
     "data": {
      "text/plain": [
       "[0, 1, 2, 3, 4, 5, 6, 7, 8, 9, 11, 22, 33, 44, 55, 66, 77, 88, 99]"
      ]
     },
     "execution_count": 39,
     "metadata": {},
     "output_type": "execute_result"
    }
   ],
   "source": [
    "pal_limit(100)"
   ]
  },
  {
   "cell_type": "code",
   "execution_count": 34,
   "id": "37921761-c43e-4532-8f7a-bc79a358c44e",
   "metadata": {},
   "outputs": [],
   "source": [
    "#25. Write a program to flatten a nested list using list comprehension."
   ]
  },
  {
   "cell_type": "code",
   "execution_count": 41,
   "id": "920cc85f-b0d2-4c2b-adcc-b927725c6c7b",
   "metadata": {},
   "outputs": [
    {
     "name": "stdout",
     "output_type": "stream",
     "text": [
      "[10, 20, 30, 40, 50, 60, 70, 80]\n"
     ]
    }
   ],
   "source": [
    "nested_list=[[10],[20,30,40],[50,60],[70,80]]\n",
    "#creating flatten list using list comph\n",
    "flatten_list=[i for j in nested_list for i in j]\n",
    "print(flatten_list)"
   ]
  },
  {
   "cell_type": "code",
   "execution_count": 42,
   "id": "6412dec6-86bb-4311-9625-3b0144467468",
   "metadata": {},
   "outputs": [],
   "source": [
    "#26. Develop a program that computes the sum of even and odd numbers in a list separately using list \n",
    "#comprehension."
   ]
  },
  {
   "cell_type": "code",
   "execution_count": 51,
   "id": "68b540e2-eece-4fea-ad29-34f739eaa5f9",
   "metadata": {},
   "outputs": [],
   "source": [
    "def sum_all(num):\n",
    "    #checking the desired list elements are even or odd using list comph\n",
    "    even=[i for i in num if i % 2==0]\n",
    "    odd=[i for i in num if i % 2!=0]\n",
    "    #calculating the sum\n",
    "    even_sum=sum(even)\n",
    "    odd_sum=sum(odd)\n",
    "    print(\"The sum of even numbers:\",even_sum)\n",
    "    print(\"The sum of odd numbers:\",odd_sum)\n",
    "    \n",
    "    "
   ]
  },
  {
   "cell_type": "code",
   "execution_count": 52,
   "id": "4d01cca8-2ffa-453d-b9b6-598f6696e718",
   "metadata": {},
   "outputs": [
    {
     "name": "stdout",
     "output_type": "stream",
     "text": [
      "The sum of even numbers: 30\n",
      "The sum of odd numbers: 25\n"
     ]
    }
   ],
   "source": [
    "sum_all([1,2,3,4,5,6,7,8,9,10])"
   ]
  },
  {
   "cell_type": "code",
   "execution_count": 1,
   "id": "9a58c85e-5188-4154-9128-cb95fd71a4be",
   "metadata": {},
   "outputs": [],
   "source": [
    "#27. Create a program that generates a list of squares of odd numbers between 1 and 10 using list \n",
    "#comprehension."
   ]
  },
  {
   "cell_type": "code",
   "execution_count": 12,
   "id": "b3bfd2fe-3e6d-48fc-a27b-5e11de870324",
   "metadata": {},
   "outputs": [
    {
     "name": "stdout",
     "output_type": "stream",
     "text": [
      "The square of odd numbers: [1, 9, 25, 49, 81]\n"
     ]
    }
   ],
   "source": [
    "#creating square of odd numbers by list comph\n",
    "sq_odd=[i**2 for i in range(1,10) if i%2!=0]\n",
    "print(\"The square of odd numbers:\",sq_odd)"
   ]
  },
  {
   "cell_type": "code",
   "execution_count": 13,
   "id": "b450b392-6230-41bc-ae16-7d7a1fa9a4bb",
   "metadata": {},
   "outputs": [],
   "source": [
    "#28. Write a program that combines two lists into a dictionary using list comprehension."
   ]
  },
  {
   "cell_type": "code",
   "execution_count": 16,
   "id": "18608b3c-ef40-4e74-b037-4825ed8d449a",
   "metadata": {},
   "outputs": [
    {
     "name": "stdout",
     "output_type": "stream",
     "text": [
      "{'one': 1, 'two': 2, 'three': 3, 'four': 4, 'five': 5}\n"
     ]
    }
   ],
   "source": [
    "key_list=['one','two','three','four','five']\n",
    "value_list=[1,2,3,4,5]\n",
    "#converting the list to dic \n",
    "dic={key_list[i] : value_list[i] for i in range(min(len(key_list),len(value_list)))}\n",
    "print(dic)"
   ]
  },
  {
   "cell_type": "code",
   "execution_count": 1,
   "id": "7961ebd0-5b37-4d33-8f59-0b084e4a07f5",
   "metadata": {},
   "outputs": [],
   "source": [
    "#29. Develop a program that extracts the vowels from a string and stores them in a list using list comprehension."
   ]
  },
  {
   "cell_type": "code",
   "execution_count": 25,
   "id": "5e6227a5-cd81-4723-a027-24cd0e0b60a2",
   "metadata": {},
   "outputs": [],
   "source": [
    "def exc_vow(sen):\n",
    "    sen.lower()\n",
    "    vow=[]\n",
    "    #checking for vowels in the string using list comph\n",
    "    [vow.append(i) for i in sen if i in 'aeiou']\n",
    "    print(\"The vowels in the string:\",vow)\n",
    "    "
   ]
  },
  {
   "cell_type": "code",
   "execution_count": 26,
   "id": "e6412aa7-bd43-413d-835c-bab362d5aba4",
   "metadata": {},
   "outputs": [
    {
     "name": "stdout",
     "output_type": "stream",
     "text": [
      "The vowels in the string: ['e', 'o', 'i']\n"
     ]
    }
   ],
   "source": [
    "exc_vow(\"Hello PWSkills\")\n"
   ]
  },
  {
   "cell_type": "code",
   "execution_count": 27,
   "id": "e8cc6550-325e-4b07-a892-4a7c1b19429b",
   "metadata": {},
   "outputs": [],
   "source": [
    "#30. Create a program that removes all non-numeric characters from a list of strings using list comprehension."
   ]
  },
  {
   "cell_type": "code",
   "execution_count": 35,
   "id": "f05096d3-479a-47a0-bbd8-a1b7bdea7c7f",
   "metadata": {},
   "outputs": [],
   "source": [
    "def non_numeric(list_str):  \n",
    "    #filtering numbers from string using list comph\n",
    "    list_str= [''.join(i for i in x if i.isnumeric()) for x in list_str]\n",
    "    print(list_str)"
   ]
  },
  {
   "cell_type": "code",
   "execution_count": 37,
   "id": "c679378f-186c-44e0-b074-801fa200229e",
   "metadata": {},
   "outputs": [
    {
     "name": "stdout",
     "output_type": "stream",
     "text": [
      "['29', '30', '20']\n"
     ]
    }
   ],
   "source": [
    "non_numeric([\"hello 29\",\"hai 30\",\"red20\"])"
   ]
  },
  {
   "cell_type": "code",
   "execution_count": null,
   "id": "af43f927-764b-4c3c-a176-bfe6aabf91a5",
   "metadata": {},
   "outputs": [],
   "source": [
    "#31. Write a program to generate a list of prime numbers using the Sieve of Eratosthenes algorithm and list \n",
    "#comprehension."
   ]
  },
  {
   "cell_type": "code",
   "execution_count": 1,
   "id": "787a471c-48cb-4bed-8981-5580e718dc5f",
   "metadata": {},
   "outputs": [],
   "source": [
    "def sieve(n):\n",
    "    #creating boolaen list and size n+1 and initilzing all entities True\n",
    "    is_prime=[True]*(n+1)\n",
    "    #zero and one not prime numbers\n",
    "    is_prime[0]=is_prime[1]=False\n",
    "    #generating prime numbers\n",
    "    for p in range(2,int(n**0.5)+1):\n",
    "        if is_prime[p]:\n",
    "            for i in range(p*p,n+1,p):\n",
    "                is_prime[i]=False\n",
    "    prime=[p for p in range(2,n+1) if is_prime[p]]\n",
    "    return prime"
   ]
  },
  {
   "cell_type": "code",
   "execution_count": 2,
   "id": "0bd32e9e-58b8-46f7-90eb-a0a6c030f7b2",
   "metadata": {},
   "outputs": [
    {
     "data": {
      "text/plain": [
       "[2, 3, 5, 7, 11, 13]"
      ]
     },
     "execution_count": 2,
     "metadata": {},
     "output_type": "execute_result"
    }
   ],
   "source": [
    "sieve(15)"
   ]
  },
  {
   "cell_type": "code",
   "execution_count": null,
   "id": "6f0566d2-7640-4d87-a8e9-3ab1805c4ab8",
   "metadata": {},
   "outputs": [],
   "source": [
    "#32. Create a program that generates a list of all Pythagorean triplets up to a specified limit using list \n",
    "#comprehension."
   ]
  },
  {
   "cell_type": "code",
   "execution_count": 3,
   "id": "1280f50d-a0f6-478e-a0c4-9216ca48144d",
   "metadata": {},
   "outputs": [],
   "source": [
    "#terating through possible values of 'a,' 'b,' and 'c' within the specified limit\n",
    "#The triplets that satisfy the Pythagorean theorem (a^2 + b^2 = c^2)\n",
    "def pythagorean(num):\n",
    "    tri=[(a,b,c) for a in range(1,num) for b in range(a,num) \n",
    "         for c in range(b+1,num) if a**2 + b**2==c**2]\n",
    "    return tri"
   ]
  },
  {
   "cell_type": "code",
   "execution_count": 4,
   "id": "03df331c-3d97-4fec-8340-1226af564197",
   "metadata": {},
   "outputs": [
    {
     "data": {
      "text/plain": [
       "[(3, 4, 5), (5, 12, 13), (6, 8, 10), (8, 15, 17), (9, 12, 15)]"
      ]
     },
     "execution_count": 4,
     "metadata": {},
     "output_type": "execute_result"
    }
   ],
   "source": [
    "pythagorean(20)"
   ]
  },
  {
   "cell_type": "code",
   "execution_count": null,
   "id": "5226ca4a-4cae-4bd0-aeb7-52862ab70614",
   "metadata": {},
   "outputs": [],
   "source": [
    "#33. Develop a program that generates a list of all possible combinations of two lists using list comprehension."
   ]
  },
  {
   "cell_type": "code",
   "execution_count": 5,
   "id": "f6f9eb53-ae8a-4df6-8166-5a8de85da18b",
   "metadata": {},
   "outputs": [
    {
     "name": "stdout",
     "output_type": "stream",
     "text": [
      "The possible combinations are: [(10, 2), (10, 4), (10, 5), (20, 2), (20, 4), (20, 5), (30, 2), (30, 4), (30, 5)]\n"
     ]
    }
   ],
   "source": [
    "list1=[10,20,30]\n",
    "list2=[2,4,5]\n",
    "#creatinfg possible combinations of two list using list comph\n",
    "com=[(i,j) for i in list1 for j in list2]\n",
    "print(\"The possible combinations are:\",com)"
   ]
  },
  {
   "cell_type": "code",
   "execution_count": null,
   "id": "f203f4fa-f134-40ba-8a33-c2fc7b2c13a0",
   "metadata": {},
   "outputs": [],
   "source": [
    "#34. Write a program that calculates the mean, median, and mode of a list of numbers using list \n",
    "#comprehension."
   ]
  },
  {
   "cell_type": "code",
   "execution_count": 6,
   "id": "90f9e86b-430f-47c8-bf18-c427b5f4e3e0",
   "metadata": {},
   "outputs": [
    {
     "name": "stdout",
     "output_type": "stream",
     "text": [
      "The mean of the list: [33]\n",
      "The median of list: [55]\n",
      "The mode of list: [30, 40, 50]\n"
     ]
    }
   ],
   "source": [
    "list1=[10,20,30,40,30,50,40,50]\n",
    "\n",
    "#finding the medin in list\n",
    "sort_num=sorted(list1)\n",
    "n=len(sort_num)\n",
    "median=[int(sort_num[n//2] + sort_num[(n-1) // 2] / 2 if n%2 ==0 else sort_num[n//2])]\n",
    "\n",
    "#finding the mean in the list\n",
    "\n",
    "mean=[int(sum(list1)/len(list1))]\n",
    "\n",
    "#finding the mode in the list\n",
    "\n",
    "count={item: list1.count(item) for item in list1}\n",
    "max_count=max(count.values())\n",
    "mode=[item for item ,i in count.items() if i==max_count] \n",
    "\n",
    "print(\"The mean of the list:\",mean)\n",
    "print(\"The median of list:\",median)\n",
    "print(\"The mode of list:\",mode)"
   ]
  },
  {
   "cell_type": "code",
   "execution_count": 7,
   "id": "cf67a89a-3b2c-4e4e-bc92-3a62957d67ba",
   "metadata": {},
   "outputs": [],
   "source": [
    "#36. Develop a program that calculates the sum of the digits of a factorial of numbers from 1 to 5 using list \n",
    "#comprehension."
   ]
  },
  {
   "cell_type": "code",
   "execution_count": 8,
   "id": "def0cc14-8a98-4577-bbd9-23a3b6173965",
   "metadata": {},
   "outputs": [
    {
     "name": "stdin",
     "output_type": "stream",
     "text": [
      "Enter a sentence Life is very beautiful\n"
     ]
    },
    {
     "name": "stdout",
     "output_type": "stream",
     "text": [
      "The longest word in the sentence: beautiful\n"
     ]
    }
   ],
   "source": [
    "sen=input(\"Enter a sentence\")\n",
    "words=sen.split()\n",
    "#findinf the longest word using list comphr\n",
    "longest_word=max(words, key=lambda word:len(word))\n",
    "print(\"The longest word in the sentence:\" ,longest_word)"
   ]
  },
  {
   "cell_type": "code",
   "execution_count": null,
   "id": "8e0eac4b-6645-421d-bfe2-164932f231fb",
   "metadata": {},
   "outputs": [],
   "source": []
  }
 ],
 "metadata": {
  "kernelspec": {
   "display_name": "Python 3 (ipykernel)",
   "language": "python",
   "name": "python3"
  },
  "language_info": {
   "codemirror_mode": {
    "name": "ipython",
    "version": 3
   },
   "file_extension": ".py",
   "mimetype": "text/x-python",
   "name": "python",
   "nbconvert_exporter": "python",
   "pygments_lexer": "ipython3",
   "version": "3.10.8"
  }
 },
 "nbformat": 4,
 "nbformat_minor": 5
}
