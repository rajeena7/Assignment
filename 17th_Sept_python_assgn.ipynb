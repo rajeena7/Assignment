{
 "cells": [
  {
   "cell_type": "code",
   "execution_count": 7,
   "id": "5a3339e4-c814-42e8-bf66-0dc4ecac2331",
   "metadata": {},
   "outputs": [],
   "source": [
    "#Map Function"
   ]
  },
  {
   "cell_type": "code",
   "execution_count": 9,
   "id": "d1f5058b-2ca3-4f2c-9548-b4477f51032c",
   "metadata": {},
   "outputs": [],
   "source": [
    "#1.\tExplain the purpose of the `map()` function in Python and\n",
    "#provide an example of how it can be used to apply a function to each element of an iterable."
   ]
  },
  {
   "cell_type": "code",
   "execution_count": null,
   "id": "352b7ae7-1f76-42c3-ab4d-9b515aa4435a",
   "metadata": {},
   "outputs": [],
   "source": [
    "'''\n",
    "The map() function in Python is a built-in function that is used to apply a specified function to all items \n",
    "in an iterable (such as a list, tuple, or other iterable objects) and returns an iterator that produces the results. \n",
    "\n",
    "The general syntax of the map() function is:\n",
    "\n",
    "      map(function,iterable,...)\n",
    "'''"
   ]
  },
  {
   "cell_type": "code",
   "execution_count": null,
   "id": "a2ef0867-8e58-486c-8218-47bd1e5fd6bc",
   "metadata": {},
   "outputs": [],
   "source": [
    "# eg:using lambda function will multiply each value in the list with 10."
   ]
  },
  {
   "cell_type": "code",
   "execution_count": 11,
   "id": "a6b2f666-5508-4a20-bc6e-e4b1b1dafbf6",
   "metadata": {},
   "outputs": [],
   "source": [
    "l=[2,4,3,5,1]"
   ]
  },
  {
   "cell_type": "code",
   "execution_count": 15,
   "id": "703d17d0-3c5e-4ea3-980d-06a2f82ca20b",
   "metadata": {},
   "outputs": [
    {
     "name": "stdout",
     "output_type": "stream",
     "text": [
      "[20, 40, 30, 50, 10]\n"
     ]
    }
   ],
   "source": [
    "new_list=map(lambda a : a*10 ,l)\n",
    "print(list(new_list))"
   ]
  },
  {
   "cell_type": "code",
   "execution_count": 16,
   "id": "6e30c762-493d-4ddc-8480-aab27d4b66e8",
   "metadata": {},
   "outputs": [],
   "source": [
    "#2\tWrite a Python program that uses the `map()` function to square each element of a list of numbers."
   ]
  },
  {
   "cell_type": "code",
   "execution_count": 17,
   "id": "aefb87b0-d3ca-4f9a-8bc0-4f70d12e7aef",
   "metadata": {},
   "outputs": [],
   "source": [
    "s_list=[1,2,3,4,5]"
   ]
  },
  {
   "cell_type": "code",
   "execution_count": 20,
   "id": "3e2138d8-c0d3-403f-af10-73549cd10414",
   "metadata": {},
   "outputs": [
    {
     "data": {
      "text/plain": [
       "[1, 4, 9, 16, 25]"
      ]
     },
     "execution_count": 20,
     "metadata": {},
     "output_type": "execute_result"
    }
   ],
   "source": [
    "list(map(lambda a : a*a ,s_list))"
   ]
  },
  {
   "cell_type": "code",
   "execution_count": null,
   "id": "5b3251aa-4549-44bb-946d-c1ea080951bb",
   "metadata": {},
   "outputs": [],
   "source": [
    "#3.\tHow does the `map()` function differ from a list comprehension in Python, and when would you choose one over the other?"
   ]
  },
  {
   "cell_type": "code",
   "execution_count": null,
   "id": "b79c0c7e-a433-4675-9d6c-cac1fd55a3ac",
   "metadata": {},
   "outputs": [],
   "source": [
    "'''\n",
    "Both the map() function and list comprehensions in Python are used to apply a given function to each item in an iterable \n",
    "(like a list) and generate a new iterable with the results. However, they have some differences in terms of syntax and use cases.\n",
    "\n",
    "map() function:\n",
    "The map() function takes a function and an iterable as arguments and applies the function to each item in the iterable, \n",
    "returning a map object (an iterator). It has the following syntax:\n",
    "\n",
    "\n",
    "The general syntax of the map() function is:\n",
    "\n",
    "      map(function,iterable,...)\n",
    "      \n",
    "      \n",
    "List Comprehension:\n",
    "\n",
    "List comprehensions provide a concise way to create lists. They have a more compact and readable syntax compared to the map() function. \n",
    "The basic syntax for a list comprehension is:      \n",
    "\n",
    "[expression for item in iterable]\n",
    "\n",
    "When to Choose One Over the Other:\n",
    "\n",
    "1.Readability:\n",
    "\n",
    "List comprehensions are often considered more readable and Pythonic, especially for simple operations.\n",
    "map() can become less readable when using complex functions or when working with multiple iterables.\n",
    "\n",
    "\n",
    "2.Return Type:\n",
    "\n",
    "map() returns a map object, which needs to be converted to a list or another iterable to be used effectively.\n",
    "List comprehensions directly return a list, making them more convenient in many cases.\n",
    "\n",
    "\n",
    "3.Use Cases:\n",
    "\n",
    "Use map() when you have an existing function that you want to apply to each item in an iterable.\n",
    "Use list comprehensions when you want to create a new list based on some expression or condition.\n",
    "\n",
    "\n",
    "4.Performance:\n",
    "\n",
    "In terms of performance, the difference is usually negligible for small datasets.\n",
    "However, for very large datasets, map() might be slightly more memory-efficient as it returns \n",
    "an iterator rather than creating a new list in memory.\n",
    "\n",
    "\n",
    "\n",
    "In summary, both map() and list comprehensions are useful, and the choice between\n",
    "them often comes down to personal preference, readability, and the specific requirements of your code.\n",
    "\n",
    "'''"
   ]
  },
  {
   "cell_type": "code",
   "execution_count": null,
   "id": "c3a34e91-25dc-48bf-b328-f659f86dca5c",
   "metadata": {},
   "outputs": [],
   "source": [
    "#4.\tCreate a Python program that uses the `map()` function to convert a list of names to uppercase."
   ]
  },
  {
   "cell_type": "code",
   "execution_count": 16,
   "id": "0f4aa68d-ad07-41b5-953c-74b267f4555e",
   "metadata": {},
   "outputs": [
    {
     "data": {
      "text/plain": [
       "['RED', 'WHITE', 'YELLOW']"
      ]
     },
     "execution_count": 16,
     "metadata": {},
     "output_type": "execute_result"
    }
   ],
   "source": [
    "name_list=[\"Red\",\"white\",\"yellow\"]\n",
    "list(map(lambda u: u.upper(), name_list))\n",
    "  "
   ]
  },
  {
   "cell_type": "code",
   "execution_count": 17,
   "id": "7c9526cd-3b6c-42a2-90a0-b7af781e1690",
   "metadata": {},
   "outputs": [],
   "source": [
    "#5.\tWrite a Python program that uses the `map()` function to calculate the length of each word in a list of strings."
   ]
  },
  {
   "cell_type": "code",
   "execution_count": 22,
   "id": "14f287ba-3672-4a12-89e8-a4155ed071f5",
   "metadata": {},
   "outputs": [
    {
     "data": {
      "text/plain": [
       "[5, 4, 6, 4]"
      ]
     },
     "execution_count": 22,
     "metadata": {},
     "output_type": "execute_result"
    }
   ],
   "source": [
    "new_str=[\"green\",\"pink\",\"orange\",\"blue\"]\n",
    "\n",
    "list(map(lambda l :len(l),new_str))\n",
    "    "
   ]
  },
  {
   "cell_type": "code",
   "execution_count": null,
   "id": "b7e6898c-8494-4345-a034-1170da6fc94b",
   "metadata": {},
   "outputs": [],
   "source": [
    "#6.\tHow can you use the `map()` function to apply a custom function to elements of multiple lists simultaneously in Python?"
   ]
  },
  {
   "cell_type": "code",
   "execution_count": null,
   "id": "a654ff88-cb33-4f32-9d02-2934e7da2f77",
   "metadata": {},
   "outputs": [],
   "source": [
    "'''\n",
    "The map() function in Python is commonly used to apply a specified function to all items in an iterable (e.g., a list)\n",
    "and return an iterator that produces the results. If you want to apply a custom function to elements\n",
    "of multiple lists simultaneously, you can use map() with zip().\n",
    "\n",
    "'''\n",
    "\n"
   ]
  },
  {
   "cell_type": "code",
   "execution_count": 27,
   "id": "6cf65811-a48f-4da5-8d79-ccae7c5bdd6f",
   "metadata": {},
   "outputs": [
    {
     "data": {
      "text/plain": [
       "[17, 34, 51]"
      ]
     },
     "execution_count": 27,
     "metadata": {},
     "output_type": "execute_result"
    }
   ],
   "source": [
    "def fun(a,b,c):\n",
    "    \n",
    "    return a+b+c\n",
    "\n",
    "l1=[10,20,30]\n",
    "l2=[5,10,15]\n",
    "l3=[2,4,6]\n",
    "\n",
    "list(map(fun,l1,l2,l3))\n"
   ]
  },
  {
   "cell_type": "code",
   "execution_count": 28,
   "id": "79855888-bbb2-4e89-b359-bd1f400e862b",
   "metadata": {},
   "outputs": [],
   "source": [
    "#7.\tCreate a Python program that uses `map()` to convert a list of temperatures from Celsius to Fahrenheit."
   ]
  },
  {
   "cell_type": "code",
   "execution_count": 39,
   "id": "4c532eaa-7d48-48c8-94a0-41356d4a812a",
   "metadata": {},
   "outputs": [
    {
     "data": {
      "text/plain": [
       "[86, 89, 95]"
      ]
     },
     "execution_count": 39,
     "metadata": {},
     "output_type": "execute_result"
    }
   ],
   "source": [
    "#function for converting celsius to fahrenheit\n",
    "def cel_to_fah(C):\n",
    "           \n",
    "    return int(C*(9/5)+32)\n",
    "#creting list\n",
    "\n",
    "cel_list=[30,32,35]\n",
    "\n",
    "#by using map function to perform cel_to_fah () on each element in the list and iterator result converting to list\n",
    "\n",
    "list(map(cel_to_fah,cel_list))\n"
   ]
  },
  {
   "cell_type": "code",
   "execution_count": 33,
   "id": "02abef8c-412b-416b-83c4-15b7e62fb2ef",
   "metadata": {},
   "outputs": [],
   "source": [
    "#8.\tWrite a Python program that uses the `map()` function to round each element of a list of floating-point numbers to the nearest integer."
   ]
  },
  {
   "cell_type": "code",
   "execution_count": 40,
   "id": "ae06cf0d-94ae-4401-b54b-050eda1b7763",
   "metadata": {},
   "outputs": [
    {
     "data": {
      "text/plain": [
       "[45, 13, 95, 66]"
      ]
     },
     "execution_count": 40,
     "metadata": {},
     "output_type": "execute_result"
    }
   ],
   "source": [
    "#function for rounding the number\n",
    "def ele_round(num):\n",
    "    \n",
    "    return round(num)\n",
    "\n",
    "#creating the list\n",
    "fl_list=[45.23,12.568,94.567,65.75]\n",
    "\n",
    "#by using map function to perform ele_round() on each element in the list and iterator result converting to list\n",
    "\n",
    "list(map(ele_round ,fl_list))\n",
    "    "
   ]
  },
  {
   "cell_type": "code",
   "execution_count": null,
   "id": "aa8bd8eb-e581-4a82-877d-9dfe904455c9",
   "metadata": {},
   "outputs": [],
   "source": [
    "#Reduce"
   ]
  },
  {
   "cell_type": "code",
   "execution_count": null,
   "id": "6bc031e2-2730-4681-80e6-39961828fa00",
   "metadata": {},
   "outputs": [],
   "source": [
    "#1.\tWhat is the `reduce()` function in Python, and what module should you import to use it? Provide an example of its basic usage."
   ]
  },
  {
   "cell_type": "code",
   "execution_count": null,
   "id": "54d21f33-b7f1-4fb8-ae13-49c6532c78e7",
   "metadata": {},
   "outputs": [],
   "source": [
    "\"\"\"The reduce() function is part of the functools module in Python. It is used for reducing a sequence\n",
    "(e.g., a list) to a single value by successively applying a binary function to the items in the sequence.\n",
    "The basic syntax of reduce() is as follows:\n",
    "\n",
    "functools.reduce(function, sequence[, initializer])\n",
    "\n",
    "function: The binary function that takes two arguments and is applied cumulatively to the items of sequence.\n",
    "sequence: The iterable sequence of values to be reduced.\n",
    "initializer (optional): An initial value that is used as the first argument to the function.\n",
    "\n"
   ]
  },
  {
   "cell_type": "code",
   "execution_count": 3,
   "id": "1d9690c8-8eac-4a14-a81d-252bc5aff17a",
   "metadata": {},
   "outputs": [
    {
     "name": "stdout",
     "output_type": "stream",
     "text": [
      "80\n"
     ]
    }
   ],
   "source": [
    "\n",
    "from functools import reduce\n",
    "\n",
    "def mul(x,y):\n",
    "    \n",
    "    return x*y\n",
    "\n",
    "l1=[2,5,2,4]\n",
    "\n",
    "#using reduce to find the product of all elements in the list\n",
    "res=reduce(mul,l1)\n",
    "print(res)\n"
   ]
  },
  {
   "cell_type": "code",
   "execution_count": null,
   "id": "07bc0d55-48c6-43ac-bc28-536adf257aa3",
   "metadata": {},
   "outputs": [],
   "source": [
    "#2.\tWrite a Python program that uses the `reduce()` function to find the product of all elements in a list."
   ]
  },
  {
   "cell_type": "code",
   "execution_count": 4,
   "id": "f3892c43-6c78-4c96-a81a-e8925bc9c7b3",
   "metadata": {},
   "outputs": [
    {
     "name": "stdout",
     "output_type": "stream",
     "text": [
      "60\n"
     ]
    }
   ],
   "source": [
    "\n",
    "from functools import reduce\n",
    "\n",
    "def mul(x,y):\n",
    "    \n",
    "    return x*y\n",
    "\n",
    "l1=[5,2,3,2]\n",
    "\n",
    "#using reduce to find the product of all elements in the list\n",
    "res=reduce(mul,l1)\n",
    "print(res)\n"
   ]
  },
  {
   "cell_type": "code",
   "execution_count": null,
   "id": "eaa9a594-705e-45c9-ba2d-2446ef62620a",
   "metadata": {},
   "outputs": [],
   "source": [
    "#3.\tCreate a Python program that uses `reduce()` to find the maximum element in a list of numbers."
   ]
  },
  {
   "cell_type": "code",
   "execution_count": 6,
   "id": "89cad294-6456-4429-9c81-408e33b7b59b",
   "metadata": {},
   "outputs": [
    {
     "name": "stdout",
     "output_type": "stream",
     "text": [
      "20\n"
     ]
    }
   ],
   "source": [
    "\n",
    "from functools import reduce\n",
    "\n",
    "l2=[2,5,12,20,8]\n",
    "\n",
    "def max_num(x,y):\n",
    "    \n",
    "    return x if x>y else y\n",
    "\n",
    "#using reduce to find the maximum element in the list\n",
    "\n",
    "res=reduce(max_num,l2)\n",
    "print(res)\n",
    " "
   ]
  },
  {
   "cell_type": "code",
   "execution_count": 7,
   "id": "0fd1504b-f480-4889-bbc2-afce8c5e25b7",
   "metadata": {},
   "outputs": [],
   "source": [
    "#4.\tHow can you use the `reduce()` function to concatenate a list of strings into a single string?"
   ]
  },
  {
   "cell_type": "code",
   "execution_count": 26,
   "id": "612ecdca-0394-4a5a-bd42-6bc920555273",
   "metadata": {},
   "outputs": [
    {
     "data": {
      "text/plain": [
       "'this world is beautiful'"
      ]
     },
     "execution_count": 26,
     "metadata": {},
     "output_type": "execute_result"
    }
   ],
   "source": [
    "\n",
    "str_list=[\"this\",\" \",\"world\",\" \", \"is\",\" \",\"beautiful\"]\n",
    "\n",
    "def con_str(x,y):\n",
    "    \n",
    "    return x+y\n",
    "\n",
    "reduce(con_str,str_list)\n",
    "\n"
   ]
  },
  {
   "cell_type": "code",
   "execution_count": 1,
   "id": "33979f19-36a6-44b0-b09f-2b4cc6ef18b2",
   "metadata": {},
   "outputs": [],
   "source": [
    "#5.\tWrite a Python program that calculates the factorial of a number using the `reduce()` function."
   ]
  },
  {
   "cell_type": "code",
   "execution_count": 8,
   "id": "e57fb5ab-82a0-4a82-a82f-9e14d5ff2eb0",
   "metadata": {},
   "outputs": [
    {
     "name": "stdin",
     "output_type": "stream",
     "text": [
      "Enter a number: 5\n"
     ]
    },
    {
     "name": "stdout",
     "output_type": "stream",
     "text": [
      "The factorial of '5': 120\n"
     ]
    }
   ],
   "source": [
    "from functools import reduce\n",
    "\n",
    "num=int(input(\"Enter a number:\"))\n",
    "\n",
    "fact=reduce(lambda a,b :a*b , range(1,num+1))\n",
    "\n",
    "print(f\"The factorial of '{num}':\", fact)\n",
    "\n"
   ]
  },
  {
   "cell_type": "code",
   "execution_count": 9,
   "id": "e92fe32f-b034-44cb-917e-6684b9e37f5f",
   "metadata": {},
   "outputs": [],
   "source": [
    "#6.\tCreate a Python program that uses `reduce()` to find the GCD (Greatest Common Divisor) of a list of numbers."
   ]
  },
  {
   "cell_type": "code",
   "execution_count": 11,
   "id": "9a390e70-e726-4a4b-bd5f-bf23cee4a8b0",
   "metadata": {},
   "outputs": [],
   "source": [
    "from functools import reduce\n",
    "\n",
    "#function to find gcd\n",
    "def gcd(x,y):\n",
    "    \n",
    "    while y:\n",
    "        x,y = y, x%y\n",
    "    return x\n",
    "    \n",
    "def find_gcd(num):\n",
    "        \n",
    "    res= reduce(gcd,num)\n",
    "    return res\n",
    "    \n",
    "    "
   ]
  },
  {
   "cell_type": "code",
   "execution_count": 12,
   "id": "0613a7ba-555c-422b-a3db-70e35a6cd5cd",
   "metadata": {},
   "outputs": [
    {
     "name": "stdout",
     "output_type": "stream",
     "text": [
      "The GCD of '[4, 3, 6, 8]' is : 1\n"
     ]
    }
   ],
   "source": [
    "num_list=[4,3,6,8]\n",
    "result=find_gcd(num_list)\n",
    "print(f\"The GCD of '{num_list}' is :\",result)"
   ]
  },
  {
   "cell_type": "code",
   "execution_count": 13,
   "id": "9df48260-da7a-4ce9-9952-eb5e53515dbf",
   "metadata": {},
   "outputs": [],
   "source": [
    "#7.\tWrite a Python program that uses the `reduce()` function to find the sum of the digits of a given number."
   ]
  },
  {
   "cell_type": "code",
   "execution_count": 16,
   "id": "00a18f65-fffe-4944-9a9f-0724a787c97a",
   "metadata": {},
   "outputs": [
    {
     "name": "stdout",
     "output_type": "stream",
     "text": [
      "The sum of digits: 15\n"
     ]
    }
   ],
   "source": [
    "ls=[1,2,3,4,5]\n",
    "\n",
    "total_sum=reduce(lambda x,y : x+y ,ls)\n",
    "\n",
    "print(\"The sum of digits:\",total_sum)"
   ]
  },
  {
   "cell_type": "code",
   "execution_count": 17,
   "id": "20183efe-7707-45e9-a1e3-365a53033222",
   "metadata": {},
   "outputs": [],
   "source": [
    "#Filter"
   ]
  },
  {
   "cell_type": "code",
   "execution_count": 1,
   "id": "11a51c35-746f-4a88-913c-741b89f33771",
   "metadata": {},
   "outputs": [],
   "source": [
    "#1.\tExplain the purpose of the `filter()` function in Python and provide an example of how it can be used to filter elements from an iterable."
   ]
  },
  {
   "cell_type": "code",
   "execution_count": null,
   "id": "a44e934e-c901-4538-817c-e7aa8528c872",
   "metadata": {},
   "outputs": [],
   "source": [
    "''' The filter() function in Python is used to construct an iterator from elements of an iterable for\n",
    "which a function returns true. In other words, it filters elements from an iterable based on a specified function. \n",
    "\n",
    "The syntax of the filter() function is as follows:\n",
    "\n",
    "\n",
    " filter(function,iterable)'''\n",
    " "
   ]
  },
  {
   "cell_type": "code",
   "execution_count": null,
   "id": "9c3a89cb-e9e2-4ece-a08a-fdfb81b8db57",
   "metadata": {},
   "outputs": [],
   "source": [
    "#2.\tprovide an example of how it can be used to filter elements from an iterable.\n",
    "#Write a Python program that uses the `filter()` function to select even numbers from a list of integers."
   ]
  },
  {
   "cell_type": "code",
   "execution_count": 9,
   "id": "942964db-8f9f-4f36-9046-314c71b62837",
   "metadata": {},
   "outputs": [
    {
     "data": {
      "text/plain": [
       "[2, 4, 6, 8, 10]"
      ]
     },
     "execution_count": 9,
     "metadata": {},
     "output_type": "execute_result"
    }
   ],
   "source": [
    "num=[1,2,3,4,5,6,7,8,9,10]\n",
    "\n",
    "list(filter(lambda a: a%2==0 , num))\n"
   ]
  },
  {
   "cell_type": "code",
   "execution_count": null,
   "id": "bcaad41d-7328-472f-8b21-d08207669190",
   "metadata": {},
   "outputs": [],
   "source": [
    "#2.\tWrite a Python program that uses the `filter()` function to select even numbers from a list of integers."
   ]
  },
  {
   "cell_type": "code",
   "execution_count": 10,
   "id": "9dc4a3b5-2e4b-4486-8ef8-fd350ba7ff37",
   "metadata": {},
   "outputs": [
    {
     "data": {
      "text/plain": [
       "[2, 4, 6, 8, 10]"
      ]
     },
     "execution_count": 10,
     "metadata": {},
     "output_type": "execute_result"
    }
   ],
   "source": [
    "num=[1,2,3,4,5,6,7,8,9,10]\n",
    "\n",
    "list(filter(lambda a: a%2==0 , num))"
   ]
  },
  {
   "cell_type": "code",
   "execution_count": 11,
   "id": "0c7291bd-9284-43b6-b7d4-641125a246ee",
   "metadata": {},
   "outputs": [],
   "source": [
    "#3.\tCreate a Python program that uses the `filter()` function to select names that start with a specific letter from a list of strings."
   ]
  },
  {
   "cell_type": "code",
   "execution_count": 10,
   "id": "53ed5eb4-e319-4ae4-ab7b-f9a328e84006",
   "metadata": {},
   "outputs": [
    {
     "name": "stdout",
     "output_type": "stream",
     "text": [
      "The selected string: ['blue', 'blue berry']\n"
     ]
    }
   ],
   "source": [
    "\n",
    "str_list=[\"Red\",\"white\",\"blue\",\"yellow\",\"blue berry\"]\n",
    "\n",
    "#using filter to filter the word\n",
    "\n",
    "word=list(filter(lambda a : a[0]=='b',str_list))\n",
    "\n",
    "print(\"The selected string:\",word)\n",
    "    \n",
    "        \n"
   ]
  },
  {
   "cell_type": "code",
   "execution_count": null,
   "id": "d19ddd50-f9e1-4107-99e7-3fd3f67530d5",
   "metadata": {},
   "outputs": [],
   "source": [
    "#5.\tHow can you use the `filter()` function to remove None values from a list in Python?"
   ]
  },
  {
   "cell_type": "code",
   "execution_count": 2,
   "id": "2b519a7c-a3ad-44f7-99b2-953c94b5e168",
   "metadata": {},
   "outputs": [
    {
     "name": "stdout",
     "output_type": "stream",
     "text": [
      "[2, 5, 7, 4]\n"
     ]
    }
   ],
   "source": [
    "none_list=[2,None,5,7,None,4]\n",
    "\n",
    "def fil_none(ele):\n",
    "    return ele is not None\n",
    "\n",
    "fil_list=list(filter(fil_none,none_list))\n",
    "\n",
    "print(fil_list)\n"
   ]
  },
  {
   "cell_type": "code",
   "execution_count": null,
   "id": "d7d31660-c911-47bc-89fc-d1e618bb5bd7",
   "metadata": {},
   "outputs": [],
   "source": [
    "#6.\tCreate a Python program that uses `filter()` to select words longer than a certain length from a list of strings."
   ]
  },
  {
   "cell_type": "code",
   "execution_count": 5,
   "id": "e2839af6-9c33-4e52-a472-5bde0b1cdb90",
   "metadata": {},
   "outputs": [
    {
     "data": {
      "text/plain": [
       "['orange', 'light blue']"
      ]
     },
     "execution_count": 5,
     "metadata": {},
     "output_type": "execute_result"
    }
   ],
   "source": [
    "word_list=[\"red\",\"orange\",\"pink\",\"white\",\"light blue\"]\n",
    "min_len=5\n",
    "#using filter to select word which greater than 5 words\n",
    "list(filter(lambda word: len(word) > min_len, word_list))"
   ]
  },
  {
   "cell_type": "code",
   "execution_count": 6,
   "id": "1e028308-50ad-4915-adb1-50488334d830",
   "metadata": {},
   "outputs": [],
   "source": [
    "#7.\tWrite a Python program that uses the `filter()` function to select elements greater than a specified threshold from a list of values."
   ]
  },
  {
   "cell_type": "code",
   "execution_count": 11,
   "id": "7b0c8943-dca0-4656-abb7-a4a9ce947c29",
   "metadata": {},
   "outputs": [
    {
     "data": {
      "text/plain": [
       "[8, 10, 6, 14, 9]"
      ]
     },
     "execution_count": 11,
     "metadata": {},
     "output_type": "execute_result"
    }
   ],
   "source": [
    "num_list=[5,8,10,6,2,14,9]\n",
    "thers=5\n",
    "#using filter to to select numbers greater than thershold\n",
    "list(filter(lambda n: n>thers , num_list))"
   ]
  },
  {
   "cell_type": "code",
   "execution_count": 12,
   "id": "f4e1ddcd-a21f-4a9c-9505-74e447b0a66a",
   "metadata": {},
   "outputs": [],
   "source": [
    "#Recursion:-"
   ]
  },
  {
   "cell_type": "code",
   "execution_count": 13,
   "id": "18a8c9e3-05a5-433f-9a03-08f43d804fe1",
   "metadata": {},
   "outputs": [],
   "source": [
    "#1.\tExplain the concept of recursion in Python. How does it differ from iteration?"
   ]
  },
  {
   "cell_type": "code",
   "execution_count": null,
   "id": "2c22963e-c442-4e37-ab57-3985cc585b99",
   "metadata": {},
   "outputs": [],
   "source": [
    "''' Recursion and iteration are two different approaches to solving problems in programming,\n",
    "and they both involve repetitive execution of a set of instructions. \n",
    "\n",
    "Recursion in Python:\n",
    "Recursion is a programming concept where a function calls itself in order to solve a problem. \n",
    "In Python, a recursive function is a function that makes a call to itself during its execution. \n",
    "Recursive solutions break down a problem into smaller subproblems until they become simple\n",
    "enough to be solved directly. Each recursive call operates on a smaller instance of the problem.\n",
    "\n",
    "\n",
    "Difference from Iteration:\n",
    "\n",
    "Termination Condition:\n",
    "\n",
    "In recursion, there must be a base case that specifies when the function should stop calling itself. \n",
    "Without a proper base case, the recursion will continue indefinitely, leading to a stack overflow.\n",
    "In iteration, the loop continues until a certain condition is no longer true. There is no inherent \n",
    "requirement for a base case in iteration.\n",
    "Memory Usage:\n",
    "\n",
    "Recursive solutions often use more memory because each recursive call adds a new frame to the call stack.\n",
    "Iterative solutions generally use less memory as they usually involve a single loop.\n",
    "Readability:\n",
    "\n",
    "Recursive solutions can be elegant and expressive, especially for problems that naturally exhibit a recursive structure.\n",
    "Iterative solutions are often more explicit and may be more straightforward for certain types of problems.\n",
    "Performance:\n",
    "\n",
    "Recursive solutions may have a performance overhead due to the function call overhead and the use of the call stack.\n",
    "Iterative solutions may be more performant in some cases, especially when memory usage is a concern.\n",
    "\n",
    "Choosing Between Recursion and Iteration:\n",
    "The choice between recursion and iteration depends on the nature of the problem and the \n",
    "specific requirements of the implementation. Some problems are naturally suited to recursion, \n",
    "while others may be more straightforwardly solved with iteration. In Python, both recursion and \n",
    "iteration are powerful tools, and the choice \n",
    "often comes down to the clarity and efficiency of the specific solution. '''\n"
   ]
  },
  {
   "cell_type": "code",
   "execution_count": 14,
   "id": "20f0bbe6-f166-4568-a080-50bebbe83437",
   "metadata": {},
   "outputs": [],
   "source": [
    "#2.\tWrite a Python program to calculate the factorial of a number using recursion"
   ]
  },
  {
   "cell_type": "code",
   "execution_count": 15,
   "id": "d8977cf6-1e40-40af-ac2a-b1f397e09d03",
   "metadata": {},
   "outputs": [],
   "source": [
    "#definging the function for factorial of a number using recursion\n",
    "def fact(n):\n",
    "    if n==0 or n==1:\n",
    "        return 1\n",
    "    else:\n",
    "        return n*fact(n-1)\n",
    "    "
   ]
  },
  {
   "cell_type": "code",
   "execution_count": 19,
   "id": "8a1eb5a9-1c49-4cce-aba9-9c6ad8ac24f8",
   "metadata": {},
   "outputs": [
    {
     "name": "stdout",
     "output_type": "stream",
     "text": [
      "The factorial of '5'is: 120\n"
     ]
    }
   ],
   "source": [
    "num=5\n",
    "res=fact(num)\n",
    "print(f\"The factorial of '{num}'is:\",res)\n"
   ]
  },
  {
   "cell_type": "code",
   "execution_count": 1,
   "id": "7f10fc36-e5af-407d-a011-b7b832b30ade",
   "metadata": {},
   "outputs": [],
   "source": [
    "#3.\tCreate a recursive Python function to find the nth Fibonacci number."
   ]
  },
  {
   "cell_type": "code",
   "execution_count": 2,
   "id": "8ef02508-bd43-45b7-9c26-d2e5ae9ee991",
   "metadata": {},
   "outputs": [],
   "source": [
    "def fib(n):\n",
    "    if n==1:\n",
    "        return 0\n",
    "    elif n==2:\n",
    "        return 1\n",
    "    else:\n",
    "        return fib(n-1) + fib(n-2)\n"
   ]
  },
  {
   "cell_type": "code",
   "execution_count": 10,
   "id": "e2cb65ba-2480-4cc0-ad63-2dd3edf90d5e",
   "metadata": {},
   "outputs": [
    {
     "name": "stdout",
     "output_type": "stream",
     "text": [
      "The fibonacci number of '9' is: 21\n"
     ]
    }
   ],
   "source": [
    "num=9\n",
    "res=fib(num)\n",
    "print(f\"The fibonacci number of '{num}' is:\",res)"
   ]
  },
  {
   "cell_type": "code",
   "execution_count": 11,
   "id": "1fa67f2d-70b0-4845-a035-38503506926c",
   "metadata": {},
   "outputs": [],
   "source": [
    "#4.\tWrite a recursive Python function to calculate the sum of all elements in a list."
   ]
  },
  {
   "cell_type": "code",
   "execution_count": 12,
   "id": "79181ad9-65db-4c4d-8223-54e2a58e0c58",
   "metadata": {},
   "outputs": [],
   "source": [
    "def recur_sum(lst):\n",
    "    \n",
    "    if not lst:\n",
    "        return 0\n",
    "    else:\n",
    "        return lst[0]+recur_sum(lst[1:])\n"
   ]
  },
  {
   "cell_type": "code",
   "execution_count": 13,
   "id": "52cf60b0-8dad-4d5c-963c-d4e5afeae05a",
   "metadata": {},
   "outputs": [
    {
     "name": "stdout",
     "output_type": "stream",
     "text": [
      "The sum of elements in the list: 13\n"
     ]
    }
   ],
   "source": [
    "l1=[2,5,3,1,2]\n",
    "res=recur_sum(l1)\n",
    "print(\"The sum of elements in the list:\",res)"
   ]
  },
  {
   "cell_type": "code",
   "execution_count": 1,
   "id": "5184aafa-907e-448c-9ec5-497179c6f0e7",
   "metadata": {},
   "outputs": [],
   "source": [
    "#5.\tHow can you prevent a recursive function from running indefinitely, causing a stack overflow error?"
   ]
  },
  {
   "cell_type": "code",
   "execution_count": null,
   "id": "f76aa5f0-d9a2-4e96-855d-0bead4702e47",
   "metadata": {},
   "outputs": [],
   "source": [
    "'''\n",
    "\n",
    "1.Base Case:\n",
    "Ensure that your recursive function has a base case—a condition under which the function does not make a\n",
    "recursive call but instead returns a specific value. \n",
    "\n",
    "This is the termination point for the recursion.\n",
    "\n",
    "2.Progress Toward Base Case:\n",
    "Ensure that the recursive calls move toward the base case with each iteration. If the recursive \n",
    "calls do not make progress \n",
    "toward the base case, the function may run indefinitely.\n",
    "\n",
    "\n",
    "3.Guard Clauses:\n",
    "Implement guard clauses or checks to catch edge cases or invalid inputs that could lead to infinite recursion. \n",
    "Add conditions to handle these cases and avoid unnecessary recursive calls.\n",
    "\n",
    "\n",
    "4.Limit Recursive Depth:\n",
    "Set a maximum recursion depth if needed. Some programming languages or environments allow you to set a limit on the depth of recursion.\n",
    "This can prevent the function from consuming too much stack space.\n",
    "\n",
    "5.Test and Debug:\n",
    "Test your recursive function with various inputs, including edge cases, to ensure that it behaves as expected and terminates correctly.\n",
    "Use debugging tools to identify any issues with the recursion.\n",
    "\n",
    "By incorporating these strategies, you can help prevent a recursive function from running indefinitely and causing a stack overflow error.\n"
   ]
  },
  {
   "cell_type": "code",
   "execution_count": 2,
   "id": "ef2b2b6a-930d-4e38-adc7-404507869698",
   "metadata": {},
   "outputs": [],
   "source": [
    "#6.\tCreate a recursive Python function to find the greatest common divisor (GCD) of two numbers using the Euclidean algorithm."
   ]
  },
  {
   "cell_type": "code",
   "execution_count": 3,
   "id": "cf9c3918-a6a9-4bbe-b5f1-6e4790a02c57",
   "metadata": {},
   "outputs": [],
   "source": [
    "def gcd(a,b):\n",
    "    #base case\n",
    "    if b==0:\n",
    "        return a\n",
    "    #recursive call\n",
    "    else:\n",
    "        return gcd(b,a%b)\n",
    "    \n",
    "        "
   ]
  },
  {
   "cell_type": "code",
   "execution_count": 7,
   "id": "49f4da3b-fba8-4e14-b18f-529bc656c34a",
   "metadata": {},
   "outputs": [
    {
     "name": "stdout",
     "output_type": "stream",
     "text": [
      "The GCD of '5' & '10': 5\n"
     ]
    }
   ],
   "source": [
    "n1=5\n",
    "n2=10\n",
    "res=gcd(5,10)\n",
    "print(f\"The GCD of '{n1}' & '{n2}':\",res)"
   ]
  },
  {
   "cell_type": "code",
   "execution_count": 8,
   "id": "dadc6b8a-19d2-41dd-9b11-b5c740405a33",
   "metadata": {},
   "outputs": [],
   "source": [
    "#7.\tWrite a recursive Python function to reverse a string."
   ]
  },
  {
   "cell_type": "code",
   "execution_count": 12,
   "id": "a239e82e-808e-4afb-bfb4-b7356f9d239e",
   "metadata": {},
   "outputs": [],
   "source": [
    "def reverse_str(str1):\n",
    "    #base case\n",
    "    if len(str1)<=1:\n",
    "        return str1\n",
    "    \n",
    "    else:\n",
    "        return reverse_str(str1[1:]) + str1[0]\n",
    "    "
   ]
  },
  {
   "cell_type": "code",
   "execution_count": 13,
   "id": "bf15d1d3-79c4-4230-bc19-b7acf4c497e9",
   "metadata": {},
   "outputs": [
    {
     "name": "stdout",
     "output_type": "stream",
     "text": [
      "The reverse string is: olleH\n"
     ]
    }
   ],
   "source": [
    "str2=\"Hello\"\n",
    "\n",
    "res=reverse_str(str2)\n",
    "\n",
    "print(\"The reverse string is:\",res)"
   ]
  },
  {
   "cell_type": "code",
   "execution_count": 14,
   "id": "923462f2-9085-4334-91a2-3f01e0f61d95",
   "metadata": {},
   "outputs": [],
   "source": [
    "#8.\tCreate a recursive Python function to calculate the power of a number (x^n)."
   ]
  },
  {
   "cell_type": "code",
   "execution_count": 15,
   "id": "25cc27da-2acb-4f42-8589-7c0d5f2c813a",
   "metadata": {},
   "outputs": [],
   "source": [
    "def power(x,n):\n",
    "    #base case\n",
    "    if n==0:\n",
    "        return 1\n",
    "    #recursive call\n",
    "    else:\n",
    "        return x* power(x , n-1)\n",
    "    "
   ]
  },
  {
   "cell_type": "code",
   "execution_count": 16,
   "id": "079bd75b-2228-467d-be73-7566f910c5c7",
   "metadata": {},
   "outputs": [
    {
     "name": "stdout",
     "output_type": "stream",
     "text": [
      "The '2' raised to the power of '5' is: 32\n"
     ]
    }
   ],
   "source": [
    "base=2\n",
    "exponent=5\n",
    "\n",
    "res=power(base,exponent)\n",
    "\n",
    "print(f\"The '{base}' raised to the power of '{exponent}' is:\", res)\n"
   ]
  },
  {
   "cell_type": "code",
   "execution_count": 18,
   "id": "4adeb980-3cdc-47ed-80d3-589f04242f85",
   "metadata": {},
   "outputs": [],
   "source": [
    "#10.Write a recursive Python function to check if a string is a palindrome."
   ]
  },
  {
   "cell_type": "code",
   "execution_count": 22,
   "id": "c4c5f714-2b1b-43b5-9217-51579a052420",
   "metadata": {},
   "outputs": [],
   "source": [
    "def check_palindrome(str2):\n",
    "    #base case\n",
    "    if len(str2)<=1:\n",
    "        return str2\n",
    "    recursive call\n",
    "    else:\n",
    "        return str2[0] == str2[-1] and check_palindrome(str2[1:-1])\n",
    "    "
   ]
  },
  {
   "cell_type": "code",
   "execution_count": 26,
   "id": "74476c88-3d1f-4820-92b8-ebb5ee2581c1",
   "metadata": {},
   "outputs": [
    {
     "name": "stdout",
     "output_type": "stream",
     "text": [
      "The string is palindrome\n"
     ]
    }
   ],
   "source": [
    "input_str=\"malayalam\"\n",
    "res=check_palindrome(input_str)\n",
    "if res:\n",
    "    print(\"The string is palindrome\")\n",
    "else:\n",
    "    print(\"The string is not palindrome\")\n"
   ]
  },
  {
   "cell_type": "code",
   "execution_count": 1,
   "id": "5eb9e360-cb0b-4599-8f6f-4ac52aa5b267",
   "metadata": {},
   "outputs": [],
   "source": [
    "#Basics of Functions:"
   ]
  },
  {
   "cell_type": "code",
   "execution_count": 2,
   "id": "c4a8cd52-3114-4774-b754-d6c8aad5f841",
   "metadata": {},
   "outputs": [],
   "source": [
    "#1.\tWhat is a function in Python, and why is it used?"
   ]
  },
  {
   "cell_type": "code",
   "execution_count": null,
   "id": "a359fe00-9253-42ad-a42a-fc1b9fb9ec23",
   "metadata": {},
   "outputs": [],
   "source": [
    "'''\n",
    "In Python, a function is a block of reusable code that performs a specific task or a set of tasks. \n",
    "Functions are defined using the def keyword, followed by the function name, a pair of parentheses that\n",
    "may contain parameters, and a colon. The function body is then indented and \n",
    "contains the code to be executed when the function is called.\n",
    "\n",
    "1.Modularity: Functions allow you to break down a program into smaller, manageable, and modular pieces. \n",
    "Each function can be designed to perform a specific task, making the code more organized and easier to understand.\n",
    "\n",
    "2.Reusability: Once a function is defined, it can be called multiple times from different parts of the \n",
    "program or even from different programs. This promotes code reuse and helps avoid duplicating code.\n",
    "\n",
    "3.Readability: Functions can make the code more readable by providing a clear structure and allowing you \n",
    "to give meaningful names to different parts of your program. This improves overall code organization and maintenance.\n",
    "\n",
    "4.Abstraction: Functions allow you to abstract away the implementation details of a particular task. \n",
    "When you call a function, you don't need to know how it's implemented; you just need to know what it does.\n",
    "\n",
    "5.Parameterization: Functions can take parameters (input values) that allow them to be customized for different situations.\n",
    "This parameterization adds flexibility to your code.\n",
    "\n",
    "Return Values: Functions can return values, allowing them to produce results that can be used in the rest of the program.\n",
    "\n",
    "\n",
    "In summary, functions in Python provide a way to structure and organize code, promote reusability,\n",
    "and enhance readability, making it easier to develop and maintain software. '''\n"
   ]
  },
  {
   "cell_type": "code",
   "execution_count": 3,
   "id": "0a49e4f0-db6b-4553-8f16-bcbbb48ea09a",
   "metadata": {},
   "outputs": [],
   "source": [
    "#2.\tHow do you define a function in Python? Provide an example."
   ]
  },
  {
   "cell_type": "code",
   "execution_count": null,
   "id": "01d86887-db62-48fe-bc74-6958ea9449b7",
   "metadata": {},
   "outputs": [],
   "source": [
    "'''\n",
    "In Python, you can define a function using the def keyword, followed by the function name,\n",
    "a pair of parentheses that may contain parameters, and a colon. The function body is then indented and \n",
    "contains the code to be executed when the function is called.\n",
    "\n",
    "Here's a simple example of how to define a function in Python:'''\n"
   ]
  },
  {
   "cell_type": "code",
   "execution_count": 4,
   "id": "15f01d34-bbd5-44dd-9c18-65086d12d7dd",
   "metadata": {},
   "outputs": [],
   "source": [
    "def sum(a,b):\n",
    "    #this function does sum of two numbers\n",
    "    return a+b\n"
   ]
  },
  {
   "cell_type": "code",
   "execution_count": 5,
   "id": "d6cce865-b7fb-41d6-af0c-af27a68da6a3",
   "metadata": {},
   "outputs": [
    {
     "data": {
      "text/plain": [
       "15"
      ]
     },
     "execution_count": 5,
     "metadata": {},
     "output_type": "execute_result"
    }
   ],
   "source": [
    "#calling the function\n",
    "sum(5,10)"
   ]
  },
  {
   "cell_type": "code",
   "execution_count": 6,
   "id": "3c34aa32-b869-4b5d-b2bf-1811bc897b77",
   "metadata": {},
   "outputs": [],
   "source": [
    "#3.\tExplain the difference between a function definition and a function call."
   ]
  },
  {
   "cell_type": "code",
   "execution_count": null,
   "id": "0113220e-5e7b-4e05-9790-e3613d5a0710",
   "metadata": {},
   "outputs": [],
   "source": [
    "'''\n",
    "The terms \"function definition\" and \"function call\" refer to two distinct aspects of working with functions in programming,\n",
    "and they serve different purposes in the execution of a program.\n",
    "\n",
    "\n",
    "Function Definition:\n",
    "\n",
    "Purpose: The function definition is where you specify the implementation of a function. \n",
    "It outlines what the function does, what parameters it takes (if any), and what value (if any) it returns.\n",
    "Syntax: It begins with the def keyword, followed by the function name, parameters (if any) within parentheses, \n",
    "a colon, and the function body indented below.'''\n",
    "\n",
    "     def sum(a,b):\n",
    "    #this function does sum of two numbers\n",
    "    return a+b\n",
    "    \n",
    "    \n",
    "'''Function Call:\n",
    "\n",
    "Purpose: A function call is the act of using a defined function to perform a specific task. \n",
    "It executes the code within the function's body, with the provided arguments (if any).\n",
    "Syntax: It involves writing the function name followed by parentheses, and inside the parentheses, \n",
    "you provide the actual values (arguments) that will be used in the function.    '''\n",
    "    \n",
    "    \n",
    "      #calling the function\n",
    "        sum(5,10)\n"
   ]
  },
  {
   "cell_type": "code",
   "execution_count": 7,
   "id": "18a7a084-f71e-452f-9d53-a5806088f631",
   "metadata": {},
   "outputs": [],
   "source": [
    "#4.\tWrite a Python program that defines a function to calculate the sum of two numbers and then calls the function"
   ]
  },
  {
   "cell_type": "code",
   "execution_count": 8,
   "id": "1ed7b457-da0f-46ae-8ea5-526ef72bf5ce",
   "metadata": {},
   "outputs": [],
   "source": [
    "def sum(a,b):\n",
    "    #this function does sum of two numbers\n",
    "    return a+b"
   ]
  },
  {
   "cell_type": "code",
   "execution_count": 9,
   "id": "524cc845-d3cb-4af5-a76e-67b95677f1b4",
   "metadata": {},
   "outputs": [
    {
     "name": "stdout",
     "output_type": "stream",
     "text": [
      "Sum of two numbers: 15\n"
     ]
    }
   ],
   "source": [
    "num1=10\n",
    "num2=5\n",
    "#calling function\n",
    "result=sum(num1,num2)\n",
    "print(\"Sum of two numbers:\",result)"
   ]
  },
  {
   "cell_type": "code",
   "execution_count": 10,
   "id": "d8781f74-d3d5-4a0d-8378-eac82c5aa114",
   "metadata": {},
   "outputs": [],
   "source": [
    "#5.\tWhat is a function signature, and what information does it typically include?"
   ]
  },
  {
   "cell_type": "code",
   "execution_count": null,
   "id": "76c58024-3356-4b3f-ba85-d728c1420c2d",
   "metadata": {},
   "outputs": [],
   "source": [
    "'''\n",
    "A function signature in programming, including Python, refers to the concise summary or \n",
    "declaration of a function that provides essential information about its interface. It typically includes the following elements:\n",
    "\n",
    "Function Name:\n",
    "\n",
    "This is the name used to identify the function.\n",
    "It should be unique within the scope of your program.\n",
    "Parameters:\n",
    "\n",
    "These are the input values that the function accepts.\n",
    "Parameters are enclosed in parentheses and separated by commas.\n",
    "Each parameter includes its name and, optionally, its data type.\n",
    "Return Type:\n",
    "\n",
    "The data type of the value that the function returns.\n",
    "If a function doesn't return a value (i.e., it has a void return type), this part may be omitted.'''\n",
    "\n",
    "def add_numbers(a: int, b: int) -> int:\n",
    "    # Function body will perform addition\n",
    "    return a + b\n",
    "\n",
    "'''\n",
    "n this example:\n",
    "\n",
    "Function Name: add_numbers\n",
    "Parameters: a and b, both of type int\n",
    "Return Type: int\n",
    "The function signature serves as a quick reference for understanding how to use the function,\n",
    "what arguments it expects, and what it returns. \n",
    "It's a valuable piece of documentation and can help with code readability and maintenance.'''\n"
   ]
  },
  {
   "cell_type": "code",
   "execution_count": 11,
   "id": "c1899da2-a07a-493d-bb48-e4ed5ea95743",
   "metadata": {},
   "outputs": [],
   "source": [
    "#6.\tCreate a Python function that takes two arguments and returns their product."
   ]
  },
  {
   "cell_type": "code",
   "execution_count": 12,
   "id": "a4e47601-d697-4bd3-b6e8-c358aefa3513",
   "metadata": {},
   "outputs": [],
   "source": [
    "def product(a,b):\n",
    "    #function performing multiplications\n",
    "    return a*b\n"
   ]
  },
  {
   "cell_type": "code",
   "execution_count": 13,
   "id": "0f5d561c-3b71-45ff-975b-ed68f6b3e803",
   "metadata": {},
   "outputs": [
    {
     "name": "stdout",
     "output_type": "stream",
     "text": [
      "The product of two numbers: 50\n"
     ]
    }
   ],
   "source": [
    "num1=10\n",
    "num2=5\n",
    "#calling the function \n",
    "result=product(num1,num2)\n",
    "\n",
    "print(\"The product of two numbers:\",result)"
   ]
  },
  {
   "cell_type": "code",
   "execution_count": 14,
   "id": "255bcd22-a408-4085-903a-575d9b0f3448",
   "metadata": {},
   "outputs": [],
   "source": [
    "#Function Parameters and Arguments:"
   ]
  },
  {
   "cell_type": "code",
   "execution_count": 15,
   "id": "6198558a-1ac1-4781-b13c-f452ef175a2b",
   "metadata": {},
   "outputs": [],
   "source": [
    "#1.\tExplain the concepts of formal parameters and actual arguments in Python functions."
   ]
  },
  {
   "cell_type": "code",
   "execution_count": null,
   "id": "aa258511-fd9d-4381-aaf7-88cb42e21adc",
   "metadata": {},
   "outputs": [],
   "source": [
    "'''\n",
    "In Python functions, the terms \"formal parameters\" and \"actual arguments\" refer to the variables used in the function \n",
    "definition (parameters) and the values passed to the function during a function call (arguments), respectively.\n",
    "\n",
    "Formal Parameters:\n",
    "\n",
    "Definition: Formal parameters are variables listed in the function definition. They act as placeholders \n",
    "for the values that will be supplied during a function call.\n",
    "Usage: Formal parameters are used in the function body as local variables to perform computations or operations within the function.'''\n",
    "\n",
    "def product(a,b):\n",
    "    #this function takes two formal parameters and return their products\n",
    "    result=a*b\n",
    "    return result\n",
    "\n",
    "'''In this example, a and b are formal parameters. They are defined in the function signature \n",
    "and are used in the function body to perform addition.'''\n",
    "\n",
    "'''\n",
    "Actual Arguments:\n",
    "\n",
    "Definition: Actual arguments are the values provided in a function call that correspond \n",
    "to the formal parameters of the function.\n",
    "Usage: These values are passed to the function during its invocation, and they take the place of the \n",
    "formal parameters in the function body.'''\n",
    "\n",
    "#calling the product function with actual arguments 10 and 5\n",
    "\n",
    "result = products(10,5)\n",
    "\n"
   ]
  },
  {
   "cell_type": "code",
   "execution_count": null,
   "id": "7c3439fc-d7be-4571-a634-d5fdea47a2a2",
   "metadata": {},
   "outputs": [],
   "source": [
    "#2.\tWrite a Python program that defines a function with default argument values."
   ]
  },
  {
   "cell_type": "code",
   "execution_count": 20,
   "id": "c9374e9c-0fc7-4a3b-9376-40a6a72026de",
   "metadata": {},
   "outputs": [],
   "source": [
    "def add_num(a=10,b=15):\n",
    "    sum1=a+b\n",
    "    \n",
    "    return sum1"
   ]
  },
  {
   "cell_type": "code",
   "execution_count": 21,
   "id": "2965ef75-a2f5-4392-bb4b-43333b9c1e7d",
   "metadata": {},
   "outputs": [
    {
     "data": {
      "text/plain": [
       "25"
      ]
     },
     "execution_count": 21,
     "metadata": {},
     "output_type": "execute_result"
    }
   ],
   "source": [
    "add_num()"
   ]
  },
  {
   "cell_type": "code",
   "execution_count": 22,
   "id": "5aaecb5f-8ad3-4a34-b447-a0766c66d1f2",
   "metadata": {},
   "outputs": [],
   "source": [
    "#3.\tHow do you use keyword arguments in Python function calls? Provide an example."
   ]
  },
  {
   "cell_type": "code",
   "execution_count": null,
   "id": "315d882c-0ecc-4263-8a77-adbc710e4b7a",
   "metadata": {},
   "outputs": [],
   "source": [
    "'''\n",
    "In Python, you can use keyword arguments in function calls by explicitly specifying the parameter names \n",
    "and their corresponding values. This allows you to provide the arguments out of order or \n",
    "skip some arguments if they have default values.\n",
    "\n",
    "Key points to note:\n",
    "\n",
    "When using keyword arguments, the order of the arguments in the function call doesn't need to match the order of\n",
    "parameters in the function definition.\n",
    "You can mix positional and keyword arguments, but positional arguments must come before keyword arguments.\n",
    "If a parameter has a default value and you don't provide a value for it, the default value is used.\n",
    "Using keyword arguments can make your code more readable and self-documenting, especially when dealing with functions \n",
    "that have many parameters or when you want to explicitly specify which argument corresponds to which parameter.'''"
   ]
  },
  {
   "cell_type": "code",
   "execution_count": null,
   "id": "90f3c5c4-5f88-4e75-bccf-a1b4223ef29d",
   "metadata": {},
   "outputs": [],
   "source": [
    "#Provide an example."
   ]
  },
  {
   "cell_type": "code",
   "execution_count": 27,
   "id": "ace19a05-a9e8-495e-9b79-b05d50b2b186",
   "metadata": {},
   "outputs": [
    {
     "name": "stdout",
     "output_type": "stream",
     "text": [
      "Name: sham\n",
      "Age: 25\n"
     ]
    }
   ],
   "source": [
    "def details(name,age):\n",
    "    print(\"Name:\",name)\n",
    "    print(\"Age:\",age)\n",
    "    \n",
    "details(name=\"sham\",age=25)   "
   ]
  },
  {
   "cell_type": "code",
   "execution_count": 28,
   "id": "a04baf61-5e26-45be-b3f7-5526513ffd20",
   "metadata": {},
   "outputs": [],
   "source": [
    "#4.\tCreate a Python function that accepts a variable number of arguments and calculates their sum."
   ]
  },
  {
   "cell_type": "code",
   "execution_count": 51,
   "id": "1a41d978-26e5-4121-855c-f73a8b60f657",
   "metadata": {},
   "outputs": [],
   "source": [
    "def calc_sum(*args):\n",
    "    \n",
    "    total=0\n",
    "    for args in args:\n",
    "        total=total+args\n",
    "         \n",
    "    return total"
   ]
  },
  {
   "cell_type": "code",
   "execution_count": 53,
   "id": "b301b131-cd2b-4c40-96a9-ad139014c731",
   "metadata": {},
   "outputs": [
    {
     "data": {
      "text/plain": [
       "80"
      ]
     },
     "execution_count": 53,
     "metadata": {},
     "output_type": "execute_result"
    }
   ],
   "source": [
    "calc_sum(10,20,50)"
   ]
  },
  {
   "cell_type": "code",
   "execution_count": 54,
   "id": "a66f6360-7310-462c-ac93-00ddf34ca9e6",
   "metadata": {},
   "outputs": [],
   "source": [
    "#5.\tWhat is the purpose of the `*args` and `**kwargs` syntax in function parameter lists?"
   ]
  },
  {
   "cell_type": "code",
   "execution_count": null,
   "id": "0b8a078d-f1d2-4c15-b31b-039ba3da8995",
   "metadata": {},
   "outputs": [],
   "source": [
    "'''\n",
    "In Python, *args and **kwargs are syntax used in function parameter lists to handle a variable number of arguments. \n",
    "They provide flexibility when defining functions,\n",
    "allowing them to accept different numbers of positional and keyword arguments.\n",
    "\n",
    "*args (Arbitrary Positional Arguments):\n",
    "\n",
    "Purpose: The *args syntax allows a function to accept a variable number of positional arguments. The term \"args\" stands for \"arguments.\"\n",
    "Usage: When *args is used in a function definition, it collects any additional positional arguments passed to the function into a tuple.'''\n",
    "\n",
    "def values(*args):\n",
    "    \n",
    "    for val in args:\n",
    "        print(val)\n",
    "        \n",
    "        \n",
    "vales(1,2,3,4)\n",
    "\n",
    "\n",
    "\n",
    "\n",
    "'''**kwargs (Arbitrary Keyword Arguments):\n",
    "\n",
    "Purpose: The **kwargs syntax allows a function to accept a variable number of keyword arguments. The term \"kwargs\" stands for \"keyword arguments.\"\n",
    "Usage: When **kwargs is used in a function definition, it collects any additional keyword arguments passed to the function into a dictionary.'''\n",
    "\n",
    "def details(**kwargs):\n",
    "    for key, value in kwargs.items():\n",
    "        print(f\"{key}: {value}\")\n",
    "\n",
    "details(name=\"sham\", age=25, country=\"India\")\n",
    "\n",
    "\n",
    "'''\n",
    "In summary:\n",
    "\n",
    "*args collects additional positional arguments into a tuple.\n",
    "**kwargs collects additional keyword arguments into a dictionary.\n",
    "These features make functions more flexible and capable of handling a variety of input scenarios. \n",
    "They are particularly useful when you want to create functions that can adapt to different numbers \n",
    "and types of arguments without explicitly specifying each one in the function signature.'''\n"
   ]
  },
  {
   "cell_type": "code",
   "execution_count": null,
   "id": "cc789377-c550-40eb-8b1a-fb7e3d3a05ef",
   "metadata": {},
   "outputs": [],
   "source": [
    "#Return Values and Scoping:"
   ]
  },
  {
   "cell_type": "code",
   "execution_count": 1,
   "id": "d0e053ee-9bb2-4e32-995e-a4cf1a877690",
   "metadata": {},
   "outputs": [],
   "source": [
    "#1.\tDescribe the role of the `return` statement in Python functions and provide examples."
   ]
  },
  {
   "cell_type": "code",
   "execution_count": null,
   "id": "81150edd-b4d6-484b-8e98-8653bf78f1b8",
   "metadata": {},
   "outputs": [],
   "source": [
    "'''\n",
    "In Python, the return statement is used in a function to specify the value that the function should return when it is called.\n",
    "Functions in Python can perform various tasks, and the return statement allows them to produce a \n",
    "result that can be used by the code that called the function.\n",
    "\n",
    "t's important to note that a function can have multiple return statements, but as soon as one is encountered, the function exits,\n",
    "and the specified value is returned. '''\n"
   ]
  },
  {
   "cell_type": "code",
   "execution_count": 2,
   "id": "5af34985-8f97-49ae-ad24-4e65c9e10ce4",
   "metadata": {},
   "outputs": [],
   "source": [
    "def product(a,b):\n",
    "    #function performing multiplications\n",
    "    return a*b"
   ]
  },
  {
   "cell_type": "code",
   "execution_count": 3,
   "id": "c97642bc-e533-4124-bbfb-0aba8f7acb0b",
   "metadata": {},
   "outputs": [
    {
     "data": {
      "text/plain": [
       "25"
      ]
     },
     "execution_count": 3,
     "metadata": {},
     "output_type": "execute_result"
    }
   ],
   "source": [
    "product(5,5)"
   ]
  },
  {
   "cell_type": "code",
   "execution_count": 4,
   "id": "80d3c185-9936-4202-a2d5-138bd76dfacc",
   "metadata": {},
   "outputs": [],
   "source": [
    "#2.\tExplain the concept of variable scope in Python, including local and global variables."
   ]
  },
  {
   "cell_type": "code",
   "execution_count": null,
   "id": "ff36578c-1878-43eb-88ed-c4c59ec1f5da",
   "metadata": {},
   "outputs": [],
   "source": [
    "'''\n",
    "Variable scope refers to the region or context of a program in which a variable can be accessed or modified. In Python,\n",
    "variables can have different scopes, and understanding these scopes is crucial for writing robust and maintainable code. \n",
    "The two main types of variable scope in Python are local and global.\n",
    "\n",
    "Local Variables:\n",
    "\n",
    "Local variables are defined within a function or a block of code.\n",
    "They are only accessible within that specific function or block.\n",
    "Once the function or block is exited, the local variables are destroyed, and their values are no longer accessible.\n",
    "This helps to encapsulate data and prevents unintended interference with variables in other parts of the program.\n",
    "\n",
    "Global Variables:\n",
    "\n",
    "Global variables are defined outside of any function or block.\n",
    "They can be accessed from any part of the code, both inside and outside functions.\n",
    "Modifying a global variable within a function requires the use of the global keyword.\n",
    "Global variables persist throughout the entire program's execution.'''\n",
    "\n"
   ]
  },
  {
   "cell_type": "code",
   "execution_count": null,
   "id": "48bf4a65-70ee-4910-b55a-11c4b04f95ae",
   "metadata": {},
   "outputs": [],
   "source": [
    "#3.\tWrite a Python program that demonstrates the use of global variables within functions."
   ]
  },
  {
   "cell_type": "code",
   "execution_count": 7,
   "id": "758a84ad-91fd-477e-b106-64b24b97060c",
   "metadata": {},
   "outputs": [],
   "source": [
    "#creating a global variable\n",
    "g_res=0\n",
    "\n",
    "def add_numbers(a,b):\n",
    "    \n",
    "    #accessing the global variable\n",
    "    \n",
    "    global g_res\n",
    "    g_res=a+b\n",
    "    \n",
    "def add_numbers(a,b):\n",
    "    \n",
    "    #local variable\n",
    "    \n",
    "    loc_res=a+b\n",
    "    \n",
    "    return loc_res\n",
    "\n",
    "\n",
    "    "
   ]
  },
  {
   "cell_type": "code",
   "execution_count": 16,
   "id": "4639605e-f8e4-4b54-b703-e634b4dab02c",
   "metadata": {},
   "outputs": [],
   "source": [
    "def main():\n",
    "    num1=5\n",
    "    num2=10\n",
    "    \n",
    "    #call the function to add numbers using global variable\n",
    "    g_res=add_numbers(num1,num2)\n",
    "    print(\"Sum using global variable:\",g_res)\n",
    "    \n",
    "    #call the function to add numbers using local variable\n",
    "    loc_res=add_numbers(num1,num2)\n",
    "    print(\"Sum using local variable:\",loc_res)\n",
    "    \n",
    "    \n",
    "    "
   ]
  },
  {
   "cell_type": "code",
   "execution_count": 17,
   "id": "bbbf9113-a1cd-4f6e-b389-091eb39722d1",
   "metadata": {},
   "outputs": [
    {
     "name": "stdout",
     "output_type": "stream",
     "text": [
      "Sum using global variable: 15\n",
      "Sum using local variable: 15\n"
     ]
    }
   ],
   "source": [
    "main()"
   ]
  },
  {
   "cell_type": "code",
   "execution_count": 18,
   "id": "4ea8bb0b-64a0-4b3e-9749-f7cbda05fe4f",
   "metadata": {},
   "outputs": [],
   "source": [
    "#4.\tCreate a Python function that calculates the factorial of a number and returns it."
   ]
  },
  {
   "cell_type": "code",
   "execution_count": 19,
   "id": "b4136c31-a8b0-4a91-a60c-7992db56af7f",
   "metadata": {},
   "outputs": [],
   "source": [
    "def fact(n):\n",
    "    if n==0 or n==1:\n",
    "        return 1\n",
    "    else:\n",
    "        return n*fact(n-1)"
   ]
  },
  {
   "cell_type": "code",
   "execution_count": 20,
   "id": "bff4e103-8cfa-41ff-bb93-69c2c7eb5b9f",
   "metadata": {},
   "outputs": [
    {
     "data": {
      "text/plain": [
       "120"
      ]
     },
     "execution_count": 20,
     "metadata": {},
     "output_type": "execute_result"
    }
   ],
   "source": [
    "fact(5)"
   ]
  },
  {
   "cell_type": "code",
   "execution_count": 1,
   "id": "55a6a172-9aed-4910-981b-a0a22ecdcd28",
   "metadata": {},
   "outputs": [],
   "source": [
    "#5.\tHow can you access variables defined outside a function from within the function?"
   ]
  },
  {
   "cell_type": "code",
   "execution_count": null,
   "id": "ec142c2a-0316-4c29-ba0a-06015b663449",
   "metadata": {},
   "outputs": [],
   "source": [
    "'''\n",
    "Local Variables cannot be accessed outside the function but Global Variables can be accessed within the function. \n",
    "Also, we can use a Global Keyword to access the local variables outside the function. \n",
    "If the variable is declared within the nested function then we can use keyword nonlocal in python.\n",
    "\n",
    "Global Variables:\n",
    "\n",
    "Declare the variable outside of any function, making it a global variable.\n",
    "Access the global variable within the function.\n",
    "\n",
    "Passing Variables as Parameters:\n",
    "\n",
    "Pass the variable as an argument to the function.\n",
    "\n",
    "Closure:\n",
    "\n",
    "In some languages like Python, you can use closures to capture variables from the outer scope.'''\n"
   ]
  },
  {
   "cell_type": "code",
   "execution_count": null,
   "id": "df99f579-b789-47fb-8d1b-a3efec767de6",
   "metadata": {},
   "outputs": [],
   "source": [
    "#Lambda Functions and Higher-Order Functions:"
   ]
  },
  {
   "cell_type": "code",
   "execution_count": null,
   "id": "95812708-2a18-44a6-8e56-263e79e39f96",
   "metadata": {},
   "outputs": [],
   "source": [
    "#1.\tWhat are lambda functions in Python, and when are they typically used?"
   ]
  },
  {
   "cell_type": "code",
   "execution_count": null,
   "id": "29af82f6-baa6-417c-b837-803643b21f58",
   "metadata": {},
   "outputs": [],
   "source": [
    "'''\n",
    " lambda function is a small anonymous function defined using the lambda keyword. Lambda functions are also known as anonymous functions \n",
    " because they don't have a name. The syntax for a lambda function is:'''\n",
    " \n",
    "lambda arguments: expression\n",
    "\n",
    "'''Lambda functions are typically used for short, simple operations where a full function definition is not necessary. \n",
    "They are often employed in situations where\n",
    "a function is required for a short period and can be discarded afterward.\n",
    "\n",
    "Lambda functions are commonly used in conjunction with functions that take other functions as arguments, \n",
    "such as the map(), filter(), and sorted() functions. They are also used in situations where a small function is needed for a short period \n",
    "and it doesn't make sense to define a full function using the def keyword.\n",
    "\n",
    "Lambda functions are concise and can improve code readability in certain situations. However, it's essential to use them judiciously, \n",
    "as overly complex or nested lambda functions can make the code harder to understand. In many cases, \n",
    "using a regular named function with a clear name might be preferable for better code organization and maintainability.'''\n",
    "\n",
    "\n"
   ]
  },
  {
   "cell_type": "code",
   "execution_count": 2,
   "id": "72575d2a-56a9-44f9-9c61-ad6b73a1475e",
   "metadata": {},
   "outputs": [],
   "source": [
    "#2.\tWrite a Python program that uses lambda functions to sort a list of tuples based on the second element."
   ]
  },
  {
   "cell_type": "code",
   "execution_count": 8,
   "id": "761adff8-fd5e-473d-bb7a-5c5609dc4ebc",
   "metadata": {},
   "outputs": [
    {
     "name": "stdout",
     "output_type": "stream",
     "text": [
      "Orginal List: [(1, 10), (3, 2), (1, 4), (1, 1)]\n",
      "Sorted List: [(1, 1), (3, 2), (1, 4), (1, 10)]\n"
     ]
    }
   ],
   "source": [
    "tup_list=[(1,10),(3,2),(1,4),(1,1)]\n",
    "\n",
    "sort_list=sorted(tup_list,key=lambda x : x[1])\n",
    "\n",
    "print(\"Orginal List:\",tup_list)\n",
    "print(\"Sorted List:\", sort_list)"
   ]
  },
  {
   "cell_type": "code",
   "execution_count": null,
   "id": "4126df24-5ca8-4e7a-9076-40fea03f5379",
   "metadata": {},
   "outputs": [],
   "source": [
    "#3.\tExplain the concept of higher-order functions in Python, and provide an example."
   ]
  },
  {
   "cell_type": "code",
   "execution_count": null,
   "id": "738afe36-1de1-434a-b1da-224bd766496e",
   "metadata": {},
   "outputs": [],
   "source": [
    "'''\n",
    "A higher-order function is a function that can take one or more functions as arguments and/or can \n",
    "return a function as its result. This concept is based on the idea of functions being first-class citizens \n",
    "in the language, which means that functions can be treated like any other object, such as integers, strings, or lists.\n",
    "\n",
    "Here are two key aspects of higher-order functions:\n",
    "\n",
    "Taking Functions as Arguments:\n",
    "\n",
    "A higher-order function can accept other functions as parameters.\n",
    "Returning Functions:\n",
    "\n",
    "A higher-order function can return a function as its result.\n",
    "Higher-order functions are powerful because they allow you to abstract over actions, making your code more modular, flexible, and expressive.\n",
    "\n",
    "\n",
    "This concept is fundamental in functional programming and allows for the creation of more abstract and reusable code.'''\n"
   ]
  },
  {
   "cell_type": "code",
   "execution_count": 1,
   "id": "ec35f93d-2249-4dd5-8b5c-71374a0433e9",
   "metadata": {},
   "outputs": [],
   "source": [
    "#4.\tCreate a Python function that takes a list of numbers and a function as arguments, applying the function to each element in the list."
   ]
  },
  {
   "cell_type": "code",
   "execution_count": 3,
   "id": "4036de12-d431-48b7-9f15-12397ebc2b9a",
   "metadata": {},
   "outputs": [],
   "source": [
    "def mainfun(num,cus_fun):\n",
    "    \n",
    "    result=[cus_fun(i) for i in num]\n",
    "    return result\n"
   ]
  },
  {
   "cell_type": "code",
   "execution_count": 2,
   "id": "401053a6-93b5-463a-851f-765bcc8f50d2",
   "metadata": {},
   "outputs": [],
   "source": [
    "def squ(x):\n",
    "    \n",
    "    return x**2"
   ]
  },
  {
   "cell_type": "code",
   "execution_count": 5,
   "id": "2541d968-c9f9-4822-9e9d-cfb010c502a1",
   "metadata": {},
   "outputs": [
    {
     "name": "stdout",
     "output_type": "stream",
     "text": [
      "[4, 16, 25, 36]\n"
     ]
    }
   ],
   "source": [
    "num_list=[2,4,5,6]\n",
    "res_list=mainfun(num_list,squ)\n",
    "print(res_list)"
   ]
  },
  {
   "cell_type": "code",
   "execution_count": 6,
   "id": "33664e59-c382-457a-8426-c2ceba9055c7",
   "metadata": {},
   "outputs": [],
   "source": [
    "#Built-in Functions:"
   ]
  },
  {
   "cell_type": "code",
   "execution_count": 7,
   "id": "5d4cbd22-b2d4-4c3f-b40e-c13afacb61d4",
   "metadata": {},
   "outputs": [],
   "source": [
    "#1.\tDescribe the role of built-in functions like `len()`, `max()`, and `min()` in Python."
   ]
  },
  {
   "cell_type": "code",
   "execution_count": null,
   "id": "045e4740-5b62-4765-8a45-3ee05a545e45",
   "metadata": {},
   "outputs": [],
   "source": [
    "'''\n",
    "uilt-in functions like len(), max(), and min() play essential roles in Python for various operations \n",
    "related to data manipulation and analysis.\n",
    "\n",
    "len() Function:\n",
    "\n",
    "Role: The len() function is used to determine the length or the number of elements in an object.\n",
    "\n",
    "Note: len() can be applied to various objects, including strings, lists, tuples, sets, dictionaries, etc.\n",
    "\n",
    "max() Function:\n",
    "\n",
    "Role: The max() function is used to find the maximum value from a collection of elements.\n",
    "Note: max() can be applied to sequences like lists, tuples, or even non-numeric types where \n",
    "the \"maximum\" is determined based on lexicographical order\n",
    "\n",
    "\n",
    "min() Function:\n",
    "\n",
    "Role: The min() function is used to find the minimum value from a collection of elements.\n",
    "\n",
    "Note: Similar to max(), min() can be applied to sequences and non-numeric types.\n",
    "These built-in functions are part of Python's standard library and provide convenient ways to perform\n",
    "common operations without the need for explicit loops or custom implementations. They contribute to the \n",
    "readability and conciseness of Python code, making it more expressive and easier to understand. Additionally, \n",
    "they are optimized for performance and are widely used in various programming scenarios.'''\n",
    "\n",
    "\n"
   ]
  },
  {
   "cell_type": "code",
   "execution_count": 8,
   "id": "7b5f0c77-bd67-4660-95eb-dfed6d12ef7e",
   "metadata": {},
   "outputs": [],
   "source": [
    "#2.\tWrite a Python program that uses the `map()` function to apply a function to each element of a list."
   ]
  },
  {
   "cell_type": "code",
   "execution_count": 9,
   "id": "8a312b4c-04c7-401e-8bd7-d7600269d3ff",
   "metadata": {},
   "outputs": [],
   "source": [
    "def squ(x):\n",
    "    return x**2\n"
   ]
  },
  {
   "cell_type": "code",
   "execution_count": 14,
   "id": "fe066e42-c67b-4fd7-a66f-6213219082cd",
   "metadata": {},
   "outputs": [
    {
     "name": "stdout",
     "output_type": "stream",
     "text": [
      "Orginal List: [2, 4, 5, 6, 8]\n",
      "Squared number: [4, 16, 25, 36, 64]\n"
     ]
    }
   ],
   "source": [
    "num_list=[2,4,5,6,8]\n",
    "square_num=list(map(squ,num_list))\n",
    "print(\"Orginal List:\",num_list)\n",
    "print(\"Squared number:\",square_num)"
   ]
  },
  {
   "cell_type": "code",
   "execution_count": 15,
   "id": "ff39cbce-e2e4-4049-81a3-4d2bfbdee968",
   "metadata": {},
   "outputs": [],
   "source": [
    "#3.\tHow does the `filter()` function work in Python, and when would you use it?"
   ]
  },
  {
   "cell_type": "code",
   "execution_count": null,
   "id": "c93bc788-7802-43be-b533-eee54b828729",
   "metadata": {},
   "outputs": [],
   "source": [
    "'''\n",
    "The filter() function in Python is used to construct an iterator from elements of an iterable for which a \n",
    "function returns true. It filters out elements based on a specified function,\n",
    "which acts as a predicate. The syntax of the filter() function is as follows:'''\n",
    "\n",
    "filter(function,iterable)\n",
    "\n",
    "'''\n",
    "function: A function that tests whether each element of an iterable returns True or False.\n",
    "iterable: An iterable like lists, tuples, sets, etc., whose elements are tested by the function.\n",
    "\n",
    "The filter() function applies the specified function to each item of the iterable. \n",
    "It returns an iterator containing only the items for which the function returns True.\n"
   ]
  },
  {
   "cell_type": "code",
   "execution_count": 16,
   "id": "a5207686-deb6-4bdd-8c92-e7097d76dc97",
   "metadata": {},
   "outputs": [],
   "source": [
    "#4.\tCreate a Python program that uses the `reduce()` function to find the product of all elements in a list."
   ]
  },
  {
   "cell_type": "code",
   "execution_count": 23,
   "id": "2b98d2be-509e-4cae-ba75-8936ade65428",
   "metadata": {},
   "outputs": [
    {
     "name": "stdout",
     "output_type": "stream",
     "text": [
      "24\n"
     ]
    }
   ],
   "source": [
    "from functools import reduce\n",
    "\n",
    "def multiply(x,y):\n",
    "    return x*y\n",
    "\n",
    "num_list=[2,3,4]\n",
    "\n",
    "result=reduce(multiply,num_list)\n",
    "print(result)\n",
    "    "
   ]
  },
  {
   "cell_type": "code",
   "execution_count": 24,
   "id": "82306cbd-366f-48f9-b3d1-f2090ca88fd9",
   "metadata": {},
   "outputs": [],
   "source": [
    "#Function Documentation and Best Practices:"
   ]
  },
  {
   "cell_type": "code",
   "execution_count": 25,
   "id": "8525436d-f284-4cad-8220-0d863c9010e2",
   "metadata": {},
   "outputs": [],
   "source": [
    "#1.\tExplain the purpose of docstrings in Python functions and how to write them."
   ]
  },
  {
   "cell_type": "code",
   "execution_count": null,
   "id": "ed8d54eb-d6c7-4eac-84e2-ae50254b44aa",
   "metadata": {},
   "outputs": [],
   "source": [
    "'''\n",
    "Docstrings (documentation strings) in Python serve the purpose of providing documentation for functions,\n",
    "methods, classes, or modules. They are strings that are placed as the first statement in a module, function, class, or \n",
    "method definition and are used to describe what the code does.\n",
    "\n",
    "The main purposes of docstrings are:\n",
    "\n",
    "Documentation: Docstrings provide a way to document your code, explaining its purpose, usage, and \n",
    "any important details that users or other developers should be aware of.\n",
    "\n",
    "Help and Readability: Docstrings are accessible through the help() function in the Python interpreter and are \n",
    "also used by tools like Sphinx for\n",
    "generating documentation. Well-documented code with clear docstrings makes it easier for others (or yourself) to understand and use the code.\n",
    "\n",
    "Autocomplete and IDE Support: Docstrings are often used by integrated development environments (IDEs) to provide \n",
    "context-aware autocompletion suggestions and tooltips, enhancing the developer's experience.\n",
    "\n",
    "Writing clear and informative docstrings is considered good practice, as it makes your code\n",
    "more usable and maintainable for yourself and others.'''\n",
    "\n",
    "\n",
    "def add(x,y):\n",
    "    # Add two numbers \n",
    "    #parametrs int x->first number , int y->second number\n",
    "    \n",
    "    #returns the sum of two numbers\n",
    "    \n",
    "    return x+y"
   ]
  },
  {
   "cell_type": "code",
   "execution_count": null,
   "id": "f8d9cc2c-f7c1-4779-b756-64e8a2cca9d2",
   "metadata": {},
   "outputs": [],
   "source": [
    "#2.\tDescribe some best practices for naming functions and variables in Python, including naming conventions and guidelines."
   ]
  },
  {
   "cell_type": "code",
   "execution_count": null,
   "id": "d50fe611-2f97-44ef-bac8-acbd57544409",
   "metadata": {},
   "outputs": [],
   "source": [
    "'''\n",
    "Naming functions and variables in a clear and consistent manner is crucial for writing readable and \n",
    "maintainable code. Python follows certain naming conventions, and adopting these practices helps create \n",
    "code that is more understandable and adheres to the community standards. \n",
    "Here are some best practices for naming functions and variables in Python:\n",
    "\n",
    "Functions:\n",
    "Use Descriptive Names:\n",
    "\n",
    "Choose function names that clearly describe their purpose and functionality. A reader should be able to understand the \n",
    "purpose of the function from its name.\n",
    "Follow Snake Case:\n",
    "\n",
    "Use lowercase letters with underscores to separate words in function names. For example: calculate_area(), print_summary().\n",
    "Verb-Noun Naming:\n",
    "\n",
    "Name functions using a combination of verbs and nouns to indicate actions and entities. For example: calculate_total(), validate_input().\n",
    "Avoid Abbreviations (except commonly accepted):\n",
    "\n",
    "Prefer full, descriptive words over abbreviations to make your code more readable. Exceptions can be made for widely accepted \n",
    "abbreviations that are clear to most developers.\n",
    "\n",
    "\n",
    "    Variables:\n",
    "Use Descriptive Names:\n",
    "\n",
    "Choose variable names that convey the purpose or content of the variable. A reader should be able to understand \n",
    "the role of a variable from its name.\n",
    "Follow Snake Case:\n",
    "\n",
    "Use lowercase letters with underscores to separate words in variable names. For example: user_age, total_amount.\n",
    "Avoid Single-Letter Names (except in specific cases):\n",
    "\n",
    "Use meaningful names even for temporary variables. Single-letter names like i or j are traditionally used in loops,\n",
    "but for other variables, opt for more descriptive names.\n",
    "Avoid Reserved Words:\n",
    "\n",
    "Do not use names that conflict with Python keywords or built-in functions. For instance, avoid names like print, list, or sum.\n",
    "Be Consistent:\n",
    "\n",
    "Maintain consistency in naming conventions throughout your codebase. If you choose a specific style, stick to it to\n",
    "enhance overall code readability.\n",
    "Choose Plural for Collections:\n",
    "\n",
    "When naming variables representing collections (lists, sets, dictionaries, etc.), use plural forms to indicate that they\n",
    "contain multiple elements. For example: users, items.\n",
    "\n",
    "\n",
    "Constants:\n",
    "Use Uppercase with Underscores:\n",
    "Constants (values that don't change during the program's execution) should be named using all uppercase letters\n",
    "with underscores separating words. For example: MAX_VALUE, PI.\n",
    "Miscellaneous:\n",
    "Avoid Ambiguous Names:\n",
    "\n",
    "Avoid names that are ambiguous or might be easily confused. Choose names that reduce the likelihood of misinterpretation.\n",
    "Consider PEP 8:\n",
    "\n",
    "PEP 8 is the official style guide for Python. It provides guidelines on naming conventions and other aspects of writing clean, \n",
    "readable code. Adhering to PEP 8 helps maintain consistency across Python projects.\n",
    "By following these best practices, you contribute to writing code that is more readable, maintainable, \n",
    "and easily understandable by yourself and others. Consistent and clear naming conventions \n",
    "are essential for creating high-quality software.'''\n",
    "\n"
   ]
  }
 ],
 "metadata": {
  "kernelspec": {
   "display_name": "Python 3 (ipykernel)",
   "language": "python",
   "name": "python3"
  },
  "language_info": {
   "codemirror_mode": {
    "name": "ipython",
    "version": 3
   },
   "file_extension": ".py",
   "mimetype": "text/x-python",
   "name": "python",
   "nbconvert_exporter": "python",
   "pygments_lexer": "ipython3",
   "version": "3.10.8"
  }
 },
 "nbformat": 4,
 "nbformat_minor": 5
}
