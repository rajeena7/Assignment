{
 "cells": [
  {
   "cell_type": "code",
   "execution_count": null,
   "id": "7243564f-317e-4c58-9fb1-5ad515e12260",
   "metadata": {},
   "outputs": [],
   "source": [
    "#TOPIC: String Based Assignment Problem"
   ]
  },
  {
   "cell_type": "code",
   "execution_count": null,
   "id": "849ecec6-96d5-4192-ae01-d5857613c5b6",
   "metadata": {},
   "outputs": [],
   "source": [
    "#1. Write a program to reverse a string."
   ]
  },
  {
   "cell_type": "code",
   "execution_count": 11,
   "id": "a9cae346-6666-4e7b-a415-5a4c2097491d",
   "metadata": {},
   "outputs": [
    {
     "name": "stdin",
     "output_type": "stream",
     "text": [
      "Enter a string: hello world\n"
     ]
    },
    {
     "name": "stdout",
     "output_type": "stream",
     "text": [
      "The reverse string is: dlrow olleh\n"
     ]
    }
   ],
   "source": [
    "#Accepting string from user\n",
    "new_str=input(\"Enter a string:\",)\n",
    "#using string indexing to reverse string\n",
    "rever_str=new_str[::-1]\n",
    "#printing the reverse string\n",
    "print(\"The reverse string is:\",rever_str)\n",
    "\n",
    "\n"
   ]
  },
  {
   "cell_type": "code",
   "execution_count": null,
   "id": "6c0ce278-bf3f-43ea-98ce-1a58aca1304c",
   "metadata": {},
   "outputs": [],
   "source": [
    "#Check if a string is a palindrome."
   ]
  },
  {
   "cell_type": "code",
   "execution_count": 27,
   "id": "0695d593-6c7d-46c0-861f-acf38f753fc3",
   "metadata": {},
   "outputs": [
    {
     "name": "stdin",
     "output_type": "stream",
     "text": [
      "Enter a string: malayalam\n"
     ]
    },
    {
     "name": "stdout",
     "output_type": "stream",
     "text": [
      "The string is palindrome\n"
     ]
    }
   ],
   "source": [
    "#Accepting string from user\n",
    "new_str=input(\"Enter a string:\",)\n",
    "##using string indexing to reverse string\n",
    "rever_str=new_str[::-1]\n",
    "#Using if , else condition to check the string is palindrome or not\n",
    "if rever_str==new_str:\n",
    "    print(\"The string is palindrome\")\n",
    "else:\n",
    "    print(\"The string is not palindrome\")\n",
    "    "
   ]
  },
  {
   "cell_type": "code",
   "execution_count": null,
   "id": "c56812fb-05a4-4827-b9ca-03edb6f1055a",
   "metadata": {},
   "outputs": [],
   "source": [
    "#3. Convert a string to uppercase."
   ]
  },
  {
   "cell_type": "code",
   "execution_count": 2,
   "id": "1c9cd21b-a5e8-43e2-9f82-ef7eb9b2255a",
   "metadata": {},
   "outputs": [
    {
     "name": "stdin",
     "output_type": "stream",
     "text": [
      "Enter a string in lower case: very good morning\n"
     ]
    },
    {
     "name": "stdout",
     "output_type": "stream",
     "text": [
      "VERY GOOD MORNING\n"
     ]
    }
   ],
   "source": [
    "#Accepting string from user\n",
    "new_str=input(\"Enter a string in lower case:\")\n",
    "#converting inputed string to upper case by upper() function\n",
    "upper_str=new_str.upper()\n",
    "#printing the upper case string\n",
    "print(upper_str)\n"
   ]
  },
  {
   "cell_type": "code",
   "execution_count": null,
   "id": "f8fd560c-57cb-46bb-8139-458da8fd5ab0",
   "metadata": {},
   "outputs": [],
   "source": [
    "#4. Convert a string to lowercase."
   ]
  },
  {
   "cell_type": "code",
   "execution_count": 3,
   "id": "db36a5ba-e9bc-471f-a6f6-c72e18bccee8",
   "metadata": {},
   "outputs": [
    {
     "name": "stdin",
     "output_type": "stream",
     "text": [
      "Enter a string in upper case: HELLO WORLD\n"
     ]
    },
    {
     "name": "stdout",
     "output_type": "stream",
     "text": [
      "hello world\n"
     ]
    }
   ],
   "source": [
    "#Accepting string from user\n",
    "new_str=input(\"Enter a string in upper case:\")\n",
    "#converting inputed string to upper case by lower() function\n",
    "lower_str=new_str.lower()\n",
    "#printing the lower case string\n",
    "print(lower_str)\n"
   ]
  },
  {
   "cell_type": "code",
   "execution_count": null,
   "id": "54ab50bd-ce56-4bcc-ad51-796829c322a7",
   "metadata": {},
   "outputs": [],
   "source": [
    "#5. Count the number of vowels in a string."
   ]
  },
  {
   "cell_type": "code",
   "execution_count": 4,
   "id": "964ceeaf-eb7f-4a63-9c66-e7bad85a0eb8",
   "metadata": {},
   "outputs": [
    {
     "name": "stdin",
     "output_type": "stream",
     "text": [
      "Enter a string: hello world\n"
     ]
    },
    {
     "name": "stdout",
     "output_type": "stream",
     "text": [
      "The number of vowels: 3\n"
     ]
    }
   ],
   "source": [
    "#Accepting the string from user\n",
    "new_str=input(\"Enter a string:\")\n",
    "#converting inputed string to upper case by upper() function\n",
    "upper_str=new_str.upper()\n",
    "#Initializing count variable to 0\n",
    "vowels=0\n",
    "#iterate through string to find vowels and using if to check vowels\n",
    "for n in upper_str:\n",
    "          if (n=='A' or n=='E' or n=='I' or n=='O' or n=='U'):\n",
    "            vowels=vowels+1      \n",
    "print(\"The number of vowels:\",vowels)"
   ]
  },
  {
   "cell_type": "code",
   "execution_count": null,
   "id": "1e03af10-a44b-44bc-b1fb-d42058515c5b",
   "metadata": {},
   "outputs": [],
   "source": [
    "# Count the number of consonants in a string."
   ]
  },
  {
   "cell_type": "code",
   "execution_count": 21,
   "id": "7649208f-9e85-4a6f-9440-1f16249d3505",
   "metadata": {},
   "outputs": [
    {
     "name": "stdin",
     "output_type": "stream",
     "text": [
      "Enter a string: string\n"
     ]
    },
    {
     "name": "stdout",
     "output_type": "stream",
     "text": [
      "The number of consonants: 5\n"
     ]
    }
   ],
   "source": [
    "#Accepting the string from user\n",
    "new_str=input(\"Enter a string:\")\n",
    "#converting inputed string to upper case by upper() function\n",
    "upper_str=new_str.upper()\n",
    "#Initializing count variable to 0 \n",
    "vowels=0\n",
    "cons=0\n",
    "#iterate through string to find vowels and using if to check vowels and consonants\n",
    "for i in upper_str:\n",
    "    if (i=='A' or i=='E' or i=='I' or i=='O' or i=='U'):\n",
    "        vowels =vowels+1    \n",
    "    else:\n",
    "        cons=cons+1        \n",
    "print(\"The number of consonants:\" , cons)        "
   ]
  },
  {
   "cell_type": "code",
   "execution_count": null,
   "id": "c91463a9-027a-4ddc-b234-e808aef6c683",
   "metadata": {},
   "outputs": [],
   "source": [
    "#7. Remove all whitespaces from a string."
   ]
  },
  {
   "cell_type": "code",
   "execution_count": 1,
   "id": "e7bec0f1-e8fb-49c7-9f9d-4d28b926a019",
   "metadata": {},
   "outputs": [
    {
     "name": "stdin",
     "output_type": "stream",
     "text": [
      "Enter a string: he   l lo\n"
     ]
    },
    {
     "name": "stdout",
     "output_type": "stream",
     "text": [
      "hello\n"
     ]
    }
   ],
   "source": [
    "#Accepting the string from user\n",
    "new_str=input(\"Enter a string:\")\n",
    "#Removing the white spaces from string using replace function\n",
    "rem_space=new_str.replace(\" \", \"\")\n",
    "print(rem_space)\n"
   ]
  },
  {
   "cell_type": "code",
   "execution_count": null,
   "id": "de930bc7-5f2d-4909-a3e4-adad9a9b8e89",
   "metadata": {},
   "outputs": [],
   "source": [
    "#8. Find the length of a string without using the `len()` function."
   ]
  },
  {
   "cell_type": "code",
   "execution_count": 8,
   "id": "7d894a7b-f6fc-48af-ba61-dd1d3d761afb",
   "metadata": {},
   "outputs": [
    {
     "name": "stdin",
     "output_type": "stream",
     "text": [
      "Enter a string: world\n"
     ]
    },
    {
     "name": "stdout",
     "output_type": "stream",
     "text": [
      "Length of a string: 5\n"
     ]
    }
   ],
   "source": [
    "#Accepting the string from user\n",
    "new_str=input(\"Enter a string:\")\n",
    "#Initializing count variable to 0 \n",
    "count_str=0\n",
    "#Using for loop for counting the letters in string and print it\n",
    "for i in new_str:\n",
    "    count_str=count_str+1\n",
    "print(\"Length of a string:\" ,count_str)\n",
    "    "
   ]
  },
  {
   "cell_type": "code",
   "execution_count": null,
   "id": "3b9cc8a6-fc0b-49f2-829f-d4320bb71001",
   "metadata": {},
   "outputs": [],
   "source": [
    "#9. Check if a string contains a specific word."
   ]
  },
  {
   "cell_type": "code",
   "execution_count": 38,
   "id": "7c46d66f-9b65-4f91-aa11-1135d71f43d5",
   "metadata": {},
   "outputs": [
    {
     "name": "stdin",
     "output_type": "stream",
     "text": [
      "Enter a sentence: life is very beautiful\n",
      "Enter a specific word to find: beautiful\n"
     ]
    },
    {
     "name": "stdout",
     "output_type": "stream",
     "text": [
      "The specific word is: 'beautiful' \n"
     ]
    }
   ],
   "source": [
    "#Accepting the string from use\n",
    "new_str=input(\"Enter a sentence:\")\n",
    "specific_word=input(\"Enter a specific word to find:\")\n",
    "#checking the specific word matches with input string using if else\n",
    "if specific_word in new_str:\n",
    "    print(f\"The specific word is: '{specific_word}' \")\n",
    "else:        \n",
    "    print(f\"The specific word not found: '{specific_word} '\")\n",
    "        "
   ]
  },
  {
   "cell_type": "code",
   "execution_count": null,
   "id": "455334ac-5205-437d-b091-cdba2ab77368",
   "metadata": {},
   "outputs": [],
   "source": [
    "#10. Replace a word in a string with another word."
   ]
  },
  {
   "cell_type": "code",
   "execution_count": 43,
   "id": "c61f968f-581a-4837-81ca-97bef9300d67",
   "metadata": {},
   "outputs": [
    {
     "name": "stdin",
     "output_type": "stream",
     "text": [
      "Enter a sentence: you are a very good person\n",
      "Enter which word to replace: good\n",
      "Enter the new word: nice\n"
     ]
    },
    {
     "name": "stdout",
     "output_type": "stream",
     "text": [
      "The new string is: you are a very nice person\n"
     ]
    }
   ],
   "source": [
    "#Accepting the string from use\n",
    "new_str=input(\"Enter a sentence:\")\n",
    "find_word=input(\"Enter which word to replace:\")\n",
    "new_word=input(\"Enter the new word:\")\n",
    "#repalcing the new word with old one using replace function\n",
    "new_string=new_str.replace(find_word,new_word)\n",
    "print(\"The new string is:\" , new_string)"
   ]
  },
  {
   "cell_type": "code",
   "execution_count": null,
   "id": "a60f8eda-328f-4635-9929-9eecc9f119b1",
   "metadata": {},
   "outputs": [],
   "source": [
    "#11. Count the occurrences of a word in a string."
   ]
  },
  {
   "cell_type": "code",
   "execution_count": 23,
   "id": "9e0dc474-3da2-40c3-a15f-2b890ecd9311",
   "metadata": {},
   "outputs": [],
   "source": [
    "#defining function and accepting two values\n",
    "def occr_str(input_string, search_word):\n",
    "#Initializing count variable to 0    \n",
    "    count_word=0\n",
    "#spliting the input string using split function and initialzing to a variable    \n",
    "    words=input_string.split()\n",
    "#iterate through each word in the string   \n",
    "    for i in words:\n",
    "#checking each word mateches with find word and incrementing the count variable      \n",
    "        if i==search_word:\n",
    "            count_word+=1\n",
    "    return count_word       \n",
    "    \n"
   ]
  },
  {
   "cell_type": "code",
   "execution_count": 29,
   "id": "f3a8303c-1992-4e02-a4f1-268b1ef78805",
   "metadata": {},
   "outputs": [
    {
     "name": "stdout",
     "output_type": "stream",
     "text": [
      "the number of occurrence of word  2\n"
     ]
    }
   ],
   "source": [
    "print(f\"the number of occurrence of word \" , occr_str(\"hello how are you hello\",\"hello\"))\n"
   ]
  },
  {
   "cell_type": "code",
   "execution_count": 9,
   "id": "ecadd043-ff9d-4e50-a16c-38d3fb900d21",
   "metadata": {},
   "outputs": [
    {
     "data": {
      "text/plain": [
       "3"
      ]
     },
     "execution_count": 9,
     "metadata": {},
     "output_type": "execute_result"
    }
   ],
   "source": [
    "occr_str(\"this is very nice nice pen nice\",\"nice\")"
   ]
  },
  {
   "cell_type": "code",
   "execution_count": null,
   "id": "30ee4db7-9e3f-4af1-b1bb-9f1f1624b46b",
   "metadata": {},
   "outputs": [],
   "source": [
    "#12. Find the first occurrence of a word in a string."
   ]
  },
  {
   "cell_type": "code",
   "execution_count": 6,
   "id": "5b7a5e96-4ef7-4022-969f-157d8d3313db",
   "metadata": {},
   "outputs": [],
   "source": [
    "#defining function and accepting two values\n",
    "def first_occr(input_str,find_word):\n",
    "#finding the first of the word using find function    \n",
    "        index=input_str.find(find_word)\n",
    "#checking index not found     \n",
    "    if index==-1:\n",
    "#return none if not found        \n",
    "        return none\n",
    "#return index of the find word\n",
    "    return index\n",
    "           "
   ]
  },
  {
   "cell_type": "code",
   "execution_count": 11,
   "id": "63f2fbdf-12c1-4a86-9a1a-fa7514574bd5",
   "metadata": {},
   "outputs": [
    {
     "name": "stdout",
     "output_type": "stream",
     "text": [
      "the first occurrence of the word is:  14\n"
     ]
    }
   ],
   "source": [
    "print(\"the first occurrence of the word is: \",first_occr(\"this world is very very beautiful\",\"very\"))"
   ]
  },
  {
   "cell_type": "code",
   "execution_count": null,
   "id": "655ce6da-32d0-41d5-97a8-1844fbc2d4b3",
   "metadata": {},
   "outputs": [],
   "source": [
    "#13. Find the last occurrence of a word in a string."
   ]
  },
  {
   "cell_type": "code",
   "execution_count": 15,
   "id": "7e2bd43c-3743-4ec6-9003-7c10b8719ab9",
   "metadata": {},
   "outputs": [],
   "source": [
    "#defining function and accepting two values\n",
    "def last_occr(input_str,find_word):\n",
    " #finding the last occurrence of the word using rfind function     \n",
    "    index=input_str.rfind(find_word)\n",
    "#checking index not found     \n",
    "    if index==-1:\n",
    "        #return none if not found \n",
    "        return none\n",
    "    #return index of the find word\n",
    "    return index\n"
   ]
  },
  {
   "cell_type": "code",
   "execution_count": 16,
   "id": "45d22ed3-74ce-4503-b079-a56dc40866fe",
   "metadata": {},
   "outputs": [
    {
     "data": {
      "text/plain": [
       "19"
      ]
     },
     "execution_count": 16,
     "metadata": {},
     "output_type": "execute_result"
    }
   ],
   "source": [
    "last_occr(\"this world is very very beautiful\",\"very\")"
   ]
  },
  {
   "cell_type": "code",
   "execution_count": null,
   "id": "fb5596e7-2668-4f9a-a9ba-02dd424399a0",
   "metadata": {},
   "outputs": [],
   "source": [
    "#14. Split a string into a list of words."
   ]
  },
  {
   "cell_type": "code",
   "execution_count": 22,
   "id": "0fee7cfa-f278-4508-a213-f9bb596fe306",
   "metadata": {},
   "outputs": [
    {
     "name": "stdin",
     "output_type": "stream",
     "text": [
      "Enter a string: Its a raining night\n"
     ]
    },
    {
     "name": "stdout",
     "output_type": "stream",
     "text": [
      "['Its', 'a', 'raining', 'night']\n"
     ]
    }
   ],
   "source": [
    "#Accepting the input from the user\n",
    "split_str=input(\"Enter a string:\")\n",
    "#spliting the string using split function and assigning to other variable\n",
    "sp_str=split_str.split()\n",
    "#printing the list\n",
    "print(sp_str)"
   ]
  },
  {
   "cell_type": "code",
   "execution_count": null,
   "id": "47466153-0361-4361-b7da-d78263068b2c",
   "metadata": {},
   "outputs": [],
   "source": [
    "#15. Join a list of words into a string."
   ]
  },
  {
   "cell_type": "code",
   "execution_count": 2,
   "id": "8152f56a-1dbc-4f4c-a3f5-dd3f9d2a6cbd",
   "metadata": {},
   "outputs": [
    {
     "name": "stdout",
     "output_type": "stream",
     "text": [
      "['an', 'apple', 'a', 'day', 'keeps', 'the', 'doctor', 'away']\n",
      "The string: an apple a day keeps the doctor away\n"
     ]
    }
   ],
   "source": [
    "#Accepting the input from the user\n",
    "name=[\"an\",\"apple\",\"a\",\"day\",\"keeps\",\"the\",\"doctor\",\"away\"]\n",
    "print(name)\n",
    "#joining the list into string using join function\n",
    "join_str=' '.join(name)\n",
    "#printing the new string\n",
    "print(\"The string:\" ,join_str)"
   ]
  },
  {
   "cell_type": "code",
   "execution_count": null,
   "id": "0d8255b4-3a5f-4f13-8fc5-8935fa392112",
   "metadata": {},
   "outputs": [],
   "source": [
    "#16. Convert a string where words are separated by spaces to one where words\n",
    "#are separated by underscores."
   ]
  },
  {
   "cell_type": "code",
   "execution_count": 11,
   "id": "e0bed7e5-200a-4186-9e71-ef7af9d874c3",
   "metadata": {},
   "outputs": [
    {
     "name": "stdin",
     "output_type": "stream",
     "text": [
      "Enter a string: hello python world\n"
     ]
    },
    {
     "name": "stdout",
     "output_type": "stream",
     "text": [
      "The new string: hello_python_world\n"
     ]
    }
   ],
   "source": [
    "#Assinging value from the user\n",
    "space_str=input(\"Enter a string:\")\n",
    "#replacing space with underscore using replace function\n",
    "new_str=space_str.replace(\" \" ,\"_\")\n",
    "#printing the replaced string\n",
    "print(\"The new string:\",new_str)\n",
    "   "
   ]
  },
  {
   "cell_type": "code",
   "execution_count": null,
   "id": "755974e1-6171-43de-8fab-825ef2291e4f",
   "metadata": {},
   "outputs": [],
   "source": [
    "#17. Check if a string starts with a specific word or phrase.\n"
   ]
  },
  {
   "cell_type": "code",
   "execution_count": 19,
   "id": "c6508211-31cc-47ee-b27b-8022bbdefe0c",
   "metadata": {},
   "outputs": [],
   "source": [
    "#defining the function with two inputs\n",
    "def starts_str(input_str,find_word):\n",
    "    #checking the input string having specific starts word by using startswith function, if so return true\n",
    "    new_str=input_str.startswith(find_word)\n",
    "    return new_str\n",
    "      "
   ]
  },
  {
   "cell_type": "code",
   "execution_count": 26,
   "id": "f5684e8b-2493-43c1-9078-9c6d24f4abe8",
   "metadata": {},
   "outputs": [
    {
     "name": "stdout",
     "output_type": "stream",
     "text": [
      "The string starts with specific word\n"
     ]
    }
   ],
   "source": [
    "result=starts_str(\"hai hello world\",\"hai\")\n",
    "if result:\n",
    "    print(\"The string starts with specific word\")\n",
    "else:\n",
    "    print(\"The string does not start with specific word\")\n",
    "        "
   ]
  },
  {
   "cell_type": "code",
   "execution_count": null,
   "id": "c8d5b03d-7e57-4927-8c5a-2dc3040e6304",
   "metadata": {},
   "outputs": [],
   "source": [
    "#18. Check if a string ends with a specific word or phrase."
   ]
  },
  {
   "cell_type": "code",
   "execution_count": 28,
   "id": "ced61a36-25e8-4cba-8cdd-0814536de8e6",
   "metadata": {},
   "outputs": [],
   "source": [
    "#defining the function with two inputs\n",
    "def ends_str(input_str,find_word):\n",
    "    #checking the input string having specific end word by using endsswith function, if so return true\n",
    "    new_str=input_str.endswith(find_word)\n",
    "    return new_str"
   ]
  },
  {
   "cell_type": "code",
   "execution_count": 32,
   "id": "4be47d2d-b514-485c-8fe0-29e0570a873b",
   "metadata": {},
   "outputs": [
    {
     "name": "stdout",
     "output_type": "stream",
     "text": [
      "The string ends with specific word\n"
     ]
    }
   ],
   "source": [
    "result=ends_str(\"hello world nice\",\"nice\")\n",
    "if result:\n",
    "    print(\"The string ends with specific word\")\n",
    "else:\n",
    "    print(\"The string does not ends with specific word\")\n"
   ]
  },
  {
   "cell_type": "code",
   "execution_count": null,
   "id": "bbfa2075-74fc-458d-aabd-52705dd4bede",
   "metadata": {},
   "outputs": [],
   "source": [
    "#19. Convert a string to title case (e.g., \"hello world\" to \"Hello World\")."
   ]
  },
  {
   "cell_type": "code",
   "execution_count": 33,
   "id": "babbad95-5bbd-4c71-ba0e-3de0aefb0130",
   "metadata": {},
   "outputs": [],
   "source": [
    "#Using function , acceoting the input string from user\n",
    "def title_str(input_str):\n",
    "    #changing the input string into tilte by using title function and returning the result\n",
    "    new_str=input_str.title()\n",
    "    return new_str"
   ]
  },
  {
   "cell_type": "code",
   "execution_count": 35,
   "id": "272db975-cc2b-4b13-87c7-5c2ea9b51d62",
   "metadata": {},
   "outputs": [
    {
     "data": {
      "text/plain": [
       "'Hello World'"
      ]
     },
     "execution_count": 35,
     "metadata": {},
     "output_type": "execute_result"
    }
   ],
   "source": [
    "title_str(\"hello world\")"
   ]
  },
  {
   "cell_type": "code",
   "execution_count": null,
   "id": "43ccfafe-885a-47d4-b6fb-8c345b37c96e",
   "metadata": {},
   "outputs": [],
   "source": [
    "#20. Find the longest word in a string.\n"
   ]
  },
  {
   "cell_type": "code",
   "execution_count": 11,
   "id": "c12be60b-c0cb-4608-bc7d-f0603888d3e5",
   "metadata": {},
   "outputs": [],
   "source": [
    "def longest_word(input_str):\n",
    "    #spliting the string into list of words\n",
    "    words=input_str.split()\n",
    "    #assinging two variables to find longest word and its length\n",
    "    lon_word=\"\"\n",
    "    max_len=0\n",
    "    #using for loop to check current word is greater than max_len\n",
    "    for i in words:\n",
    "        if len(i) > max_len:\n",
    "            max_len = len(i)\n",
    "            lon_word=i\n",
    "       #return the longest word     \n",
    "    return lon_word          \n",
    "    \n"
   ]
  },
  {
   "cell_type": "code",
   "execution_count": 30,
   "id": "72f5f518-411b-4828-b15c-c74a1c5d1ef6",
   "metadata": {},
   "outputs": [
    {
     "name": "stdout",
     "output_type": "stream",
     "text": [
      "The longest word is : happy\n"
     ]
    }
   ],
   "source": [
    "print(\"The longest word is :\",longest_word(\"i am happy\"))\n"
   ]
  },
  {
   "cell_type": "code",
   "execution_count": null,
   "id": "800c2760-0314-4cff-9c86-3f09670da72f",
   "metadata": {},
   "outputs": [],
   "source": [
    "#21. Find the shortest word in a string."
   ]
  },
  {
   "cell_type": "code",
   "execution_count": 25,
   "id": "3a50d618-bb3b-4a73-966d-3346fd47f31b",
   "metadata": {},
   "outputs": [],
   "source": [
    "def short_str(input_str):\n",
    "        #spliting the string into list of words\n",
    "    word=input_str.split()\n",
    "    #assinging none value\n",
    "    short_word=None\n",
    "    #assinging inifinty value\n",
    "    min_word=float('inf')\n",
    "     #using for loop to check current word is lessrthan min_word\n",
    "    for i in word:\n",
    "        if len(i) < min_word:\n",
    "            min_word=len(i)\n",
    "            short_word=i\n",
    "           \n",
    "    return short_word\n",
    "            \n",
    "            "
   ]
  },
  {
   "cell_type": "code",
   "execution_count": 29,
   "id": "455b42ed-ba03-4c08-8620-5fd9cf1c67af",
   "metadata": {},
   "outputs": [
    {
     "name": "stdout",
     "output_type": "stream",
     "text": [
      "The shortest word is : i\n"
     ]
    }
   ],
   "source": [
    "print(\"The shortest word is :\",short_str(\"i am happy\"))\n"
   ]
  },
  {
   "cell_type": "code",
   "execution_count": null,
   "id": "409ff8c4-5f0b-40fc-8a26-233fca2cdc2e",
   "metadata": {},
   "outputs": [],
   "source": [
    "#22. Reverse the order of words in a string"
   ]
  },
  {
   "cell_type": "code",
   "execution_count": 10,
   "id": "7ee47be4-97d4-4a67-b609-30ed72e5faeb",
   "metadata": {},
   "outputs": [
    {
     "name": "stdin",
     "output_type": "stream",
     "text": [
      "Enter a string: hello world\n"
     ]
    },
    {
     "name": "stdout",
     "output_type": "stream",
     "text": [
      "The reverse string is: dlrow olleh\n"
     ]
    }
   ],
   "source": [
    "#Accepting string from user\n",
    "new_str=input(\"Enter a string:\",)\n",
    "#using string indexing to reverse string\n",
    "rever_str=new_str[::-1]\n",
    "#printing the reverse string\n",
    "print(\"The reverse string is:\",rever_str)\n"
   ]
  },
  {
   "cell_type": "code",
   "execution_count": null,
   "id": "f6623230-d070-4195-a96d-6cdde0a6529e",
   "metadata": {},
   "outputs": [],
   "source": [
    "#23. Check if a string is alphanumeric."
   ]
  },
  {
   "cell_type": "code",
   "execution_count": 15,
   "id": "353add39-b553-405b-add5-d91c83451f02",
   "metadata": {},
   "outputs": [],
   "source": [
    "#creating a function \n",
    "def alpha_numeric(text):\n",
    "    #checking the inputed string is alphanumeric or not by isalnum function and printing it\n",
    "    if text.isalnum():\n",
    "         print(\"The string is alphanumeric\")\n",
    "    else:\n",
    "        print(\"The string in not alphanumeric\")\n",
    "        \n",
    "    return text   "
   ]
  },
  {
   "cell_type": "code",
   "execution_count": 16,
   "id": "daf5acba-244f-4921-a57d-a69b7cfbd0e2",
   "metadata": {},
   "outputs": [
    {
     "name": "stdout",
     "output_type": "stream",
     "text": [
      "The string is alphanumeric\n"
     ]
    },
    {
     "data": {
      "text/plain": [
       "'helloworld2023'"
      ]
     },
     "execution_count": 16,
     "metadata": {},
     "output_type": "execute_result"
    }
   ],
   "source": [
    "alpha_numeric(\"helloworld2023\")"
   ]
  },
  {
   "cell_type": "code",
   "execution_count": null,
   "id": "476ac2c1-9872-46ad-a3c4-b06e8b9971e5",
   "metadata": {},
   "outputs": [],
   "source": [
    "#24. Extract all digits from a string."
   ]
  },
  {
   "cell_type": "code",
   "execution_count": 66,
   "id": "748a9160-8d0f-467d-a34e-d5f3edfdcd90",
   "metadata": {},
   "outputs": [],
   "source": [
    "#creating a function\n",
    "def digits_str(text):\n",
    "    #initailize to store digits\n",
    "    digit=\"\"\n",
    "    #ietrating through each letter and checking if its contains digits or not by isdigit() and storing it\n",
    "    for i in text:\n",
    "        if  i.isdigit():\n",
    "            digit+=i\n",
    "       \n",
    "    return digit\n",
    "    \n",
    "            \n",
    "            "
   ]
  },
  {
   "cell_type": "code",
   "execution_count": 67,
   "id": "aaa56c0d-41ed-408f-86b8-d857d761e1e6",
   "metadata": {},
   "outputs": [
    {
     "data": {
      "text/plain": [
       "'23'"
      ]
     },
     "execution_count": 67,
     "metadata": {},
     "output_type": "execute_result"
    }
   ],
   "source": [
    "digits_str(\"hello23\")"
   ]
  },
  {
   "cell_type": "code",
   "execution_count": null,
   "id": "d0e1ccad-2578-4270-b9b0-8654606369f2",
   "metadata": {},
   "outputs": [],
   "source": [
    "#25. Extract all alphabets from a string."
   ]
  },
  {
   "cell_type": "code",
   "execution_count": 15,
   "id": "27026752-82d0-4d38-8425-0a8215c381fb",
   "metadata": {},
   "outputs": [
    {
     "name": "stdin",
     "output_type": "stream",
     "text": [
      "Enter a string hello23023world\n"
     ]
    },
    {
     "name": "stdout",
     "output_type": "stream",
     "text": [
      "helloworld\n"
     ]
    }
   ],
   "source": [
    "#creating an input from user\n",
    "extra_alph=input(\"Enter a string\")\n",
    "#for storing alphabets\n",
    "store_char=\"\"\n",
    "#ierating through loop and checking its alphabet or not by isalpha() and printing it\n",
    "for i in extra_alph:\n",
    "    if i.isalpha():\n",
    "        store_char+=i\n",
    "print(store_char)\n",
    "            \n",
    "\n"
   ]
  },
  {
   "cell_type": "code",
   "execution_count": null,
   "id": "72c41b5b-875a-4eb7-998a-ea4452a84e48",
   "metadata": {},
   "outputs": [],
   "source": [
    "#26. Count the number of uppercase letters in a string."
   ]
  },
  {
   "cell_type": "code",
   "execution_count": 33,
   "id": "0cead86a-7c6a-4aa0-aae9-5ac9c7bc13cd",
   "metadata": {},
   "outputs": [
    {
     "name": "stdin",
     "output_type": "stream",
     "text": [
      "Enter a string Have A Nice Day\n"
     ]
    },
    {
     "name": "stdout",
     "output_type": "stream",
     "text": [
      "4\n"
     ]
    }
   ],
   "source": [
    "#creating an user input string\n",
    "con_str=input(\"Enter a string\")\n",
    "#for storing alphabets\n",
    "store=\"\"\n",
    "#ierating through each char and checking if its upper case by isupper() and storeing it\n",
    "for i in con_str:\n",
    "    if i.isupper():\n",
    "        store+=i\n",
    "        #calculting the length of the upper case char\n",
    "        length_char=len(store)             \n",
    "print(length_char)        \n",
    "        "
   ]
  },
  {
   "cell_type": "code",
   "execution_count": null,
   "id": "1432d039-ee6a-4549-a29f-6ad2f2514caa",
   "metadata": {},
   "outputs": [],
   "source": [
    "#27. Count the number of lowercase letters in a string."
   ]
  },
  {
   "cell_type": "code",
   "execution_count": 1,
   "id": "1c10c96d-3ec9-4477-af65-6c98b4dfefe2",
   "metadata": {},
   "outputs": [
    {
     "name": "stdin",
     "output_type": "stream",
     "text": [
      "Enter a string Hello World\n"
     ]
    },
    {
     "name": "stdout",
     "output_type": "stream",
     "text": [
      "8\n"
     ]
    }
   ],
   "source": [
    "#creating an user input string\n",
    "conlow_str=input(\"Enter a string\")\n",
    "#for storing alphabets\n",
    "store1=\"\"\n",
    "#ierating through each char and checking if its lower case by islower() and storeing it\n",
    "for i in conlow_str:\n",
    "    if i.islower():\n",
    "        store1+=i\n",
    "        #calculting the length of the upper case char\n",
    "        length_char1=len(store1)             \n",
    "print(length_char1)        \n",
    "        "
   ]
  },
  {
   "cell_type": "code",
   "execution_count": 5,
   "id": "a51a81ca-2252-4d3a-8fc7-6ca292be2ea3",
   "metadata": {},
   "outputs": [
    {
     "name": "stdin",
     "output_type": "stream",
     "text": [
      "Enter a string HeLlo WoRlD\n"
     ]
    },
    {
     "name": "stdout",
     "output_type": "stream",
     "text": [
      "hElLO wOrLd\n"
     ]
    }
   ],
   "source": [
    "#creating input string\n",
    "sw_str=input(\"Enter a string\")\n",
    "#swaping the string using swapcase function \n",
    "swap_str=sw_str.swapcase()\n",
    "\n",
    "print(swap_str)\n"
   ]
  },
  {
   "cell_type": "code",
   "execution_count": null,
   "id": "77dcee97-463b-48a9-8b55-eaec04bfefd3",
   "metadata": {},
   "outputs": [],
   "source": [
    "#29. Remove a specific word from a string."
   ]
  },
  {
   "cell_type": "code",
   "execution_count": 11,
   "id": "971a2576-2ddb-4d4b-97e2-682bad335a00",
   "metadata": {},
   "outputs": [
    {
     "name": "stdin",
     "output_type": "stream",
     "text": [
      "Enter a string have a nice day\n",
      "Enter the word to remove nice\n"
     ]
    },
    {
     "name": "stdout",
     "output_type": "stream",
     "text": [
      "The string after deletion: have a day\n"
     ]
    }
   ],
   "source": [
    "#creating user input values\n",
    "txt=input(\"Enter a string\")\n",
    "#spliting the string\n",
    "word=txt.split()\n",
    "#input from which word to remove\n",
    "rem_word=input(\"Enter the word to remove\")\n",
    "count=0\n",
    "#ierating through each word and if word matches remove that word\n",
    "for i in word:\n",
    "    if i==rem_word:\n",
    "        word.remove(rem_word)\n",
    "        count=1\n",
    "        #joining the rest of the string\n",
    "    if count:\n",
    "        txt=' '.join(word)\n",
    "        print(\"The string after deletion:\", txt)\n",
    " \n",
    "               \n",
    "\n",
    "    "
   ]
  },
  {
   "cell_type": "code",
   "execution_count": null,
   "id": "93a50d48-7587-4642-b3bd-8642d983c267",
   "metadata": {},
   "outputs": [],
   "source": [
    "#30. Check if a string is a valid email address."
   ]
  },
  {
   "cell_type": "code",
   "execution_count": 1,
   "id": "9365cee4-c218-4ad4-979b-b087794b6f64",
   "metadata": {},
   "outputs": [],
   "source": [
    "#import regular expression module\n",
    "import re\n",
    "def valid_emailid(email):\n",
    "    #regular expression pattern for basic email validation\n",
    "    pattern = r'^[\\w\\.-]+@[\\w\\.-]+\\.\\w+$' \n",
    "    if re.match(pattern,email):\n",
    "        print(\"Its valid email id:\")\n",
    "    else:\n",
    "        print(\"Its not valid email id:\")\n",
    "        "
   ]
  },
  {
   "cell_type": "code",
   "execution_count": 7,
   "id": "38688bb6-89a0-4489-8ea9-ca0baca180e9",
   "metadata": {},
   "outputs": [
    {
     "name": "stdout",
     "output_type": "stream",
     "text": [
      "Its valid email id:\n"
     ]
    }
   ],
   "source": [
    "valid_emailid(\"email@emailid.com\")"
   ]
  },
  {
   "cell_type": "code",
   "execution_count": null,
   "id": "b70183b9-ed70-4205-80ce-29c51d5c05cb",
   "metadata": {},
   "outputs": [],
   "source": [
    "#31. Extract the username from an email address string."
   ]
  },
  {
   "cell_type": "code",
   "execution_count": 14,
   "id": "9d1768e2-007b-4513-8534-b847fea7407e",
   "metadata": {},
   "outputs": [],
   "source": [
    "#creating a funtion\n",
    "def extract_userid(email):\n",
    "    #using split function at email address at @ and take the first part\n",
    "    username=email.split('@')[0]\n",
    "    print(\"The user name:\" ,username)"
   ]
  },
  {
   "cell_type": "code",
   "execution_count": 17,
   "id": "2dbe0526-f38c-4653-ac57-0ef1bef89ba7",
   "metadata": {},
   "outputs": [
    {
     "name": "stdout",
     "output_type": "stream",
     "text": [
      "The user name: barbie\n"
     ]
    }
   ],
   "source": [
    "extract_userid(\"barbie@gmail.com\")"
   ]
  },
  {
   "cell_type": "code",
   "execution_count": null,
   "id": "5958d2aa-35bd-4b7c-8f9c-6d0ce5a2396a",
   "metadata": {},
   "outputs": [],
   "source": [
    "#32. Extract the domain name from an email address string."
   ]
  },
  {
   "cell_type": "code",
   "execution_count": 3,
   "id": "047ef962-2816-41b2-aa53-dbed9c843cc7",
   "metadata": {},
   "outputs": [],
   "source": [
    "#creating function\n",
    "def extract_domainname(email):\n",
    "     #using split function at email address at @ and take the second part\n",
    "    domain_name=email.split('@')[1]\n",
    "    print(\"The domain name is:\", domain_name)"
   ]
  },
  {
   "cell_type": "code",
   "execution_count": 4,
   "id": "ee017c79-0a5b-439a-b137-e10a659be209",
   "metadata": {},
   "outputs": [
    {
     "name": "stdout",
     "output_type": "stream",
     "text": [
      "The domain name is: gmail.com\n"
     ]
    }
   ],
   "source": [
    "extract_domainname(\"barbi@gmail.com\")"
   ]
  },
  {
   "cell_type": "code",
   "execution_count": null,
   "id": "41ca1e0c-e771-46f6-92e2-6fc2260cf80e",
   "metadata": {},
   "outputs": [],
   "source": [
    "#33. Replace multiple spaces in a string with a single space."
   ]
  },
  {
   "cell_type": "code",
   "execution_count": 8,
   "id": "69086c7b-c299-47bc-b578-71548fe4b53e",
   "metadata": {},
   "outputs": [],
   "source": [
    "def remove_multspace(text):\n",
    "    #spliting the string and joining with single space\n",
    "    clear_string=' '.join(text.split())\n",
    "    print(\"The single space string is:\", clear_string)"
   ]
  },
  {
   "cell_type": "code",
   "execution_count": 9,
   "id": "cf22f94c-0cf1-40e2-8db6-761e6b80bdf8",
   "metadata": {},
   "outputs": [
    {
     "name": "stdout",
     "output_type": "stream",
     "text": [
      "The single space string is: Hello Dear, How are you\n"
     ]
    }
   ],
   "source": [
    "remove_multspace(\"Hello Dear,  How are   you\")"
   ]
  },
  {
   "cell_type": "code",
   "execution_count": null,
   "id": "a6421686-4433-46b6-b907-d1a7051a0f25",
   "metadata": {},
   "outputs": [],
   "source": [
    "#38. Check if a string contains only digits."
   ]
  },
  {
   "cell_type": "code",
   "execution_count": 19,
   "id": "8151db63-39fe-40a4-b930-f06f3a1f40a6",
   "metadata": {},
   "outputs": [
    {
     "name": "stdin",
     "output_type": "stream",
     "text": [
      "Enter a string 1235\n"
     ]
    },
    {
     "name": "stdout",
     "output_type": "stream",
     "text": [
      "The string contains only digit\n"
     ]
    }
   ],
   "source": [
    "digi_str=input(\"Enter a string\")\n",
    "#checking the string only contains digit or not by isdigit() and print it\n",
    "if digi_str.isdigit():\n",
    "    print(\"The string contains only digit\")\n",
    "else:\n",
    "    print(\"The string is mixed\")\n"
   ]
  },
  {
   "cell_type": "code",
   "execution_count": null,
   "id": "3c289cb4-8e0e-4ace-b9e0-d78a6587bfb5",
   "metadata": {},
   "outputs": [],
   "source": [
    "#39. Check if a string contains only alphabets."
   ]
  },
  {
   "cell_type": "code",
   "execution_count": 22,
   "id": "99786b3e-3f0e-4210-9064-12fb39a817fb",
   "metadata": {},
   "outputs": [
    {
     "name": "stdin",
     "output_type": "stream",
     "text": [
      "Enter a string Hello\n"
     ]
    },
    {
     "name": "stdout",
     "output_type": "stream",
     "text": [
      "The string contains only alphabets\n"
     ]
    }
   ],
   "source": [
    "alph_str=input(\"Enter a string\")\n",
    "#checking the string only contains alphabets or not by isalpha() and print it\n",
    "if alph_str.isalpha():\n",
    "    print(\"The string contains only alphabets\")\n",
    "else:\n",
    "    print(\"The string contains digits also\")"
   ]
  },
  {
   "cell_type": "code",
   "execution_count": null,
   "id": "81c805c4-8f7a-4a9e-98bb-c59ed04b6386",
   "metadata": {},
   "outputs": [],
   "source": [
    "#40. Convert a string to a list of characters."
   ]
  },
  {
   "cell_type": "code",
   "execution_count": 9,
   "id": "c7d6964b-a797-42b5-8a50-df33eb96ad9c",
   "metadata": {},
   "outputs": [
    {
     "name": "stdin",
     "output_type": "stream",
     "text": [
      "Enter a string NICE\n"
     ]
    },
    {
     "name": "stdout",
     "output_type": "stream",
     "text": [
      "['N', 'I', 'C', 'E']\n"
     ]
    }
   ],
   "source": [
    "lis_str=input(\"Enter a string\")\n",
    "#using list () constructor to convert string to list of charcters\n",
    "list_string=list(lis_str)\n",
    "\n",
    "print(list_string)\n"
   ]
  },
  {
   "cell_type": "code",
   "execution_count": null,
   "id": "846c7ace-f95d-4d1f-943d-defd6b42fa4e",
   "metadata": {},
   "outputs": [],
   "source": [
    "#41. Check if two strings are anagrams."
   ]
  },
  {
   "cell_type": "code",
   "execution_count": 3,
   "id": "75eb005b-0cd9-4f4c-8133-2a43c15d99b6",
   "metadata": {},
   "outputs": [
    {
     "name": "stdin",
     "output_type": "stream",
     "text": [
      "Enter a string listen\n",
      "Enter a string silent\n"
     ]
    },
    {
     "name": "stdout",
     "output_type": "stream",
     "text": [
      "The inputed strings are anagrams\n"
     ]
    }
   ],
   "source": [
    "ana_str1=input(\"Enter a string\")\n",
    "ana_str2=input(\"Enter a string\")\n",
    "#checkig the stringa are anagrams or not\n",
    "if sorted(ana_str1)==sorted(ana_str2):\n",
    "    print(\"The Inputed strings are anagrams\")\n",
    "else:\n",
    "    print(\"The Inputed strings are not anagrams\")\n",
    "    \n"
   ]
  },
  {
   "cell_type": "code",
   "execution_count": null,
   "id": "52b59fcb-4d1c-4375-b90b-3b2553f47f1d",
   "metadata": {},
   "outputs": [],
   "source": [
    "#44. Find the most frequent word in a string."
   ]
  },
  {
   "cell_type": "code",
   "execution_count": 3,
   "id": "9a18b659-bd20-4dba-b287-083fe81c7955",
   "metadata": {},
   "outputs": [],
   "source": [
    "import re\n",
    "from collections import Counter\n",
    "\n",
    "def most_freq_word(input_string):\n",
    "    #removing puncutions and converting string to lower case\n",
    "    clean_string= re.sub(r'[^\\w\\s]', '', input_string).lower()\n",
    "    #spliting the strings\n",
    "    words=clean_string.split()\n",
    "    #using counter to count word frequencies\n",
    "    word_counter = Counter(words)\n",
    "    #finding the most common words\n",
    "    most_common_word = word_counter.most_common(1)[0][0]\n",
    "    return most_common_word"
   ]
  },
  {
   "cell_type": "code",
   "execution_count": 15,
   "id": "d7464a05-5ec8-4cab-8583-4bc64b2e2b51",
   "metadata": {},
   "outputs": [
    {
     "data": {
      "text/plain": [
       "'world'"
      ]
     },
     "execution_count": 15,
     "metadata": {},
     "output_type": "execute_result"
    }
   ],
   "source": [
    "most_freq_word(\"This world is soo beautiful, World so nice!\")"
   ]
  },
  {
   "cell_type": "code",
   "execution_count": null,
   "id": "90bbee6b-eea6-4d3b-9ef4-b60230a3d31d",
   "metadata": {},
   "outputs": [],
   "source": [
    "#45. Find all unique words in a string."
   ]
  },
  {
   "cell_type": "code",
   "execution_count": 11,
   "id": "1d562326-b3b5-4478-977e-2c5c68dfbbfd",
   "metadata": {},
   "outputs": [],
   "source": [
    "import re\n",
    "def unique_words(input_string):\n",
    "    clean_string= re.sub(r'[^\\w\\s]', '', input_string).lower()\n",
    "    #spliting the strings into words and convert to a set for uniquness\n",
    "    words=set(clean_string.split())\n",
    "    \n",
    "    return words\n"
   ]
  },
  {
   "cell_type": "code",
   "execution_count": 14,
   "id": "179167da-fde5-4e86-bf27-e7e02a2ca66e",
   "metadata": {},
   "outputs": [
    {
     "data": {
      "text/plain": [
       "{'beautiful', 'is', 'nice', 'so', 'soo', 'this', 'world'}"
      ]
     },
     "execution_count": 14,
     "metadata": {},
     "output_type": "execute_result"
    }
   ],
   "source": [
    "unique_words(\"This world is soo beautiful, World so nice!\")"
   ]
  },
  {
   "cell_type": "code",
   "execution_count": null,
   "id": "7e7d02ce-6ff1-4c41-9f9e-54c72ae30cfb",
   "metadata": {},
   "outputs": [],
   "source": [
    "#47. Check if a string contains any special characters."
   ]
  },
  {
   "cell_type": "code",
   "execution_count": 16,
   "id": "84c84d1b-e8bd-4ff7-832e-8d77f8428358",
   "metadata": {},
   "outputs": [],
   "source": [
    "import re\n",
    "def contains_spe(input_string):\n",
    "    # Define a regular expression pattern to match special characters\n",
    "    pattern=re.compile(r'[!@#$%^&*()_+{}\\[\\]:;<>,.?~\\\\/]')\n",
    "    #using search method to find a match\n",
    "    match =pattern.search(input_string)\n",
    "    return bool(match)\n"
   ]
  },
  {
   "cell_type": "code",
   "execution_count": 18,
   "id": "fd38e8a2-ef40-484a-97fa-2943de8a6193",
   "metadata": {},
   "outputs": [
    {
     "name": "stdout",
     "output_type": "stream",
     "text": [
      "The string contains special character: True\n"
     ]
    }
   ],
   "source": [
    "res=contains_spe(\"Hello, world!\")\n",
    "print(\"The string contains special character:\",res)"
   ]
  },
  {
   "cell_type": "code",
   "execution_count": null,
   "id": "f8f55871-d2a0-4b8a-ad84-8865a692b544",
   "metadata": {},
   "outputs": [],
   "source": [
    "#48. Remove the nth word from a string"
   ]
  },
  {
   "cell_type": "code",
   "execution_count": 3,
   "id": "f27ec4ae-b027-4908-84dd-0b0bcd67ee6d",
   "metadata": {},
   "outputs": [
    {
     "name": "stdin",
     "output_type": "stream",
     "text": [
      "Enter a string have a nice day\n",
      "Enter value 2\n"
     ]
    },
    {
     "name": "stdout",
     "output_type": "stream",
     "text": [
      "The modified string: have nice day\n"
     ]
    }
   ],
   "source": [
    "input_string=input(\"Enter a string\")\n",
    "n_value=int(input(\"Enter value\"))\n",
    "#spliting the strings into words              \n",
    "words=input_string.split()\n",
    "#checking if n is valid range                  \n",
    "if n_value>=1 and n_value<=len(words):\n",
    "#excluding the n value               \n",
    "    remove_word=words.pop(n_value-1)\n",
    "#joining the string                  \n",
    "    new_string=' '.join(words)\n",
    "    \n",
    "    print(\"The modified string:\",new_string)\n",
    "    "
   ]
  },
  {
   "cell_type": "code",
   "execution_count": null,
   "id": "8d5145ce-5a4b-40fe-a13e-1efbabbdfefc",
   "metadata": {},
   "outputs": [],
   "source": []
  },
  {
   "cell_type": "code",
   "execution_count": null,
   "id": "1cddd48b-2bd3-495f-8fe9-52d3ac49245e",
   "metadata": {},
   "outputs": [],
   "source": []
  }
 ],
 "metadata": {
  "kernelspec": {
   "display_name": "Python 3 (ipykernel)",
   "language": "python",
   "name": "python3"
  },
  "language_info": {
   "codemirror_mode": {
    "name": "ipython",
    "version": 3
   },
   "file_extension": ".py",
   "mimetype": "text/x-python",
   "name": "python",
   "nbconvert_exporter": "python",
   "pygments_lexer": "ipython3",
   "version": "3.10.8"
  }
 },
 "nbformat": 4,
 "nbformat_minor": 5
}
